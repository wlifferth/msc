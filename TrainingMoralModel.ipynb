{
 "cells": [
  {
   "cell_type": "code",
   "execution_count": 258,
   "metadata": {},
   "outputs": [
    {
     "name": "stderr",
     "output_type": "stream",
     "text": [
      "Using TensorFlow backend.\n"
     ]
    }
   ],
   "source": [
    "import numpy as np\n",
    "import pandas as pd\n",
    "import spacy\n",
    "import tensorflow as tf\n",
    "\n",
    "from random import choice, randint\n",
    "from sklearn.model_selection import train_test_split\n",
    "from tensorflow import keras"
   ]
  },
  {
   "cell_type": "code",
   "execution_count": 2,
   "metadata": {},
   "outputs": [],
   "source": [
    "nlp = spacy.load(\"en_vectors_web_lg\")"
   ]
  },
  {
   "cell_type": "markdown",
   "metadata": {},
   "source": [
    "# Creating vectors if they don't exist"
   ]
  },
  {
   "cell_type": "code",
   "execution_count": 10,
   "metadata": {},
   "outputs": [
    {
     "data": {
      "text/html": [
       "<div>\n",
       "<style scoped>\n",
       "    .dataframe tbody tr th:only-of-type {\n",
       "        vertical-align: middle;\n",
       "    }\n",
       "\n",
       "    .dataframe tbody tr th {\n",
       "        vertical-align: top;\n",
       "    }\n",
       "\n",
       "    .dataframe thead th {\n",
       "        text-align: right;\n",
       "    }\n",
       "</style>\n",
       "<table border=\"1\" class=\"dataframe\">\n",
       "  <thead>\n",
       "    <tr style=\"text-align: right;\">\n",
       "      <th></th>\n",
       "      <th>sample</th>\n",
       "      <th>moral_saliency</th>\n",
       "      <th>moral_intrinsicality</th>\n",
       "      <th>notes</th>\n",
       "    </tr>\n",
       "  </thead>\n",
       "  <tbody>\n",
       "    <tr>\n",
       "      <th>0</th>\n",
       "      <td>All human beings have inherent worth.</td>\n",
       "      <td>1</td>\n",
       "      <td>3</td>\n",
       "      <td>NaN</td>\n",
       "    </tr>\n",
       "    <tr>\n",
       "      <th>1</th>\n",
       "      <td>It's wrong to exploit people you have power over.</td>\n",
       "      <td>1</td>\n",
       "      <td>2</td>\n",
       "      <td>NaN</td>\n",
       "    </tr>\n",
       "    <tr>\n",
       "      <th>2</th>\n",
       "      <td>Jeff Bezos is an evail man.</td>\n",
       "      <td>1</td>\n",
       "      <td>1</td>\n",
       "      <td>NaN</td>\n",
       "    </tr>\n",
       "    <tr>\n",
       "      <th>3</th>\n",
       "      <td>All human beings have a brain that resides in ...</td>\n",
       "      <td>0</td>\n",
       "      <td>0</td>\n",
       "      <td>NaN</td>\n",
       "    </tr>\n",
       "    <tr>\n",
       "      <th>4</th>\n",
       "      <td>It's wrong to assume that one plus one is equa...</td>\n",
       "      <td>0</td>\n",
       "      <td>0</td>\n",
       "      <td>NaN</td>\n",
       "    </tr>\n",
       "  </tbody>\n",
       "</table>\n",
       "</div>"
      ],
      "text/plain": [
       "                                              sample  moral_saliency  \\\n",
       "0              All human beings have inherent worth.               1   \n",
       "1  It's wrong to exploit people you have power over.               1   \n",
       "2                        Jeff Bezos is an evail man.               1   \n",
       "3  All human beings have a brain that resides in ...               0   \n",
       "4  It's wrong to assume that one plus one is equa...               0   \n",
       "\n",
       "   moral_intrinsicality notes  \n",
       "0                     3   NaN  \n",
       "1                     2   NaN  \n",
       "2                     1   NaN  \n",
       "3                     0   NaN  \n",
       "4                     0   NaN  "
      ]
     },
     "execution_count": 10,
     "metadata": {},
     "output_type": "execute_result"
    }
   ],
   "source": [
    "text_df = pd.read_csv(\"data/moral_samples.csv\")\n",
    "text_df.head()"
   ]
  },
  {
   "cell_type": "markdown",
   "metadata": {},
   "source": [
    "vectors_df = text_df.rename(index=str, columns={\"smaple\": \"text\"})\n",
    "vectors_df[\"text\"] = vectors_df[\"sample\"]\n",
    "vectors_df = vectors_df.drop([\"sample\", \"notes\"], axis=1)\n",
    "vectors_df[\"vector\"] = vectors_df[\"text\"].apply(lambda text: nlp(text).vector)\n",
    "vectors_df.head()"
   ]
  },
  {
   "cell_type": "code",
   "execution_count": 12,
   "metadata": {},
   "outputs": [
    {
     "name": "stderr",
     "output_type": "stream",
     "text": [
      "/Users/wlifferth/anaconda3/lib/python3.6/site-packages/pandas/core/generic.py:2378: PerformanceWarning: \n",
      "your performance may suffer as PyTables will pickle object types that it cannot\n",
      "map directly to c-types [inferred_type->mixed,key->block1_values] [items->['text', 'vector']]\n",
      "\n",
      "  return pytables.to_hdf(path_or_buf, key, self, **kwargs)\n"
     ]
    }
   ],
   "source": [
    "vectors_df.to_hdf(\"data/moral_vectors.hdf\", key=\"df\")"
   ]
  },
  {
   "cell_type": "code",
   "execution_count": 139,
   "metadata": {},
   "outputs": [],
   "source": [
    "vectors_df = pd.read_hdf(\"data/moral_vectors.hdf\", key=\"df\")"
   ]
  },
  {
   "cell_type": "markdown",
   "metadata": {},
   "source": [
    "# Decide what our Test/Train split"
   ]
  },
  {
   "cell_type": "markdown",
   "metadata": {},
   "source": [
    "### Run one of these"
   ]
  },
  {
   "cell_type": "code",
   "execution_count": 140,
   "metadata": {},
   "outputs": [],
   "source": [
    "# Random split\n",
    "msk = np.random.rand(len(vectors_df)) < 0.2\n",
    "test_df = vectors_df[msk]\n",
    "train_df = vectors_df[~msk]"
   ]
  },
  {
   "cell_type": "code",
   "execution_count": 231,
   "metadata": {},
   "outputs": [],
   "source": [
    "# Make Sure our positive test cases are abstract\n",
    "positive_df = vectors_df[vectors_df[\"moral_saliency\"] == 1]\n",
    "negative_df = vectors_df[vectors_df[\"moral_saliency\"] == 0]\n",
    "negative_train = negative_df.sample(frac=0.5)\n",
    "negative_test = negative_df.drop(negative_train.index)\n",
    "train_df = pd.concat([positive_df[positive_df[\"moral_intrinsicality\"] == 3], negative_train]).sample(frac=1)\n",
    "test_df = pd.concat([positive_df[positive_df[\"moral_intrinsicality\"] != 3], negative_test]).sample(frac=1)"
   ]
  },
  {
   "cell_type": "code",
   "execution_count": 208,
   "metadata": {},
   "outputs": [],
   "source": [
    "# Make Sure our positive test cases are abstract\n",
    "positive_df = vectors_df[vectors_df[\"moral_saliency\"] == 1]\n",
    "negative_df = vectors_df[vectors_df[\"moral_saliency\"] == 0]\n",
    "msk = np.random.rand(len(negative_df)) < 0.5\n",
    "train_df = pd.concat([positive_df[positive_df[\"moral_intrinsicality\"] == 2], negative_df[msk]]).sample(frac=1)\n",
    "test_df = pd.concat([positive_df[positive_df[\"moral_intrinsicality\"] != 2], negative_df[~msk]]).sample(frac=1)"
   ]
  },
  {
   "cell_type": "code",
   "execution_count": null,
   "metadata": {},
   "outputs": [],
   "source": [
    "# Make Sure our positive test cases are abstract\n",
    "positive_df = vectors_df[vectors_df[\"moral_saliency\"] == 1]\n",
    "negative_df = vectors_df[vectors_df[\"moral_saliency\"] == 0]\n",
    "msk = np.random.rand(len(negative_df)) < 0.5\n",
    "train_df = pd.concat([positive_df[positive_df[\"moral_intrinsicality\"] == 1], negative_df[msk]]).sample(frac=1)\n",
    "test_df = pd.concat([positive_df[positive_df[\"moral_intrinsicality\"] != 1], negative_df[~msk]]).sample(frac=1)"
   ]
  },
  {
   "cell_type": "markdown",
   "metadata": {},
   "source": [
    "# Generate Some \"Synthetic\" Data"
   ]
  },
  {
   "cell_type": "code",
   "execution_count": 232,
   "metadata": {},
   "outputs": [],
   "source": [
    "noisy_df = pd.DataFrame({\"moral_saliency\": [], \"moral_intrinsicality\": [], \"text\": [], \"vector\": []})"
   ]
  },
  {
   "cell_type": "markdown",
   "metadata": {},
   "source": [
    "### Inset Random Char"
   ]
  },
  {
   "cell_type": "code",
   "execution_count": 233,
   "metadata": {},
   "outputs": [],
   "source": [
    "rand_char_insert_data = {\"moral_saliency\": [], \"moral_intrinsicality\": [], \"text\": [], \"vector\": []}"
   ]
  },
  {
   "cell_type": "code",
   "execution_count": 234,
   "metadata": {},
   "outputs": [],
   "source": [
    "chars = list(\"abcdefghijklmnopqrstuvwxyz0123456789\")\n",
    "for index, row in train_df.iterrows():\n",
    "    text = row[\"text\"]\n",
    "    insert_index = randint(0, len(text))\n",
    "    rand_char = choice(chars)\n",
    "    new_text = text[:insert_index] + rand_char + text[insert_index:]\n",
    "    rand_char_insert_data[\"text\"].append(new_text)\n",
    "    rand_char_insert_data[\"moral_saliency\"].append(row[\"moral_saliency\"])\n",
    "    rand_char_insert_data[\"moral_intrinsicality\"].append(row[\"moral_intrinsicality\"])\n",
    "    rand_char_insert_data[\"vector\"].append(nlp(new_text).vector)"
   ]
  },
  {
   "cell_type": "code",
   "execution_count": 235,
   "metadata": {},
   "outputs": [
    {
     "name": "stdout",
     "output_type": "stream",
     "text": [
      "40\n"
     ]
    },
    {
     "data": {
      "text/html": [
       "<div>\n",
       "<style scoped>\n",
       "    .dataframe tbody tr th:only-of-type {\n",
       "        vertical-align: middle;\n",
       "    }\n",
       "\n",
       "    .dataframe tbody tr th {\n",
       "        vertical-align: top;\n",
       "    }\n",
       "\n",
       "    .dataframe thead th {\n",
       "        text-align: right;\n",
       "    }\n",
       "</style>\n",
       "<table border=\"1\" class=\"dataframe\">\n",
       "  <thead>\n",
       "    <tr style=\"text-align: right;\">\n",
       "      <th></th>\n",
       "      <th>moral_saliency</th>\n",
       "      <th>moral_intrinsicality</th>\n",
       "      <th>text</th>\n",
       "      <th>vector</th>\n",
       "    </tr>\n",
       "  </thead>\n",
       "  <tbody>\n",
       "    <tr>\n",
       "      <th>0</th>\n",
       "      <td>0.0</td>\n",
       "      <td>0.0</td>\n",
       "      <td>I think this is thes first book I've ever hated.</td>\n",
       "      <td>[-0.039986417, 0.20880084, -0.17606848, -0.274...</td>\n",
       "    </tr>\n",
       "    <tr>\n",
       "      <th>1</th>\n",
       "      <td>1.0</td>\n",
       "      <td>3.0</td>\n",
       "      <td>Drug addiction can rnob a person of their free...</td>\n",
       "      <td>[-0.094240494, 0.18061209, -0.11198693, -0.013...</td>\n",
       "    </tr>\n",
       "    <tr>\n",
       "      <th>2</th>\n",
       "      <td>1.0</td>\n",
       "      <td>3.0</td>\n",
       "      <td>A woman has a right to herj own body and to ma...</td>\n",
       "      <td>[-0.0030626676, 0.17343123, -0.16255562, 0.155...</td>\n",
       "    </tr>\n",
       "    <tr>\n",
       "      <th>3</th>\n",
       "      <td>0.0</td>\n",
       "      <td>0.0</td>\n",
       "      <td>These highlighters come in pretty colors, but ...</td>\n",
       "      <td>[-0.06329271, 0.17525336, -0.14811607, -0.1231...</td>\n",
       "    </tr>\n",
       "    <tr>\n",
       "      <th>4</th>\n",
       "      <td>1.0</td>\n",
       "      <td>3.0</td>\n",
       "      <td>All human beings have inhere9nt worth.</td>\n",
       "      <td>[-0.21430875, -0.029681427, -0.1463257, -0.206...</td>\n",
       "    </tr>\n",
       "  </tbody>\n",
       "</table>\n",
       "</div>"
      ],
      "text/plain": [
       "   moral_saliency  moral_intrinsicality  \\\n",
       "0             0.0                   0.0   \n",
       "1             1.0                   3.0   \n",
       "2             1.0                   3.0   \n",
       "3             0.0                   0.0   \n",
       "4             1.0                   3.0   \n",
       "\n",
       "                                                text  \\\n",
       "0   I think this is thes first book I've ever hated.   \n",
       "1  Drug addiction can rnob a person of their free...   \n",
       "2  A woman has a right to herj own body and to ma...   \n",
       "3  These highlighters come in pretty colors, but ...   \n",
       "4             All human beings have inhere9nt worth.   \n",
       "\n",
       "                                              vector  \n",
       "0  [-0.039986417, 0.20880084, -0.17606848, -0.274...  \n",
       "1  [-0.094240494, 0.18061209, -0.11198693, -0.013...  \n",
       "2  [-0.0030626676, 0.17343123, -0.16255562, 0.155...  \n",
       "3  [-0.06329271, 0.17525336, -0.14811607, -0.1231...  \n",
       "4  [-0.21430875, -0.029681427, -0.1463257, -0.206...  "
      ]
     },
     "execution_count": 235,
     "metadata": {},
     "output_type": "execute_result"
    }
   ],
   "source": [
    "noisy_df = pd.concat([noisy_df, pd.DataFrame(rand_char_insert_data)])\n",
    "print(len(noisy_df))\n",
    "noisy_df.head()"
   ]
  },
  {
   "cell_type": "markdown",
   "metadata": {},
   "source": [
    "### Delete Random Char"
   ]
  },
  {
   "cell_type": "code",
   "execution_count": 236,
   "metadata": {},
   "outputs": [],
   "source": [
    "rand_char_del_data = {\"moral_saliency\": [], \"moral_intrinsicality\": [], \"text\": [], \"vector\": []}"
   ]
  },
  {
   "cell_type": "code",
   "execution_count": 237,
   "metadata": {},
   "outputs": [],
   "source": [
    "for index, row in train_df.iterrows():\n",
    "    text = row[\"text\"]\n",
    "    delete_index = randint(0, len(text))\n",
    "    rand_char = choice(chars)\n",
    "    new_text = text[:delete_index-1] + text[delete_index:]\n",
    "    rand_char_del_data[\"text\"].append(new_text)\n",
    "    rand_char_del_data[\"moral_saliency\"].append(row[\"moral_saliency\"])\n",
    "    rand_char_del_data[\"moral_intrinsicality\"].append(row[\"moral_intrinsicality\"])\n",
    "    rand_char_del_data[\"vector\"].append(nlp(new_text).vector)"
   ]
  },
  {
   "cell_type": "code",
   "execution_count": 238,
   "metadata": {},
   "outputs": [
    {
     "name": "stdout",
     "output_type": "stream",
     "text": [
      "80\n"
     ]
    },
    {
     "data": {
      "text/html": [
       "<div>\n",
       "<style scoped>\n",
       "    .dataframe tbody tr th:only-of-type {\n",
       "        vertical-align: middle;\n",
       "    }\n",
       "\n",
       "    .dataframe tbody tr th {\n",
       "        vertical-align: top;\n",
       "    }\n",
       "\n",
       "    .dataframe thead th {\n",
       "        text-align: right;\n",
       "    }\n",
       "</style>\n",
       "<table border=\"1\" class=\"dataframe\">\n",
       "  <thead>\n",
       "    <tr style=\"text-align: right;\">\n",
       "      <th></th>\n",
       "      <th>moral_saliency</th>\n",
       "      <th>moral_intrinsicality</th>\n",
       "      <th>text</th>\n",
       "      <th>vector</th>\n",
       "    </tr>\n",
       "  </thead>\n",
       "  <tbody>\n",
       "    <tr>\n",
       "      <th>0</th>\n",
       "      <td>0.0</td>\n",
       "      <td>0.0</td>\n",
       "      <td>I think this is thes first book I've ever hated.</td>\n",
       "      <td>[-0.039986417, 0.20880084, -0.17606848, -0.274...</td>\n",
       "    </tr>\n",
       "    <tr>\n",
       "      <th>1</th>\n",
       "      <td>1.0</td>\n",
       "      <td>3.0</td>\n",
       "      <td>Drug addiction can rnob a person of their free...</td>\n",
       "      <td>[-0.094240494, 0.18061209, -0.11198693, -0.013...</td>\n",
       "    </tr>\n",
       "    <tr>\n",
       "      <th>2</th>\n",
       "      <td>1.0</td>\n",
       "      <td>3.0</td>\n",
       "      <td>A woman has a right to herj own body and to ma...</td>\n",
       "      <td>[-0.0030626676, 0.17343123, -0.16255562, 0.155...</td>\n",
       "    </tr>\n",
       "    <tr>\n",
       "      <th>3</th>\n",
       "      <td>0.0</td>\n",
       "      <td>0.0</td>\n",
       "      <td>These highlighters come in pretty colors, but ...</td>\n",
       "      <td>[-0.06329271, 0.17525336, -0.14811607, -0.1231...</td>\n",
       "    </tr>\n",
       "    <tr>\n",
       "      <th>4</th>\n",
       "      <td>1.0</td>\n",
       "      <td>3.0</td>\n",
       "      <td>All human beings have inhere9nt worth.</td>\n",
       "      <td>[-0.21430875, -0.029681427, -0.1463257, -0.206...</td>\n",
       "    </tr>\n",
       "  </tbody>\n",
       "</table>\n",
       "</div>"
      ],
      "text/plain": [
       "   moral_saliency  moral_intrinsicality  \\\n",
       "0             0.0                   0.0   \n",
       "1             1.0                   3.0   \n",
       "2             1.0                   3.0   \n",
       "3             0.0                   0.0   \n",
       "4             1.0                   3.0   \n",
       "\n",
       "                                                text  \\\n",
       "0   I think this is thes first book I've ever hated.   \n",
       "1  Drug addiction can rnob a person of their free...   \n",
       "2  A woman has a right to herj own body and to ma...   \n",
       "3  These highlighters come in pretty colors, but ...   \n",
       "4             All human beings have inhere9nt worth.   \n",
       "\n",
       "                                              vector  \n",
       "0  [-0.039986417, 0.20880084, -0.17606848, -0.274...  \n",
       "1  [-0.094240494, 0.18061209, -0.11198693, -0.013...  \n",
       "2  [-0.0030626676, 0.17343123, -0.16255562, 0.155...  \n",
       "3  [-0.06329271, 0.17525336, -0.14811607, -0.1231...  \n",
       "4  [-0.21430875, -0.029681427, -0.1463257, -0.206...  "
      ]
     },
     "execution_count": 238,
     "metadata": {},
     "output_type": "execute_result"
    }
   ],
   "source": [
    "noisy_df = pd.concat([noisy_df, pd.DataFrame(rand_char_del_data)])\n",
    "print(len(noisy_df))\n",
    "noisy_df.head()"
   ]
  },
  {
   "cell_type": "markdown",
   "metadata": {},
   "source": [
    "### Substitue Random Char"
   ]
  },
  {
   "cell_type": "code",
   "execution_count": 239,
   "metadata": {},
   "outputs": [],
   "source": [
    "rand_char_sub_data = {\"moral_saliency\": [], \"moral_intrinsicality\": [], \"text\": [], \"vector\": []}"
   ]
  },
  {
   "cell_type": "code",
   "execution_count": 240,
   "metadata": {},
   "outputs": [],
   "source": [
    "for index, row in train_df.iterrows():\n",
    "    text = row[\"text\"]\n",
    "    sub_index = randint(0, len(text))\n",
    "    rand_char = choice(chars)\n",
    "    new_text = text[:sub_index-1] + rand_char + text[sub_index:]\n",
    "    rand_char_sub_data[\"text\"].append(new_text)\n",
    "    rand_char_sub_data[\"moral_saliency\"].append(row[\"moral_saliency\"])\n",
    "    rand_char_sub_data[\"moral_intrinsicality\"].append(row[\"moral_intrinsicality\"])\n",
    "    rand_char_sub_data[\"vector\"].append(nlp(new_text).vector)"
   ]
  },
  {
   "cell_type": "code",
   "execution_count": 241,
   "metadata": {},
   "outputs": [
    {
     "name": "stdout",
     "output_type": "stream",
     "text": [
      "120\n"
     ]
    },
    {
     "data": {
      "text/html": [
       "<div>\n",
       "<style scoped>\n",
       "    .dataframe tbody tr th:only-of-type {\n",
       "        vertical-align: middle;\n",
       "    }\n",
       "\n",
       "    .dataframe tbody tr th {\n",
       "        vertical-align: top;\n",
       "    }\n",
       "\n",
       "    .dataframe thead th {\n",
       "        text-align: right;\n",
       "    }\n",
       "</style>\n",
       "<table border=\"1\" class=\"dataframe\">\n",
       "  <thead>\n",
       "    <tr style=\"text-align: right;\">\n",
       "      <th></th>\n",
       "      <th>moral_saliency</th>\n",
       "      <th>moral_intrinsicality</th>\n",
       "      <th>text</th>\n",
       "      <th>vector</th>\n",
       "    </tr>\n",
       "  </thead>\n",
       "  <tbody>\n",
       "    <tr>\n",
       "      <th>0</th>\n",
       "      <td>0.0</td>\n",
       "      <td>0.0</td>\n",
       "      <td>I think this is thes first book I've ever hated.</td>\n",
       "      <td>[-0.039986417, 0.20880084, -0.17606848, -0.274...</td>\n",
       "    </tr>\n",
       "    <tr>\n",
       "      <th>1</th>\n",
       "      <td>1.0</td>\n",
       "      <td>3.0</td>\n",
       "      <td>Drug addiction can rnob a person of their free...</td>\n",
       "      <td>[-0.094240494, 0.18061209, -0.11198693, -0.013...</td>\n",
       "    </tr>\n",
       "    <tr>\n",
       "      <th>2</th>\n",
       "      <td>1.0</td>\n",
       "      <td>3.0</td>\n",
       "      <td>A woman has a right to herj own body and to ma...</td>\n",
       "      <td>[-0.0030626676, 0.17343123, -0.16255562, 0.155...</td>\n",
       "    </tr>\n",
       "    <tr>\n",
       "      <th>3</th>\n",
       "      <td>0.0</td>\n",
       "      <td>0.0</td>\n",
       "      <td>These highlighters come in pretty colors, but ...</td>\n",
       "      <td>[-0.06329271, 0.17525336, -0.14811607, -0.1231...</td>\n",
       "    </tr>\n",
       "    <tr>\n",
       "      <th>4</th>\n",
       "      <td>1.0</td>\n",
       "      <td>3.0</td>\n",
       "      <td>All human beings have inhere9nt worth.</td>\n",
       "      <td>[-0.21430875, -0.029681427, -0.1463257, -0.206...</td>\n",
       "    </tr>\n",
       "  </tbody>\n",
       "</table>\n",
       "</div>"
      ],
      "text/plain": [
       "   moral_saliency  moral_intrinsicality  \\\n",
       "0             0.0                   0.0   \n",
       "1             1.0                   3.0   \n",
       "2             1.0                   3.0   \n",
       "3             0.0                   0.0   \n",
       "4             1.0                   3.0   \n",
       "\n",
       "                                                text  \\\n",
       "0   I think this is thes first book I've ever hated.   \n",
       "1  Drug addiction can rnob a person of their free...   \n",
       "2  A woman has a right to herj own body and to ma...   \n",
       "3  These highlighters come in pretty colors, but ...   \n",
       "4             All human beings have inhere9nt worth.   \n",
       "\n",
       "                                              vector  \n",
       "0  [-0.039986417, 0.20880084, -0.17606848, -0.274...  \n",
       "1  [-0.094240494, 0.18061209, -0.11198693, -0.013...  \n",
       "2  [-0.0030626676, 0.17343123, -0.16255562, 0.155...  \n",
       "3  [-0.06329271, 0.17525336, -0.14811607, -0.1231...  \n",
       "4  [-0.21430875, -0.029681427, -0.1463257, -0.206...  "
      ]
     },
     "execution_count": 241,
     "metadata": {},
     "output_type": "execute_result"
    }
   ],
   "source": [
    "noisy_df = pd.concat([noisy_df, pd.DataFrame(rand_char_sub_data)])\n",
    "print(len(noisy_df))\n",
    "noisy_df.head()"
   ]
  },
  {
   "cell_type": "markdown",
   "metadata": {},
   "source": [
    "### Delete Random Word"
   ]
  },
  {
   "cell_type": "code",
   "execution_count": 242,
   "metadata": {},
   "outputs": [],
   "source": [
    "rand_word_del_data = {\"moral_saliency\": [], \"moral_intrinsicality\": [], \"text\": [], \"vector\": []}"
   ]
  },
  {
   "cell_type": "code",
   "execution_count": 243,
   "metadata": {},
   "outputs": [],
   "source": [
    "for index, row in train_df.iterrows():\n",
    "    words = row[\"text\"].split()\n",
    "    del_index = randint(0, len(text))\n",
    "    new_text = \" \".join(words[:sub_index-1] + words[sub_index:])\n",
    "    rand_word_del_data[\"text\"].append(new_text)\n",
    "    rand_word_del_data[\"moral_saliency\"].append(row[\"moral_saliency\"])\n",
    "    rand_word_del_data[\"moral_intrinsicality\"].append(row[\"moral_intrinsicality\"])\n",
    "    rand_word_del_data[\"vector\"].append(nlp(new_text).vector)"
   ]
  },
  {
   "cell_type": "code",
   "execution_count": 244,
   "metadata": {},
   "outputs": [
    {
     "name": "stdout",
     "output_type": "stream",
     "text": [
      "160\n"
     ]
    },
    {
     "data": {
      "text/html": [
       "<div>\n",
       "<style scoped>\n",
       "    .dataframe tbody tr th:only-of-type {\n",
       "        vertical-align: middle;\n",
       "    }\n",
       "\n",
       "    .dataframe tbody tr th {\n",
       "        vertical-align: top;\n",
       "    }\n",
       "\n",
       "    .dataframe thead th {\n",
       "        text-align: right;\n",
       "    }\n",
       "</style>\n",
       "<table border=\"1\" class=\"dataframe\">\n",
       "  <thead>\n",
       "    <tr style=\"text-align: right;\">\n",
       "      <th></th>\n",
       "      <th>moral_saliency</th>\n",
       "      <th>moral_intrinsicality</th>\n",
       "      <th>text</th>\n",
       "      <th>vector</th>\n",
       "    </tr>\n",
       "  </thead>\n",
       "  <tbody>\n",
       "    <tr>\n",
       "      <th>0</th>\n",
       "      <td>0.0</td>\n",
       "      <td>0.0</td>\n",
       "      <td>I think this is the first book I've ever hated.</td>\n",
       "      <td>[-0.012673001, 0.23964083, -0.18042934, -0.229...</td>\n",
       "    </tr>\n",
       "    <tr>\n",
       "      <th>1</th>\n",
       "      <td>1.0</td>\n",
       "      <td>3.0</td>\n",
       "      <td>Drug addiction can rob a person of their freed...</td>\n",
       "      <td>[-0.1253105, 0.18894875, -0.13488442, -0.01481...</td>\n",
       "    </tr>\n",
       "    <tr>\n",
       "      <th>2</th>\n",
       "      <td>1.0</td>\n",
       "      <td>3.0</td>\n",
       "      <td>A woman has a right to her own body and to dec...</td>\n",
       "      <td>[0.019030118, 0.18027502, -0.1611136, 0.199858...</td>\n",
       "    </tr>\n",
       "    <tr>\n",
       "      <th>3</th>\n",
       "      <td>0.0</td>\n",
       "      <td>0.0</td>\n",
       "      <td>These highlighters come in pretty colors, but ...</td>\n",
       "      <td>[-0.080520436, 0.1890338, -0.14695458, -0.1265...</td>\n",
       "    </tr>\n",
       "    <tr>\n",
       "      <th>4</th>\n",
       "      <td>1.0</td>\n",
       "      <td>3.0</td>\n",
       "      <td>All human beings have inherent worth.</td>\n",
       "      <td>[-0.24293303, 0.035708573, -0.10840428, -0.148...</td>\n",
       "    </tr>\n",
       "  </tbody>\n",
       "</table>\n",
       "</div>"
      ],
      "text/plain": [
       "   moral_saliency  moral_intrinsicality  \\\n",
       "0             0.0                   0.0   \n",
       "1             1.0                   3.0   \n",
       "2             1.0                   3.0   \n",
       "3             0.0                   0.0   \n",
       "4             1.0                   3.0   \n",
       "\n",
       "                                                text  \\\n",
       "0    I think this is the first book I've ever hated.   \n",
       "1  Drug addiction can rob a person of their freed...   \n",
       "2  A woman has a right to her own body and to dec...   \n",
       "3  These highlighters come in pretty colors, but ...   \n",
       "4              All human beings have inherent worth.   \n",
       "\n",
       "                                              vector  \n",
       "0  [-0.012673001, 0.23964083, -0.18042934, -0.229...  \n",
       "1  [-0.1253105, 0.18894875, -0.13488442, -0.01481...  \n",
       "2  [0.019030118, 0.18027502, -0.1611136, 0.199858...  \n",
       "3  [-0.080520436, 0.1890338, -0.14695458, -0.1265...  \n",
       "4  [-0.24293303, 0.035708573, -0.10840428, -0.148...  "
      ]
     },
     "execution_count": 244,
     "metadata": {},
     "output_type": "execute_result"
    }
   ],
   "source": [
    "noisy_df = pd.concat([pd.DataFrame(rand_word_del_data), noisy_df])\n",
    "print(len(noisy_df))\n",
    "noisy_df.head()"
   ]
  },
  {
   "cell_type": "markdown",
   "metadata": {},
   "source": [
    "# Add Synthetic Data In"
   ]
  },
  {
   "cell_type": "code",
   "execution_count": 245,
   "metadata": {},
   "outputs": [
    {
     "data": {
      "text/plain": [
       "200"
      ]
     },
     "execution_count": 245,
     "metadata": {},
     "output_type": "execute_result"
    }
   ],
   "source": [
    "train_df = pd.concat([train_df, noisy_df])\n",
    "len(train_df)"
   ]
  },
  {
   "cell_type": "markdown",
   "metadata": {},
   "source": [
    "# Formatting data for training"
   ]
  },
  {
   "cell_type": "code",
   "execution_count": 246,
   "metadata": {},
   "outputs": [
    {
     "data": {
      "text/plain": [
       "(200, 300)"
      ]
     },
     "execution_count": 246,
     "metadata": {},
     "output_type": "execute_result"
    }
   ],
   "source": [
    "input_train_data = np.stack(train_df.sample(frac=1)['vector'].values, axis=0)\n",
    "input_train_data.shape"
   ]
  },
  {
   "cell_type": "code",
   "execution_count": 247,
   "metadata": {},
   "outputs": [
    {
     "data": {
      "text/plain": [
       "(60, 300)"
      ]
     },
     "execution_count": 247,
     "metadata": {},
     "output_type": "execute_result"
    }
   ],
   "source": [
    "input_test_data = np.stack(test_df.sample(frac=1)['vector'].values, axis=0)\n",
    "input_test_data.shape"
   ]
  },
  {
   "cell_type": "code",
   "execution_count": 248,
   "metadata": {},
   "outputs": [
    {
     "data": {
      "text/plain": [
       "(200, 1)"
      ]
     },
     "execution_count": 248,
     "metadata": {},
     "output_type": "execute_result"
    }
   ],
   "source": [
    "label_train_data = train_df[['moral_saliency']].values\n",
    "label_train_data.shape"
   ]
  },
  {
   "cell_type": "code",
   "execution_count": 249,
   "metadata": {},
   "outputs": [
    {
     "data": {
      "text/plain": [
       "(60, 1)"
      ]
     },
     "execution_count": 249,
     "metadata": {},
     "output_type": "execute_result"
    }
   ],
   "source": [
    "label_test_data = test_df[['moral_saliency']].values\n",
    "label_test_data.shape"
   ]
  },
  {
   "cell_type": "code",
   "execution_count": null,
   "metadata": {},
   "outputs": [],
   "source": []
  },
  {
   "cell_type": "markdown",
   "metadata": {},
   "source": [
    "# Training a Model"
   ]
  },
  {
   "cell_type": "code",
   "execution_count": 255,
   "metadata": {},
   "outputs": [],
   "source": [
    "model = keras.Sequential()\n",
    "model.add(keras.layers.Dense(300, activation=tf.nn.relu))\n",
    "model.add(keras.layers.Dropout(0.2, input_shape=(300,)))\n",
    "model.add(keras.layers.Dense(8, activation=tf.nn.relu))\n",
    "model.add(keras.layers.Dense(1, activation=tf.nn.sigmoid))"
   ]
  },
  {
   "cell_type": "code",
   "execution_count": 256,
   "metadata": {},
   "outputs": [],
   "source": [
    "model.compile(optimizer='adam',\n",
    "              loss='binary_crossentropy',\n",
    "              metrics=['accuracy'])"
   ]
  },
  {
   "cell_type": "code",
   "execution_count": 257,
   "metadata": {},
   "outputs": [
    {
     "name": "stdout",
     "output_type": "stream",
     "text": [
      "Train on 200 samples, validate on 60 samples\n",
      "Epoch 1/16\n",
      "200/200 [==============================] - 1s 7ms/step - loss: 0.6832 - acc: 0.6000 - val_loss: 0.7467 - val_acc: 0.4167\n",
      "Epoch 2/16\n",
      "200/200 [==============================] - 0s 148us/step - loss: 0.6594 - acc: 0.6250 - val_loss: 0.7993 - val_acc: 0.4167\n",
      "Epoch 3/16\n",
      "200/200 [==============================] - 0s 186us/step - loss: 0.6506 - acc: 0.6250 - val_loss: 0.7863 - val_acc: 0.4167\n",
      "Epoch 4/16\n",
      "200/200 [==============================] - 0s 147us/step - loss: 0.6401 - acc: 0.6250 - val_loss: 0.7787 - val_acc: 0.4167\n",
      "Epoch 5/16\n",
      "200/200 [==============================] - 0s 131us/step - loss: 0.6306 - acc: 0.6400 - val_loss: 0.7781 - val_acc: 0.4167\n",
      "Epoch 6/16\n",
      "200/200 [==============================] - 0s 120us/step - loss: 0.6212 - acc: 0.6400 - val_loss: 0.7493 - val_acc: 0.4167\n",
      "Epoch 7/16\n",
      "200/200 [==============================] - 0s 124us/step - loss: 0.6162 - acc: 0.6400 - val_loss: 0.7375 - val_acc: 0.4333\n",
      "Epoch 8/16\n",
      "200/200 [==============================] - 0s 125us/step - loss: 0.6135 - acc: 0.6650 - val_loss: 0.7323 - val_acc: 0.4167\n",
      "Epoch 9/16\n",
      "200/200 [==============================] - 0s 128us/step - loss: 0.6036 - acc: 0.6750 - val_loss: 0.7639 - val_acc: 0.4167\n",
      "Epoch 10/16\n",
      "200/200 [==============================] - 0s 126us/step - loss: 0.6038 - acc: 0.6650 - val_loss: 0.8117 - val_acc: 0.4167\n",
      "Epoch 11/16\n",
      "200/200 [==============================] - 0s 122us/step - loss: 0.5985 - acc: 0.6650 - val_loss: 0.7767 - val_acc: 0.4167\n",
      "Epoch 12/16\n",
      "200/200 [==============================] - 0s 129us/step - loss: 0.5962 - acc: 0.6550 - val_loss: 0.7187 - val_acc: 0.4667\n",
      "Epoch 13/16\n",
      "200/200 [==============================] - 0s 130us/step - loss: 0.5945 - acc: 0.6950 - val_loss: 0.7152 - val_acc: 0.4333\n",
      "Epoch 14/16\n",
      "200/200 [==============================] - 0s 135us/step - loss: 0.5949 - acc: 0.6900 - val_loss: 0.7182 - val_acc: 0.4333\n",
      "Epoch 15/16\n",
      "200/200 [==============================] - 0s 129us/step - loss: 0.5908 - acc: 0.6800 - val_loss: 0.7348 - val_acc: 0.4167\n",
      "Epoch 16/16\n",
      "200/200 [==============================] - 0s 119us/step - loss: 0.5842 - acc: 0.6750 - val_loss: 0.7456 - val_acc: 0.4167\n"
     ]
    }
   ],
   "source": [
    "history = model.fit(input_train_data,\n",
    "                    label_train_data,\n",
    "                    epochs=16,\n",
    "                    batch_size=64,\n",
    "                    validation_data=(input_test_data, label_test_data))"
   ]
  },
  {
   "cell_type": "code",
   "execution_count": 162,
   "metadata": {},
   "outputs": [
    {
     "name": "stdout",
     "output_type": "stream",
     "text": [
      "All human beings have inherent worth.\n",
      "\n",
      "moral_saliency:  1 prediction:  0.3063171\n",
      "\n",
      "\n",
      "Jeff Bezos is the CEO of Amazon and Blue Origin (a company that makes rockets).\n",
      "\n",
      "moral_saliency:  0 prediction:  0.566317\n",
      "\n",
      "\n",
      "Abortion is wrong because ending the life of a fetus is murder.\n",
      "\n",
      "moral_saliency:  1 prediction:  0.47532338\n",
      "\n",
      "\n",
      "A woman has a right to her own body and to make decisions about her reproducitve health.\n",
      "\n",
      "moral_saliency:  1 prediction:  0.46180832\n",
      "\n",
      "\n",
      "In a clinical sense, abortion is the deliberate termination of a human pregnancy.\n",
      "\n",
      "moral_saliency:  0 prediction:  0.575553\n",
      "\n",
      "\n",
      "Many states have rules requiring clinics to have admitting privledges at a hospital in order to perform abortions.\n",
      "\n",
      "moral_saliency:  0 prediction:  0.57993996\n",
      "\n",
      "\n",
      "There is a lot of contravesry around abortion access, and Planned Parenthood sits at the middle of it.\n",
      "\n",
      "moral_saliency:  0 prediction:  0.65074307\n",
      "\n",
      "\n",
      "Members of a nation have a fundamental duty to support that thing of which they're a part.\n",
      "\n",
      "moral_saliency:  1 prediction:  0.4302246\n",
      "\n",
      "\n",
      "Members of a nation are often requried to pay taxes to the government of that nation.\n",
      "\n",
      "moral_saliency:  0 prediction:  0.61898214\n",
      "\n",
      "\n",
      "Donald Trump is the currernt president of the United States of Americia.\n",
      "\n",
      "moral_saliency:  0 prediction:  0.7296867\n",
      "\n",
      "\n",
      "A later investigation, the United States House Select Committee on Assassinations (HSCA) agreed with the Warren Commission that the injuries that Kennedy and Connally sustained were caused by Oswald's three rifle shots.\n",
      "\n",
      "moral_saliency:  0 prediction:  0.5535063\n",
      "\n",
      "\n",
      "Livingston and Evans were the songwriting and composing team of Jay Livingston (1915-2001) and Ray Evans (1915-2007).\n",
      "\n",
      "moral_saliency:  0 prediction:  0.6399602\n",
      "\n",
      "\n",
      "Cordner attended Young Harris College, a private university located in the state of Georgia in the United States.\n",
      "\n",
      "moral_saliency:  0 prediction:  0.678924\n",
      "\n",
      "\n",
      "Maybe we're not supposed to be dogmatic, but I'm going to say dogmatically that I know there is a God. I'm positive there is a God.\n",
      "\n",
      "moral_saliency:  1 prediction:  0.49714643\n",
      "\n",
      "\n",
      "We should be grateful for our natural, industrial and scientific resources with which we have been blessed.\n",
      "\n",
      "moral_saliency:  1 prediction:  0.31091878\n",
      "\n",
      "\n",
      "Deception is a self defeating principle.\n",
      "\n",
      "moral_saliency:  1 prediction:  0.34594417\n",
      "\n",
      "\n",
      "If you lie to people they will loose trust in you, which defeats the purpose of the original act. Therefore you shouldn't lie. \n",
      "\n",
      "moral_saliency:  1 prediction:  0.4870475\n",
      "\n",
      "\n",
      "Liars are terrible people and the law dictates that they be locked up.\n",
      "\n",
      "moral_saliency:  1 prediction:  0.40680754\n",
      "\n",
      "\n",
      "A person's body langauge should tell you if they're lying. \n",
      "\n",
      "moral_saliency:  0 prediction:  0.50264746\n",
      "\n",
      "\n",
      "We traffic in homosexuality at the peril of our spiritual welfare.\n",
      "\n",
      "moral_saliency:  1 prediction:  0.4657774\n",
      "\n",
      "\n",
      "We shouldn't infringe upon the freedom of queer people.\n",
      "\n",
      "moral_saliency:  1 prediction:  0.44185415\n",
      "\n",
      "\n",
      "Parents have natural authority over their children.\n",
      "\n",
      "moral_saliency:  1 prediction:  0.25069797\n",
      "\n",
      "\n",
      "Sons and daughters should respect their mother and father.\n",
      "\n",
      "moral_saliency:  1 prediction:  0.23998447\n",
      "\n",
      "\n",
      "Interpersonal communication is an exchange of information between two or more people.\n",
      "\n",
      "moral_saliency:  0 prediction:  0.7069952\n",
      "\n",
      "\n",
      "When trying to understand the harmony and balance of the behaviour one should be aware of the tone rather than focusing solely on what is actually said in order to understand the other party's perspective.\n",
      "\n",
      "moral_saliency:  0 prediction:  0.5776267\n",
      "\n",
      "\n",
      "I have not read all the Seuss books yet, but this book is a huge classic for me.Each page is another world to enter into and dream about.\n",
      "\n",
      "moral_saliency:  0 prediction:  0.71515286\n",
      "\n",
      "\n",
      "Items like a capo are very much a \"personal taste\" thing.\n",
      "\n",
      "moral_saliency:  0 prediction:  0.7207143\n",
      "\n",
      "\n",
      "I think this is the first book I've ever hated.\n",
      "\n",
      "moral_saliency:  0 prediction:  0.75745773\n",
      "\n",
      "\n",
      "This was recorded back when Rod and Ronnie were rockers and balladeers\n",
      "\n",
      "moral_saliency:  0 prediction:  0.7521529\n",
      "\n",
      "\n",
      "This was ridiculous in a good way same as sugar and spice. I liked those hot alien chicks.\n",
      "\n",
      "moral_saliency:  0 prediction:  0.63015056\n",
      "\n",
      "\n",
      "At any point in the universe, gravity causes objects with mass to attract one another.\n",
      "\n",
      "moral_saliency:  0 prediction:  0.5242395\n",
      "\n",
      "\n",
      "When you follow the pythagorean theorem, you're able to find the hypotenuse of a triangle. You just can.\n",
      "\n",
      "moral_saliency:  0 prediction:  0.538335\n",
      "\n",
      "\n",
      "Amy Klobuchar is running for president.\n",
      "\n",
      "moral_saliency:  0 prediction:  0.7054419\n",
      "\n",
      "\n",
      "Klobuchar is a bad person because she treats her staffers like crap.\n",
      "\n",
      "moral_saliency:  1 prediction:  0.23070456\n",
      "\n",
      "\n",
      "It is important to make sure you treat everyone wiith respect.\n",
      "\n",
      "moral_saliency:  1 prediction:  0.41809738\n",
      "\n",
      "\n",
      "Treason is a sin and should be punishable by death.\n",
      "\n",
      "moral_saliency:  1 prediction:  0.45063818\n",
      "\n",
      "\n",
      "All men are created equal.\n",
      "\n",
      "moral_saliency:  1 prediction:  0.046361662\n",
      "\n",
      "\n",
      "People should not be treated differently on the basis of race or sex.\n",
      "\n",
      "moral_saliency:  1 prediction:  0.46324137\n",
      "\n",
      "\n",
      "In the midst of these fights, a report published on March 13th provides a welcome note of calm.\n",
      "\n",
      "moral_saliency:  0 prediction:  0.6637899\n",
      "\n",
      "\n",
      "I can't believe we've been playing together for 3 years!\n",
      "\n",
      "moral_saliency:  0 prediction:  0.5446069\n",
      "\n",
      "\n",
      "They're great band members, and better friends. Come see us if you need a break Thursday!\n",
      "\n",
      "moral_saliency:  0 prediction:  0.5004056\n",
      "\n",
      "\n",
      "Joseph Reed you guys have no idea!!\n",
      "\n",
      "moral_saliency:  0 prediction:  0.5001806\n",
      "\n",
      "\n",
      "Mr. and Mrs. Dursley, of number four, Privet Drive, were proud to say that they were perfectly normal, thank you very much.\n",
      "\n",
      "moral_saliency:  0 prediction:  0.597225\n",
      "\n",
      "\n",
      "Killilng people is bad.\n",
      "\n",
      "moral_saliency:  1 prediction:  0.19875751\n",
      "\n",
      "\n",
      "I have a phone.\n",
      "\n",
      "moral_saliency:  0 prediction:  0.5618206\n",
      "\n",
      "\n",
      "40 and 42 and 6 is 88.\n",
      "\n",
      "moral_saliency:  0 prediction:  0.7703607\n",
      "\n",
      "\n",
      "You could get more meta with this.\n",
      "\n",
      "moral_saliency:  0 prediction:  0.75826573\n",
      "\n",
      "\n",
      "But that would make the task more difficult.\n",
      "\n",
      "moral_saliency:  0 prediction:  0.6548046\n",
      "\n",
      "\n",
      "Big things are bigger than small things.\n",
      "\n",
      "moral_saliency:  0 prediction:  0.74218845\n",
      "\n",
      "\n"
     ]
    }
   ],
   "source": [
    "for index, row in vectors_df.iterrows():\n",
    "    prediction = model.predict(np.array([row[\"vector\"]]))\n",
    "    if np.round(model.predict(np.array([row[\"vector\"]]))[0][0]) != row[\"moral_saliency\"]:\n",
    "        print(row[\"text\"], end=\"\\n\\n\")\n",
    "        print(\"moral_saliency: \", row[\"moral_saliency\"], \"prediction: \", prediction[0][0], end=\"\\n\\n\\n\")"
   ]
  },
  {
   "cell_type": "code",
   "execution_count": null,
   "metadata": {},
   "outputs": [],
   "source": []
  }
 ],
 "metadata": {
  "kernelspec": {
   "display_name": "Python 3",
   "language": "python",
   "name": "python3"
  },
  "language_info": {
   "codemirror_mode": {
    "name": "ipython",
    "version": 3
   },
   "file_extension": ".py",
   "mimetype": "text/x-python",
   "name": "python",
   "nbconvert_exporter": "python",
   "pygments_lexer": "ipython3",
   "version": "3.6.8"
  }
 },
 "nbformat": 4,
 "nbformat_minor": 2
}
