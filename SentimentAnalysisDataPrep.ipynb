{
 "cells": [
  {
   "cell_type": "code",
   "execution_count": 1,
   "metadata": {},
   "outputs": [],
   "source": [
    "import csv\n",
    "import matplotlib.pyplot as plt\n",
    "import pandas as pd\n",
    "import requests\n",
    "import time\n",
    "import warnings\n",
    "import wikipedia as wiki\n",
    "\n",
    "from bs4 import BeautifulSoup\n",
    "from nltk import tokenize"
   ]
  },
  {
   "cell_type": "code",
   "execution_count": 2,
   "metadata": {},
   "outputs": [],
   "source": [
    "def sentence_splitter(unsplit_df, include_original=True):\n",
    "    new_df = {'text':[], 'polarity':[], 'intensity':[]}\n",
    "    for text, polarity, intensity in zip(unsplit_df['text'], unsplit_df['polarity'], unsplit_df['intensity']):\n",
    "        for sent in tokenize.sent_tokenize(text):\n",
    "            new_df['text'].append(sent)\n",
    "            new_df['polarity'].append(polarity)\n",
    "            new_df['intensity'].append(intensity)\n",
    "        if include_original:\n",
    "            new_df['text'].append(text)\n",
    "            new_df['polarity'].append(polarity)\n",
    "            new_df['intensity'].append(intensity)\n",
    "    return pd.DataFrame(new_df)"
   ]
  },
  {
   "cell_type": "markdown",
   "metadata": {},
   "source": [
    "# Book Reviews"
   ]
  },
  {
   "cell_type": "code",
   "execution_count": 3,
   "metadata": {},
   "outputs": [
    {
     "name": "stderr",
     "output_type": "stream",
     "text": [
      "Skipping line 312075: unexpected end of data\n"
     ]
    },
    {
     "data": {
      "text/html": [
       "<div>\n",
       "<style scoped>\n",
       "    .dataframe tbody tr th:only-of-type {\n",
       "        vertical-align: middle;\n",
       "    }\n",
       "\n",
       "    .dataframe tbody tr th {\n",
       "        vertical-align: top;\n",
       "    }\n",
       "\n",
       "    .dataframe thead th {\n",
       "        text-align: right;\n",
       "    }\n",
       "</style>\n",
       "<table border=\"1\" class=\"dataframe\">\n",
       "  <thead>\n",
       "    <tr style=\"text-align: right;\">\n",
       "      <th></th>\n",
       "      <th>bookID</th>\n",
       "      <th>title</th>\n",
       "      <th>author</th>\n",
       "      <th>rating</th>\n",
       "      <th>ratingsCount</th>\n",
       "      <th>reviewsCount</th>\n",
       "      <th>reviewerName</th>\n",
       "      <th>reviewerRatings</th>\n",
       "      <th>review</th>\n",
       "    </tr>\n",
       "  </thead>\n",
       "  <tbody>\n",
       "    <tr>\n",
       "      <th>0</th>\n",
       "      <td>9</td>\n",
       "      <td>Unauthorized Harry Potter Book Seven News: \"Ha...</td>\n",
       "      <td>W. Frederick Zimmerman</td>\n",
       "      <td>3.73</td>\n",
       "      <td>22</td>\n",
       "      <td>1</td>\n",
       "      <td>Charles G</td>\n",
       "      <td>3.0</td>\n",
       "      <td>NaN</td>\n",
       "    </tr>\n",
       "    <tr>\n",
       "      <th>1</th>\n",
       "      <td>8</td>\n",
       "      <td>Harry Potter Boxed Set, Books 1-5 (Harry Potte...</td>\n",
       "      <td>J.K. Rowling</td>\n",
       "      <td>4.77</td>\n",
       "      <td>34107</td>\n",
       "      <td>156</td>\n",
       "      <td>✿Katherine Elizabeth✿</td>\n",
       "      <td>5.0</td>\n",
       "      <td>NaN</td>\n",
       "    </tr>\n",
       "    <tr>\n",
       "      <th>2</th>\n",
       "      <td>3</td>\n",
       "      <td>Harry Potter and the Sorcerer's Stone</td>\n",
       "      <td>J.K. Rowling</td>\n",
       "      <td>4.44</td>\n",
       "      <td>4911929</td>\n",
       "      <td>77741</td>\n",
       "      <td>Lora</td>\n",
       "      <td>5.0</td>\n",
       "      <td>I'm going to keep this brief since there isn't...</td>\n",
       "    </tr>\n",
       "  </tbody>\n",
       "</table>\n",
       "</div>"
      ],
      "text/plain": [
       "   bookID                                              title  \\\n",
       "0       9  Unauthorized Harry Potter Book Seven News: \"Ha...   \n",
       "1       8  Harry Potter Boxed Set, Books 1-5 (Harry Potte...   \n",
       "2       3              Harry Potter and the Sorcerer's Stone   \n",
       "\n",
       "                   author  rating  ratingsCount  reviewsCount  \\\n",
       "0  W. Frederick Zimmerman    3.73            22             1   \n",
       "1            J.K. Rowling    4.77         34107           156   \n",
       "2            J.K. Rowling    4.44       4911929         77741   \n",
       "\n",
       "            reviewerName  reviewerRatings  \\\n",
       "0              Charles G              3.0   \n",
       "1  ✿Katherine Elizabeth✿              5.0   \n",
       "2                   Lora              5.0   \n",
       "\n",
       "                                              review  \n",
       "0                                                NaN  \n",
       "1                                                NaN  \n",
       "2  I'm going to keep this brief since there isn't...  "
      ]
     },
     "execution_count": 3,
     "metadata": {},
     "output_type": "execute_result"
    }
   ],
   "source": [
    "raw_df_book_reviews = pd.read_csv('data/br.csv', engine='python', encoding='utf-8', usecols=range(9), error_bad_lines=False)\n",
    "raw_df_book_reviews.head(3)"
   ]
  },
  {
   "cell_type": "code",
   "execution_count": 4,
   "metadata": {},
   "outputs": [
    {
     "data": {
      "text/html": [
       "<div>\n",
       "<style scoped>\n",
       "    .dataframe tbody tr th:only-of-type {\n",
       "        vertical-align: middle;\n",
       "    }\n",
       "\n",
       "    .dataframe tbody tr th {\n",
       "        vertical-align: top;\n",
       "    }\n",
       "\n",
       "    .dataframe thead th {\n",
       "        text-align: right;\n",
       "    }\n",
       "</style>\n",
       "<table border=\"1\" class=\"dataframe\">\n",
       "  <thead>\n",
       "    <tr style=\"text-align: right;\">\n",
       "      <th></th>\n",
       "      <th>reviewerRatings</th>\n",
       "      <th>review</th>\n",
       "    </tr>\n",
       "  </thead>\n",
       "  <tbody>\n",
       "    <tr>\n",
       "      <th>0</th>\n",
       "      <td>3.0</td>\n",
       "      <td>NaN</td>\n",
       "    </tr>\n",
       "    <tr>\n",
       "      <th>1</th>\n",
       "      <td>5.0</td>\n",
       "      <td>NaN</td>\n",
       "    </tr>\n",
       "    <tr>\n",
       "      <th>2</th>\n",
       "      <td>5.0</td>\n",
       "      <td>I'm going to keep this brief since there isn't...</td>\n",
       "    </tr>\n",
       "  </tbody>\n",
       "</table>\n",
       "</div>"
      ],
      "text/plain": [
       "   reviewerRatings                                             review\n",
       "0              3.0                                                NaN\n",
       "1              5.0                                                NaN\n",
       "2              5.0  I'm going to keep this brief since there isn't..."
      ]
     },
     "execution_count": 4,
     "metadata": {},
     "output_type": "execute_result"
    }
   ],
   "source": [
    "subset_df_book_reviews = raw_df_book_reviews[['reviewerRatings', 'review']]\n",
    "subset_df_book_reviews.head(3)"
   ]
  },
  {
   "cell_type": "code",
   "execution_count": 5,
   "metadata": {},
   "outputs": [
    {
     "name": "stdout",
     "output_type": "stream",
     "text": [
      "312073\n",
      "109374\n"
     ]
    },
    {
     "data": {
      "text/plain": [
       "4.0    40942\n",
       "5.0    38660\n",
       "3.0    24060\n",
       "1.0     5712\n",
       "Name: reviewerRatings, dtype: int64"
      ]
     },
     "execution_count": 5,
     "metadata": {},
     "output_type": "execute_result"
    }
   ],
   "source": [
    "print(len(subset_df_book_reviews))\n",
    "xna_df_book_reviews = subset_df_book_reviews.dropna(axis=0)\n",
    "print(len(xna_df_book_reviews))\n",
    "xna_df_book_reviews.head(3)\n",
    "xna_df_book_reviews['reviewerRatings'].value_counts()"
   ]
  },
  {
   "cell_type": "code",
   "execution_count": 6,
   "metadata": {},
   "outputs": [],
   "source": [
    "def get_book_review_polarity(rating):\n",
    "    if rating > 3:\n",
    "        return 1\n",
    "    elif rating <= 3:\n",
    "        return 0\n",
    "\n",
    "def get_book_review_intensity(rating):\n",
    "    try:\n",
    "        mapping = {1: 1, 2: 0.5, 3: 0, 4: 0.5, 5: 1}\n",
    "        return mapping[rating]\n",
    "    except KeyError:\n",
    "        return 0\n",
    "\n",
    "def trim_sample(text):\n",
    "    words = text.split()\n",
    "    if len(words) > 100:\n",
    "        return ' '.join(words[:100])\n",
    "    else:\n",
    "        return ' '.join(words)"
   ]
  },
  {
   "cell_type": "code",
   "execution_count": 7,
   "metadata": {},
   "outputs": [],
   "source": [
    "with pd.option_context('mode.chained_assignment', None):\n",
    "    xna_df_book_reviews['polarity'] = xna_df_book_reviews['reviewerRatings'].apply(get_book_review_polarity)\n",
    "    xna_df_book_reviews['intensity'] = xna_df_book_reviews['reviewerRatings'].apply(get_book_review_intensity)\n",
    "    xna_df_book_reviews['text'] = xna_df_book_reviews['review'].apply(trim_sample)\n",
    "    clean_book_reviews = xna_df_book_reviews.drop(axis=1, labels=['reviewerRatings', 'review'])"
   ]
  },
  {
   "cell_type": "code",
   "execution_count": 8,
   "metadata": {},
   "outputs": [
    {
     "data": {
      "text/plain": [
       "1    79602\n",
       "0    29772\n",
       "Name: polarity, dtype: int64"
      ]
     },
     "execution_count": 8,
     "metadata": {},
     "output_type": "execute_result"
    }
   ],
   "source": [
    "clean_book_reviews['polarity'].value_counts()"
   ]
  },
  {
   "cell_type": "code",
   "execution_count": 9,
   "metadata": {},
   "outputs": [
    {
     "data": {
      "text/plain": [
       "1    475387\n",
       "0    181220\n",
       "Name: polarity, dtype: int64"
      ]
     },
     "execution_count": 9,
     "metadata": {},
     "output_type": "execute_result"
    }
   ],
   "source": [
    "clean_book_reviews = sentence_splitter(clean_book_reviews)\n",
    "clean_book_reviews['polarity'].value_counts()"
   ]
  },
  {
   "cell_type": "code",
   "execution_count": 10,
   "metadata": {},
   "outputs": [],
   "source": [
    "pos_book_reviews = clean_book_reviews[clean_book_reviews['polarity'] == 1].sample(n=50000)\n",
    "neg_book_reviews = clean_book_reviews[clean_book_reviews['polarity'] == 0].sample(n=50000)\n",
    "clean_book_reviews = pd.concat([pos_book_reviews, neg_book_reviews])"
   ]
  },
  {
   "cell_type": "code",
   "execution_count": 11,
   "metadata": {},
   "outputs": [
    {
     "name": "stdout",
     "output_type": "stream",
     "text": [
      "Number of records: 100000\n",
      "Average length of record: 189.20898\n",
      "                                                     text  polarity  intensity\n",
      "328404  Tintin au pays de l'or noir = Land of Black Go...         1        0.5\n",
      "78897                            And that's a good thing.         1        1.0\n",
      "457146  Here is a former “rodent brain” researcher, as...         1        0.5\n"
     ]
    }
   ],
   "source": [
    "print(\"Number of records: {}\".format(len(clean_book_reviews)))\n",
    "print(\"Average length of record: {}\".format(clean_book_reviews['text'].str.len().mean()))\n",
    "print(clean_book_reviews.head(3))"
   ]
  },
  {
   "cell_type": "markdown",
   "metadata": {},
   "source": [
    "# Product Reviews"
   ]
  },
  {
   "cell_type": "code",
   "execution_count": 12,
   "metadata": {},
   "outputs": [
    {
     "data": {
      "text/html": [
       "<div>\n",
       "<style scoped>\n",
       "    .dataframe tbody tr th:only-of-type {\n",
       "        vertical-align: middle;\n",
       "    }\n",
       "\n",
       "    .dataframe tbody tr th {\n",
       "        vertical-align: top;\n",
       "    }\n",
       "\n",
       "    .dataframe thead th {\n",
       "        text-align: right;\n",
       "    }\n",
       "</style>\n",
       "<table border=\"1\" class=\"dataframe\">\n",
       "  <thead>\n",
       "    <tr style=\"text-align: right;\">\n",
       "      <th></th>\n",
       "      <th>0</th>\n",
       "    </tr>\n",
       "  </thead>\n",
       "  <tbody>\n",
       "    <tr>\n",
       "      <th>3300577</th>\n",
       "      <td>__label__2 chasing a good book: I thought this...</td>\n",
       "    </tr>\n",
       "    <tr>\n",
       "      <th>1019068</th>\n",
       "      <td>__label__1 Pretty Dull: Before the remake of t...</td>\n",
       "    </tr>\n",
       "    <tr>\n",
       "      <th>1518081</th>\n",
       "      <td>__label__1 Bad poetry, poor quality pictures: ...</td>\n",
       "    </tr>\n",
       "    <tr>\n",
       "      <th>1171901</th>\n",
       "      <td>__label__1 So-So: I find it enlightening that ...</td>\n",
       "    </tr>\n",
       "    <tr>\n",
       "      <th>1404805</th>\n",
       "      <td>__label__2 She's Back!!!!: I was so excited wh...</td>\n",
       "    </tr>\n",
       "  </tbody>\n",
       "</table>\n",
       "</div>"
      ],
      "text/plain": [
       "                                                         0\n",
       "3300577  __label__2 chasing a good book: I thought this...\n",
       "1019068  __label__1 Pretty Dull: Before the remake of t...\n",
       "1518081  __label__1 Bad poetry, poor quality pictures: ...\n",
       "1171901  __label__1 So-So: I find it enlightening that ...\n",
       "1404805  __label__2 She's Back!!!!: I was so excited wh..."
      ]
     },
     "execution_count": 12,
     "metadata": {},
     "output_type": "execute_result"
    }
   ],
   "source": [
    "raw_df_product_reviews = pd.read_csv('data/train.ft.txt', header=None, sep='\\n', engine='python')\n",
    "raw_df_product_reviews = raw_df_product_reviews.sample(n=200000)\n",
    "raw_df_product_reviews.head()"
   ]
  },
  {
   "cell_type": "code",
   "execution_count": 13,
   "metadata": {},
   "outputs": [],
   "source": [
    "def get_product_review_polarity(raw_text):\n",
    "    if raw_text[9] == '2':\n",
    "        return 1\n",
    "    else:\n",
    "        return 0\n",
    "\n",
    "def get_product_review_text(raw_text):\n",
    "    return raw_text[11:]\n",
    "\n",
    "raw_df_product_reviews['polarity'] = raw_df_product_reviews[0].apply(get_product_review_polarity)\n",
    "raw_df_product_reviews['intensity'] = 1\n",
    "raw_df_product_reviews['text'] = raw_df_product_reviews[0].apply(get_product_review_text).apply(trim_sample)\n",
    "clean_product_reviews = raw_df_product_reviews.drop(axis=1, labels=0)"
   ]
  },
  {
   "cell_type": "code",
   "execution_count": 14,
   "metadata": {},
   "outputs": [
    {
     "data": {
      "text/plain": [
       "0    100030\n",
       "1     99970\n",
       "Name: polarity, dtype: int64"
      ]
     },
     "execution_count": 14,
     "metadata": {},
     "output_type": "execute_result"
    }
   ],
   "source": [
    "clean_product_reviews['polarity'].value_counts()"
   ]
  },
  {
   "cell_type": "code",
   "execution_count": 15,
   "metadata": {},
   "outputs": [
    {
     "data": {
      "text/plain": [
       "0    563508\n",
       "1    535781\n",
       "Name: polarity, dtype: int64"
      ]
     },
     "execution_count": 15,
     "metadata": {},
     "output_type": "execute_result"
    }
   ],
   "source": [
    "clean_product_reviews = sentence_splitter(clean_product_reviews)\n",
    "clean_product_reviews['polarity'].value_counts()"
   ]
  },
  {
   "cell_type": "code",
   "execution_count": 52,
   "metadata": {},
   "outputs": [],
   "source": [
    "pos_pol_product_reviews = clean_product_reviews[clean_product_reviews['polarity'] == 1].sample(n=50000)\n",
    "neg_pol_product_reviews = clean_product_reviews[clean_product_reviews['polarity'] == 0].sample(n=50000)\n",
    "clean_product_reviews = pd.concat([pos_pol_product_reviews, neg_pol_product_reviews])"
   ]
  },
  {
   "cell_type": "code",
   "execution_count": 53,
   "metadata": {},
   "outputs": [
    {
     "name": "stdout",
     "output_type": "stream",
     "text": [
      "Number of records: 100000\n",
      "Average length of record: 136.34723\n",
      "                                                     text  polarity  intensity\n",
      "653926  I wanted to learn PHP so that I could start pr...         1          1\n",
      "457574  If you have or are planning on having a surrou...         1          1\n",
      "251531  NOTE: While a three novel book, the volume is ...         1          1\n"
     ]
    }
   ],
   "source": [
    "print(\"Number of records: {}\".format(len(clean_product_reviews)))\n",
    "print(\"Average length of record: {}\".format(clean_product_reviews['text'].str.len().mean()))\n",
    "print(clean_product_reviews.head(3))"
   ]
  },
  {
   "cell_type": "markdown",
   "metadata": {},
   "source": [
    "# Medium"
   ]
  },
  {
   "cell_type": "code",
   "execution_count": 54,
   "metadata": {},
   "outputs": [
    {
     "data": {
      "text/html": [
       "<div>\n",
       "<style scoped>\n",
       "    .dataframe tbody tr th:only-of-type {\n",
       "        vertical-align: middle;\n",
       "    }\n",
       "\n",
       "    .dataframe tbody tr th {\n",
       "        vertical-align: top;\n",
       "    }\n",
       "\n",
       "    .dataframe thead th {\n",
       "        text-align: right;\n",
       "    }\n",
       "</style>\n",
       "<table border=\"1\" class=\"dataframe\">\n",
       "  <thead>\n",
       "    <tr style=\"text-align: right;\">\n",
       "      <th></th>\n",
       "      <th>text</th>\n",
       "    </tr>\n",
       "  </thead>\n",
       "  <tbody>\n",
       "    <tr>\n",
       "      <th>0</th>\n",
       "      <td>The big lesson here is that it’s not enough to...</td>\n",
       "    </tr>\n",
       "    <tr>\n",
       "      <th>1</th>\n",
       "      <td>Restaurant menus come in all shapes and sizes....</td>\n",
       "    </tr>\n",
       "    <tr>\n",
       "      <th>2</th>\n",
       "      <td>Raja Ramachandran, CEO of ripe.io identified c...</td>\n",
       "    </tr>\n",
       "  </tbody>\n",
       "</table>\n",
       "</div>"
      ],
      "text/plain": [
       "                                                text\n",
       "0  The big lesson here is that it’s not enough to...\n",
       "1  Restaurant menus come in all shapes and sizes....\n",
       "2  Raja Ramachandran, CEO of ripe.io identified c..."
      ]
     },
     "execution_count": 54,
     "metadata": {},
     "output_type": "execute_result"
    }
   ],
   "source": [
    "raw_medium_articles_list = []\n",
    "with open('data/medium_samples.csv') as medium_file:\n",
    "    raw_medium_articles_list = medium_file.readlines()\n",
    "raw_medium_articles_list = [article.strip() for article in raw_medium_articles_list]\n",
    "raw_medium_articles = pd.DataFrame({'text': raw_medium_articles_list})\n",
    "raw_medium_articles.head(3)"
   ]
  },
  {
   "cell_type": "code",
   "execution_count": 59,
   "metadata": {},
   "outputs": [],
   "source": [
    "raw_medium_articles['polarity'] = 0.5\n",
    "raw_medium_articles['intensity'] = 0.0\n",
    "clean_medium_articles = raw_medium_articles"
   ]
  },
  {
   "cell_type": "code",
   "execution_count": 60,
   "metadata": {},
   "outputs": [
    {
     "data": {
      "text/plain": [
       "0.5    20518\n",
       "Name: polarity, dtype: int64"
      ]
     },
     "execution_count": 60,
     "metadata": {},
     "output_type": "execute_result"
    }
   ],
   "source": [
    "clean_medium_articles['polarity'].value_counts()"
   ]
  },
  {
   "cell_type": "code",
   "execution_count": 61,
   "metadata": {},
   "outputs": [
    {
     "data": {
      "text/plain": [
       "0.5    128478\n",
       "Name: polarity, dtype: int64"
      ]
     },
     "execution_count": 61,
     "metadata": {},
     "output_type": "execute_result"
    }
   ],
   "source": [
    "clean_medium_articles = sentence_splitter(clean_medium_articles)\n",
    "clean_medium_articles['polarity'].value_counts()"
   ]
  },
  {
   "cell_type": "code",
   "execution_count": 62,
   "metadata": {},
   "outputs": [],
   "source": [
    "clean_medium_articles = clean_medium_articles.sample(n=100000)"
   ]
  },
  {
   "cell_type": "code",
   "execution_count": 63,
   "metadata": {},
   "outputs": [
    {
     "name": "stdout",
     "output_type": "stream",
     "text": [
      "Number of records: 100000\n",
      "Average length of record: 183.69261\n",
      "                                                     text  polarity  intensity\n",
      "106152  Jane had been so young when he died and the fu...       0.5        0.0\n",
      "45696   You’ll see size-2 girls wearing microscopic sh...       0.5        0.0\n",
      "25508   Annapurna Base Camp Trekking is the mixture of...       0.5        0.0\n"
     ]
    }
   ],
   "source": [
    "print(\"Number of records: {}\".format(len(clean_medium_articles)))\n",
    "print(\"Average length of record: {}\".format(clean_medium_articles['text'].str.len().mean()))\n",
    "print(clean_medium_articles.head(3))"
   ]
  },
  {
   "cell_type": "markdown",
   "metadata": {},
   "source": [
    "# Wikipedia Articles"
   ]
  },
  {
   "cell_type": "code",
   "execution_count": 64,
   "metadata": {},
   "outputs": [
    {
     "data": {
      "text/html": [
       "<div>\n",
       "<style scoped>\n",
       "    .dataframe tbody tr th:only-of-type {\n",
       "        vertical-align: middle;\n",
       "    }\n",
       "\n",
       "    .dataframe tbody tr th {\n",
       "        vertical-align: top;\n",
       "    }\n",
       "\n",
       "    .dataframe thead th {\n",
       "        text-align: right;\n",
       "    }\n",
       "</style>\n",
       "<table border=\"1\" class=\"dataframe\">\n",
       "  <thead>\n",
       "    <tr style=\"text-align: right;\">\n",
       "      <th></th>\n",
       "      <th>text</th>\n",
       "    </tr>\n",
       "  </thead>\n",
       "  <tbody>\n",
       "    <tr>\n",
       "      <th>0</th>\n",
       "      <td>T (named tee ) is the 20th letter in the moder...</td>\n",
       "    </tr>\n",
       "    <tr>\n",
       "      <th>1</th>\n",
       "      <td>⟨t⟩ usually denotes the voiceless alveolar plo...</td>\n",
       "    </tr>\n",
       "    <tr>\n",
       "      <th>2</th>\n",
       "      <td>Thomas and thyme.) === Other languages === In ...</td>\n",
       "    </tr>\n",
       "  </tbody>\n",
       "</table>\n",
       "</div>"
      ],
      "text/plain": [
       "                                                text\n",
       "0  T (named tee ) is the 20th letter in the moder...\n",
       "1  ⟨t⟩ usually denotes the voiceless alveolar plo...\n",
       "2  Thomas and thyme.) === Other languages === In ..."
      ]
     },
     "execution_count": 64,
     "metadata": {},
     "output_type": "execute_result"
    }
   ],
   "source": [
    "raw_wiki_articles_list = []\n",
    "with open('data/wikipedia_samples.csv') as wiki_file:\n",
    "    raw_wiki_articles_list = wiki_file.readlines()\n",
    "raw_wiki_articles_list = [article.strip() for article in raw_wiki_articles_list]\n",
    "raw_wiki_articles = pd.DataFrame({'text': raw_wiki_articles_list})\n",
    "raw_wiki_articles.head(3)"
   ]
  },
  {
   "cell_type": "code",
   "execution_count": 67,
   "metadata": {},
   "outputs": [],
   "source": [
    "raw_wiki_articles['polarity'] = 0.5\n",
    "raw_wiki_articles['intensity'] = 0.0\n",
    "clean_wiki_articles = raw_wiki_articles"
   ]
  },
  {
   "cell_type": "code",
   "execution_count": 68,
   "metadata": {},
   "outputs": [
    {
     "data": {
      "text/plain": [
       "0.5    27080\n",
       "Name: polarity, dtype: int64"
      ]
     },
     "execution_count": 68,
     "metadata": {},
     "output_type": "execute_result"
    }
   ],
   "source": [
    "clean_wiki_articles['polarity'].value_counts()"
   ]
  },
  {
   "cell_type": "code",
   "execution_count": 69,
   "metadata": {},
   "outputs": [
    {
     "data": {
      "text/plain": [
       "0.5    150409\n",
       "Name: polarity, dtype: int64"
      ]
     },
     "execution_count": 69,
     "metadata": {},
     "output_type": "execute_result"
    }
   ],
   "source": [
    "clean_wiki_articles = sentence_splitter(clean_wiki_articles)\n",
    "clean_wiki_articles['polarity'].value_counts()"
   ]
  },
  {
   "cell_type": "code",
   "execution_count": 70,
   "metadata": {},
   "outputs": [
    {
     "name": "stdout",
     "output_type": "stream",
     "text": [
      "Number of records: 100000\n",
      "Average length of record: 209.50964\n",
      "                                                     text  polarity  intensity\n",
      "12690   }=\\hbar \\left({\\frac {\\omega }{c}},{\\vec {k}}\\...       0.5        0.0\n",
      "67827   letter small reversed epsilon / open e ɞ : Lat...       0.5        0.0\n",
      "143899                                          In Dutch,       0.5        0.0\n"
     ]
    }
   ],
   "source": [
    "clean_wiki_articles = clean_wiki_articles.sample(n=100000)\n",
    "print(\"Number of records: {}\".format(len(clean_wiki_articles)))\n",
    "print(\"Average length of record: {}\".format(clean_wiki_articles['text'].str.len().mean()))\n",
    "print(clean_wiki_articles.head(3))"
   ]
  },
  {
   "cell_type": "markdown",
   "metadata": {},
   "source": [
    "# Adding Data Together"
   ]
  },
  {
   "cell_type": "code",
   "execution_count": 80,
   "metadata": {},
   "outputs": [
    {
     "data": {
      "text/html": [
       "<div>\n",
       "<style scoped>\n",
       "    .dataframe tbody tr th:only-of-type {\n",
       "        vertical-align: middle;\n",
       "    }\n",
       "\n",
       "    .dataframe tbody tr th {\n",
       "        vertical-align: top;\n",
       "    }\n",
       "\n",
       "    .dataframe thead th {\n",
       "        text-align: right;\n",
       "    }\n",
       "</style>\n",
       "<table border=\"1\" class=\"dataframe\">\n",
       "  <thead>\n",
       "    <tr style=\"text-align: right;\">\n",
       "      <th></th>\n",
       "      <th>text</th>\n",
       "      <th>polarity</th>\n",
       "      <th>intensity</th>\n",
       "    </tr>\n",
       "    <tr>\n",
       "      <th>id</th>\n",
       "      <th></th>\n",
       "      <th></th>\n",
       "      <th></th>\n",
       "    </tr>\n",
       "  </thead>\n",
       "  <tbody>\n",
       "    <tr>\n",
       "      <th>234618</th>\n",
       "      <td>I understand why it is, but I think those who ...</td>\n",
       "      <td>1.0</td>\n",
       "      <td>0.5</td>\n",
       "    </tr>\n",
       "    <tr>\n",
       "      <th>345664</th>\n",
       "      <td>'Misery' is a gruesome story of torture with b...</td>\n",
       "      <td>1.0</td>\n",
       "      <td>1.0</td>\n",
       "    </tr>\n",
       "    <tr>\n",
       "      <th>224720</th>\n",
       "      <td>The story concentrates on the childhood of Rob...</td>\n",
       "      <td>1.0</td>\n",
       "      <td>0.5</td>\n",
       "    </tr>\n",
       "  </tbody>\n",
       "</table>\n",
       "</div>"
      ],
      "text/plain": [
       "                                                     text  polarity  intensity\n",
       "id                                                                            \n",
       "234618  I understand why it is, but I think those who ...       1.0        0.5\n",
       "345664  'Misery' is a gruesome story of torture with b...       1.0        1.0\n",
       "224720  The story concentrates on the childhood of Rob...       1.0        0.5"
      ]
     },
     "execution_count": 80,
     "metadata": {},
     "output_type": "execute_result"
    }
   ],
   "source": [
    "clean_text = pd.concat([clean_book_reviews, clean_product_reviews, clean_medium_articles, clean_wiki_articles])\n",
    "clean_text.head(3)"
   ]
  },
  {
   "cell_type": "code",
   "execution_count": 81,
   "metadata": {},
   "outputs": [
    {
     "name": "stdout",
     "output_type": "stream",
     "text": [
      "0.0    239626\n",
      "1.0    135071\n",
      "0.5     25303\n",
      "Name: intensity, dtype: int64\n",
      "0.5    200000\n",
      "0.0    100000\n",
      "1.0    100000\n",
      "Name: polarity, dtype: int64\n"
     ]
    }
   ],
   "source": [
    "print(clean_text['intensity'].value_counts())\n",
    "print(clean_text['polarity'].value_counts())"
   ]
  },
  {
   "cell_type": "code",
   "execution_count": 84,
   "metadata": {},
   "outputs": [
    {
     "data": {
      "text/html": [
       "<div>\n",
       "<style scoped>\n",
       "    .dataframe tbody tr th:only-of-type {\n",
       "        vertical-align: middle;\n",
       "    }\n",
       "\n",
       "    .dataframe tbody tr th {\n",
       "        vertical-align: top;\n",
       "    }\n",
       "\n",
       "    .dataframe thead th {\n",
       "        text-align: right;\n",
       "    }\n",
       "</style>\n",
       "<table border=\"1\" class=\"dataframe\">\n",
       "  <thead>\n",
       "    <tr style=\"text-align: right;\">\n",
       "      <th></th>\n",
       "      <th>text</th>\n",
       "      <th>polarity</th>\n",
       "      <th>intensity</th>\n",
       "    </tr>\n",
       "    <tr>\n",
       "      <th>id</th>\n",
       "      <th></th>\n",
       "      <th></th>\n",
       "      <th></th>\n",
       "    </tr>\n",
       "  </thead>\n",
       "  <tbody>\n",
       "    <tr>\n",
       "      <th>0</th>\n",
       "      <td>The above procedure describes not only the gro...</td>\n",
       "      <td>0.5</td>\n",
       "      <td>0.0</td>\n",
       "    </tr>\n",
       "    <tr>\n",
       "      <th>1</th>\n",
       "      <td>After he won the election, they began printing...</td>\n",
       "      <td>0.5</td>\n",
       "      <td>0.0</td>\n",
       "    </tr>\n",
       "    <tr>\n",
       "      <th>2</th>\n",
       "      <td>She handled the novel professionally, and as a...</td>\n",
       "      <td>0.0</td>\n",
       "      <td>0.0</td>\n",
       "    </tr>\n",
       "    <tr>\n",
       "      <th>3</th>\n",
       "      <td>If n is a positive integer, an nth primitive r...</td>\n",
       "      <td>0.5</td>\n",
       "      <td>0.0</td>\n",
       "    </tr>\n",
       "    <tr>\n",
       "      <th>4</th>\n",
       "      <td>The DVD is stuck inside and we can not get it ...</td>\n",
       "      <td>0.0</td>\n",
       "      <td>1.0</td>\n",
       "    </tr>\n",
       "  </tbody>\n",
       "</table>\n",
       "</div>"
      ],
      "text/plain": [
       "                                                 text  polarity  intensity\n",
       "id                                                                        \n",
       "0   The above procedure describes not only the gro...       0.5        0.0\n",
       "1   After he won the election, they began printing...       0.5        0.0\n",
       "2   She handled the novel professionally, and as a...       0.0        0.0\n",
       "3   If n is a positive integer, an nth primitive r...       0.5        0.0\n",
       "4   The DVD is stuck inside and we can not get it ...       0.0        1.0"
      ]
     },
     "execution_count": 84,
     "metadata": {},
     "output_type": "execute_result"
    }
   ],
   "source": [
    "clean_text = clean_text.sample(frac=1).reset_index(drop=True)\n",
    "clean_text.index.name = 'id'\n",
    "clean_text.head()"
   ]
  },
  {
   "cell_type": "code",
   "execution_count": 85,
   "metadata": {},
   "outputs": [],
   "source": [
    "clean_text.to_csv('data/clean_text.csv')"
   ]
  },
  {
   "cell_type": "code",
   "execution_count": 16,
   "metadata": {},
   "outputs": [
    {
     "data": {
      "text/html": [
       "<div>\n",
       "<style scoped>\n",
       "    .dataframe tbody tr th:only-of-type {\n",
       "        vertical-align: middle;\n",
       "    }\n",
       "\n",
       "    .dataframe tbody tr th {\n",
       "        vertical-align: top;\n",
       "    }\n",
       "\n",
       "    .dataframe thead th {\n",
       "        text-align: right;\n",
       "    }\n",
       "</style>\n",
       "<table border=\"1\" class=\"dataframe\">\n",
       "  <thead>\n",
       "    <tr style=\"text-align: right;\">\n",
       "      <th></th>\n",
       "      <th>intensity</th>\n",
       "      <th>polarity</th>\n",
       "      <th>text</th>\n",
       "    </tr>\n",
       "  </thead>\n",
       "  <tbody>\n",
       "    <tr>\n",
       "      <th>0</th>\n",
       "      <td>1.0</td>\n",
       "      <td>0.0</td>\n",
       "      <td>Don't buy: This company will set you back a bi...</td>\n",
       "    </tr>\n",
       "    <tr>\n",
       "      <th>2</th>\n",
       "      <td>1.0</td>\n",
       "      <td>1.0</td>\n",
       "      <td>Beaugh: Excellent basic material. Well organiz...</td>\n",
       "    </tr>\n",
       "    <tr>\n",
       "      <th>4</th>\n",
       "      <td>1.0</td>\n",
       "      <td>1.0</td>\n",
       "      <td>Can it get any better?: I have not read all th...</td>\n",
       "    </tr>\n",
       "    <tr>\n",
       "      <th>5</th>\n",
       "      <td>1.0</td>\n",
       "      <td>0.0</td>\n",
       "      <td>Bissell 9200 ProHeat a deep disappointment: I ...</td>\n",
       "    </tr>\n",
       "    <tr>\n",
       "      <th>8</th>\n",
       "      <td>1.0</td>\n",
       "      <td>1.0</td>\n",
       "      <td>Very Good Capo: Items like a capo are very muc...</td>\n",
       "    </tr>\n",
       "    <tr>\n",
       "      <th>16</th>\n",
       "      <td>1.0</td>\n",
       "      <td>0.0</td>\n",
       "      <td>Flat, Drab, Disappointing: Alfonso Cuaron has ...</td>\n",
       "    </tr>\n",
       "    <tr>\n",
       "      <th>20</th>\n",
       "      <td>1.0</td>\n",
       "      <td>0.0</td>\n",
       "      <td>This is a strange book with strange protagonis...</td>\n",
       "    </tr>\n",
       "    <tr>\n",
       "      <th>22</th>\n",
       "      <td>1.0</td>\n",
       "      <td>0.0</td>\n",
       "      <td>Not Good: These highlighters come in pretty co...</td>\n",
       "    </tr>\n",
       "    <tr>\n",
       "      <th>24</th>\n",
       "      <td>1.0</td>\n",
       "      <td>1.0</td>\n",
       "      <td>Good Value for Money: Audio-wise I have yet to...</td>\n",
       "    </tr>\n",
       "    <tr>\n",
       "      <th>29</th>\n",
       "      <td>1.0</td>\n",
       "      <td>1.0</td>\n",
       "      <td>courageous: totally fantastic!!!!! when you fi...</td>\n",
       "    </tr>\n",
       "    <tr>\n",
       "      <th>31</th>\n",
       "      <td>1.0</td>\n",
       "      <td>0.0</td>\n",
       "      <td>I think this is the first book I've ever hated...</td>\n",
       "    </tr>\n",
       "    <tr>\n",
       "      <th>36</th>\n",
       "      <td>1.0</td>\n",
       "      <td>0.0</td>\n",
       "      <td>Poorly written: This 60 pages pamphlet is a co...</td>\n",
       "    </tr>\n",
       "    <tr>\n",
       "      <th>39</th>\n",
       "      <td>1.0</td>\n",
       "      <td>1.0</td>\n",
       "      <td>Breathing is ALL WRONG!: I recently bought thi...</td>\n",
       "    </tr>\n",
       "    <tr>\n",
       "      <th>41</th>\n",
       "      <td>1.0</td>\n",
       "      <td>1.0</td>\n",
       "      <td>Classic Rock: I forgot all about this album un...</td>\n",
       "    </tr>\n",
       "    <tr>\n",
       "      <th>42</th>\n",
       "      <td>1.0</td>\n",
       "      <td>1.0</td>\n",
       "      <td>Good Season: 24 is about Jack Bauer works for ...</td>\n",
       "    </tr>\n",
       "    <tr>\n",
       "      <th>44</th>\n",
       "      <td>1.0</td>\n",
       "      <td>1.0</td>\n",
       "      <td>ENJOYABLY DIFFERENT: This issue of amanda haza...</td>\n",
       "    </tr>\n",
       "    <tr>\n",
       "      <th>46</th>\n",
       "      <td>1.0</td>\n",
       "      <td>1.0</td>\n",
       "      <td>the best movie ever: this was fun. my sisters ...</td>\n",
       "    </tr>\n",
       "    <tr>\n",
       "      <th>49</th>\n",
       "      <td>1.0</td>\n",
       "      <td>0.0</td>\n",
       "      <td>awful values: My 2 year old pulled this book o...</td>\n",
       "    </tr>\n",
       "    <tr>\n",
       "      <th>50</th>\n",
       "      <td>1.0</td>\n",
       "      <td>1.0</td>\n",
       "      <td>Great book: This was a fantastic book. I read ...</td>\n",
       "    </tr>\n",
       "    <tr>\n",
       "      <th>51</th>\n",
       "      <td>1.0</td>\n",
       "      <td>0.0</td>\n",
       "      <td>Wish I had bought a different book: Really dis...</td>\n",
       "    </tr>\n",
       "    <tr>\n",
       "      <th>52</th>\n",
       "      <td>1.0</td>\n",
       "      <td>0.0</td>\n",
       "      <td>I read this way back when, when when was only ...</td>\n",
       "    </tr>\n",
       "    <tr>\n",
       "      <th>58</th>\n",
       "      <td>1.0</td>\n",
       "      <td>0.0</td>\n",
       "      <td>No point in buying this card online: The purpo...</td>\n",
       "    </tr>\n",
       "    <tr>\n",
       "      <th>60</th>\n",
       "      <td>1.0</td>\n",
       "      <td>0.0</td>\n",
       "      <td>I have no words for how unendurably horrible a...</td>\n",
       "    </tr>\n",
       "    <tr>\n",
       "      <th>62</th>\n",
       "      <td>1.0</td>\n",
       "      <td>1.0</td>\n",
       "      <td>Great price, easy to install, works, lacks ins...</td>\n",
       "    </tr>\n",
       "    <tr>\n",
       "      <th>66</th>\n",
       "      <td>1.0</td>\n",
       "      <td>1.0</td>\n",
       "      <td>Fun to play with: I bought this toy for my dis...</td>\n",
       "    </tr>\n",
       "    <tr>\n",
       "      <th>68</th>\n",
       "      <td>1.0</td>\n",
       "      <td>1.0</td>\n",
       "      <td>Good Sleep: My hip and knees would keep me awa...</td>\n",
       "    </tr>\n",
       "    <tr>\n",
       "      <th>69</th>\n",
       "      <td>1.0</td>\n",
       "      <td>0.0</td>\n",
       "      <td>Another fine example of Lori Wick's exceptiona...</td>\n",
       "    </tr>\n",
       "    <tr>\n",
       "      <th>70</th>\n",
       "      <td>1.0</td>\n",
       "      <td>0.0</td>\n",
       "      <td>I cannot understand how this book is getting s...</td>\n",
       "    </tr>\n",
       "    <tr>\n",
       "      <th>73</th>\n",
       "      <td>1.0</td>\n",
       "      <td>1.0</td>\n",
       "      <td>Nice movie: It's a nice movie for an evening w...</td>\n",
       "    </tr>\n",
       "    <tr>\n",
       "      <th>76</th>\n",
       "      <td>1.0</td>\n",
       "      <td>1.0</td>\n",
       "      <td>Belly dancing with Mara: This tape is very wel...</td>\n",
       "    </tr>\n",
       "    <tr>\n",
       "      <th>...</th>\n",
       "      <td>...</td>\n",
       "      <td>...</td>\n",
       "      <td>...</td>\n",
       "    </tr>\n",
       "    <tr>\n",
       "      <th>99941</th>\n",
       "      <td>1.0</td>\n",
       "      <td>0.0</td>\n",
       "      <td>Works, but fragile.: Well, I've used this, and...</td>\n",
       "    </tr>\n",
       "    <tr>\n",
       "      <th>99942</th>\n",
       "      <td>1.0</td>\n",
       "      <td>1.0</td>\n",
       "      <td>#5 Is A Tune In A World Of It's Own: Not a big...</td>\n",
       "    </tr>\n",
       "    <tr>\n",
       "      <th>99945</th>\n",
       "      <td>1.0</td>\n",
       "      <td>0.0</td>\n",
       "      <td>Anti-American leftirst: Mr. Chomsky, a widely ...</td>\n",
       "    </tr>\n",
       "    <tr>\n",
       "      <th>99948</th>\n",
       "      <td>1.0</td>\n",
       "      <td>1.0</td>\n",
       "      <td>If you enjoy midwest history and depression er...</td>\n",
       "    </tr>\n",
       "    <tr>\n",
       "      <th>99949</th>\n",
       "      <td>1.0</td>\n",
       "      <td>0.0</td>\n",
       "      <td>The guards ushered Frank into the office. As u...</td>\n",
       "    </tr>\n",
       "    <tr>\n",
       "      <th>99950</th>\n",
       "      <td>1.0</td>\n",
       "      <td>1.0</td>\n",
       "      <td>case: this product is beautiful. i am so lucky...</td>\n",
       "    </tr>\n",
       "    <tr>\n",
       "      <th>99951</th>\n",
       "      <td>1.0</td>\n",
       "      <td>0.0</td>\n",
       "      <td>I stuck through and read this because it was m...</td>\n",
       "    </tr>\n",
       "    <tr>\n",
       "      <th>99954</th>\n",
       "      <td>1.0</td>\n",
       "      <td>1.0</td>\n",
       "      <td>Great book: Bought this book after I read abou...</td>\n",
       "    </tr>\n",
       "    <tr>\n",
       "      <th>99956</th>\n",
       "      <td>1.0</td>\n",
       "      <td>0.0</td>\n",
       "      <td>A Cheap Knock-Off of the Original: This is the...</td>\n",
       "    </tr>\n",
       "    <tr>\n",
       "      <th>99958</th>\n",
       "      <td>1.0</td>\n",
       "      <td>0.0</td>\n",
       "      <td>I wanted to like this book, but I just couldn'...</td>\n",
       "    </tr>\n",
       "    <tr>\n",
       "      <th>99960</th>\n",
       "      <td>1.0</td>\n",
       "      <td>0.0</td>\n",
       "      <td>Does NOT work with iPhone: Contrary to several...</td>\n",
       "    </tr>\n",
       "    <tr>\n",
       "      <th>99961</th>\n",
       "      <td>1.0</td>\n",
       "      <td>0.0</td>\n",
       "      <td>must learn FRENCH first!: THE DVD WAS SUPPOSED...</td>\n",
       "    </tr>\n",
       "    <tr>\n",
       "      <th>99963</th>\n",
       "      <td>1.0</td>\n",
       "      <td>1.0</td>\n",
       "      <td>Superb!: I absolutely loved this book!!! Fanta...</td>\n",
       "    </tr>\n",
       "    <tr>\n",
       "      <th>99964</th>\n",
       "      <td>1.0</td>\n",
       "      <td>0.0</td>\n",
       "      <td>BOOK ERROR-HOOVER DIED IN 1972!: There's a pho...</td>\n",
       "    </tr>\n",
       "    <tr>\n",
       "      <th>99970</th>\n",
       "      <td>1.0</td>\n",
       "      <td>0.0</td>\n",
       "      <td>Sensationalist drivel for the masses: This boo...</td>\n",
       "    </tr>\n",
       "    <tr>\n",
       "      <th>99972</th>\n",
       "      <td>1.0</td>\n",
       "      <td>0.0</td>\n",
       "      <td>Yet another plea for superstition and reaction...</td>\n",
       "    </tr>\n",
       "    <tr>\n",
       "      <th>99973</th>\n",
       "      <td>1.0</td>\n",
       "      <td>0.0</td>\n",
       "      <td>Disappointing: If you are a fan of the origina...</td>\n",
       "    </tr>\n",
       "    <tr>\n",
       "      <th>99974</th>\n",
       "      <td>1.0</td>\n",
       "      <td>1.0</td>\n",
       "      <td>Works great .. but blew my IBM T40 wireless ha...</td>\n",
       "    </tr>\n",
       "    <tr>\n",
       "      <th>99981</th>\n",
       "      <td>1.0</td>\n",
       "      <td>1.0</td>\n",
       "      <td>Excellent Information: A very useful companion...</td>\n",
       "    </tr>\n",
       "    <tr>\n",
       "      <th>99983</th>\n",
       "      <td>1.0</td>\n",
       "      <td>1.0</td>\n",
       "      <td>Thank you Mr. Douglass…this was a life changer...</td>\n",
       "    </tr>\n",
       "    <tr>\n",
       "      <th>99985</th>\n",
       "      <td>1.0</td>\n",
       "      <td>0.0</td>\n",
       "      <td>First half: somewhat faulty science whose flaw...</td>\n",
       "    </tr>\n",
       "    <tr>\n",
       "      <th>99986</th>\n",
       "      <td>1.0</td>\n",
       "      <td>1.0</td>\n",
       "      <td>This is the best!!!: I bought this for my daug...</td>\n",
       "    </tr>\n",
       "    <tr>\n",
       "      <th>99988</th>\n",
       "      <td>1.0</td>\n",
       "      <td>0.0</td>\n",
       "      <td>Practical But Noisy: The fan is exactly what I...</td>\n",
       "    </tr>\n",
       "    <tr>\n",
       "      <th>99989</th>\n",
       "      <td>1.0</td>\n",
       "      <td>1.0</td>\n",
       "      <td>I forgot how much I enjoyed this show!: This s...</td>\n",
       "    </tr>\n",
       "    <tr>\n",
       "      <th>99991</th>\n",
       "      <td>1.0</td>\n",
       "      <td>0.0</td>\n",
       "      <td>As Barthes says, the only character in the tex...</td>\n",
       "    </tr>\n",
       "    <tr>\n",
       "      <th>99992</th>\n",
       "      <td>1.0</td>\n",
       "      <td>0.0</td>\n",
       "      <td>blurry text strains your eyes: I can't believe...</td>\n",
       "    </tr>\n",
       "    <tr>\n",
       "      <th>99994</th>\n",
       "      <td>1.0</td>\n",
       "      <td>1.0</td>\n",
       "      <td>I am in the expanded edition of this book, fri...</td>\n",
       "    </tr>\n",
       "    <tr>\n",
       "      <th>99996</th>\n",
       "      <td>1.0</td>\n",
       "      <td>0.0</td>\n",
       "      <td>Don't waste your money: The product is over pr...</td>\n",
       "    </tr>\n",
       "    <tr>\n",
       "      <th>99997</th>\n",
       "      <td>1.0</td>\n",
       "      <td>1.0</td>\n",
       "      <td>Simply Incredible: My family and I have had ou...</td>\n",
       "    </tr>\n",
       "    <tr>\n",
       "      <th>99999</th>\n",
       "      <td>1.0</td>\n",
       "      <td>0.0</td>\n",
       "      <td>Batteries Did not work: Tried these in my came...</td>\n",
       "    </tr>\n",
       "  </tbody>\n",
       "</table>\n",
       "<p>43124 rows × 3 columns</p>\n",
       "</div>"
      ],
      "text/plain": [
       "       intensity  polarity                                               text\n",
       "0            1.0       0.0  Don't buy: This company will set you back a bi...\n",
       "2            1.0       1.0  Beaugh: Excellent basic material. Well organiz...\n",
       "4            1.0       1.0  Can it get any better?: I have not read all th...\n",
       "5            1.0       0.0  Bissell 9200 ProHeat a deep disappointment: I ...\n",
       "8            1.0       1.0  Very Good Capo: Items like a capo are very muc...\n",
       "16           1.0       0.0  Flat, Drab, Disappointing: Alfonso Cuaron has ...\n",
       "20           1.0       0.0  This is a strange book with strange protagonis...\n",
       "22           1.0       0.0  Not Good: These highlighters come in pretty co...\n",
       "24           1.0       1.0  Good Value for Money: Audio-wise I have yet to...\n",
       "29           1.0       1.0  courageous: totally fantastic!!!!! when you fi...\n",
       "31           1.0       0.0  I think this is the first book I've ever hated...\n",
       "36           1.0       0.0  Poorly written: This 60 pages pamphlet is a co...\n",
       "39           1.0       1.0  Breathing is ALL WRONG!: I recently bought thi...\n",
       "41           1.0       1.0  Classic Rock: I forgot all about this album un...\n",
       "42           1.0       1.0  Good Season: 24 is about Jack Bauer works for ...\n",
       "44           1.0       1.0  ENJOYABLY DIFFERENT: This issue of amanda haza...\n",
       "46           1.0       1.0  the best movie ever: this was fun. my sisters ...\n",
       "49           1.0       0.0  awful values: My 2 year old pulled this book o...\n",
       "50           1.0       1.0  Great book: This was a fantastic book. I read ...\n",
       "51           1.0       0.0  Wish I had bought a different book: Really dis...\n",
       "52           1.0       0.0  I read this way back when, when when was only ...\n",
       "58           1.0       0.0  No point in buying this card online: The purpo...\n",
       "60           1.0       0.0  I have no words for how unendurably horrible a...\n",
       "62           1.0       1.0  Great price, easy to install, works, lacks ins...\n",
       "66           1.0       1.0  Fun to play with: I bought this toy for my dis...\n",
       "68           1.0       1.0  Good Sleep: My hip and knees would keep me awa...\n",
       "69           1.0       0.0  Another fine example of Lori Wick's exceptiona...\n",
       "70           1.0       0.0  I cannot understand how this book is getting s...\n",
       "73           1.0       1.0  Nice movie: It's a nice movie for an evening w...\n",
       "76           1.0       1.0  Belly dancing with Mara: This tape is very wel...\n",
       "...          ...       ...                                                ...\n",
       "99941        1.0       0.0  Works, but fragile.: Well, I've used this, and...\n",
       "99942        1.0       1.0  #5 Is A Tune In A World Of It's Own: Not a big...\n",
       "99945        1.0       0.0  Anti-American leftirst: Mr. Chomsky, a widely ...\n",
       "99948        1.0       1.0  If you enjoy midwest history and depression er...\n",
       "99949        1.0       0.0  The guards ushered Frank into the office. As u...\n",
       "99950        1.0       1.0  case: this product is beautiful. i am so lucky...\n",
       "99951        1.0       0.0  I stuck through and read this because it was m...\n",
       "99954        1.0       1.0  Great book: Bought this book after I read abou...\n",
       "99956        1.0       0.0  A Cheap Knock-Off of the Original: This is the...\n",
       "99958        1.0       0.0  I wanted to like this book, but I just couldn'...\n",
       "99960        1.0       0.0  Does NOT work with iPhone: Contrary to several...\n",
       "99961        1.0       0.0  must learn FRENCH first!: THE DVD WAS SUPPOSED...\n",
       "99963        1.0       1.0  Superb!: I absolutely loved this book!!! Fanta...\n",
       "99964        1.0       0.0  BOOK ERROR-HOOVER DIED IN 1972!: There's a pho...\n",
       "99970        1.0       0.0  Sensationalist drivel for the masses: This boo...\n",
       "99972        1.0       0.0  Yet another plea for superstition and reaction...\n",
       "99973        1.0       0.0  Disappointing: If you are a fan of the origina...\n",
       "99974        1.0       1.0  Works great .. but blew my IBM T40 wireless ha...\n",
       "99981        1.0       1.0  Excellent Information: A very useful companion...\n",
       "99983        1.0       1.0  Thank you Mr. Douglass…this was a life changer...\n",
       "99985        1.0       0.0  First half: somewhat faulty science whose flaw...\n",
       "99986        1.0       1.0  This is the best!!!: I bought this for my daug...\n",
       "99988        1.0       0.0  Practical But Noisy: The fan is exactly what I...\n",
       "99989        1.0       1.0  I forgot how much I enjoyed this show!: This s...\n",
       "99991        1.0       0.0  As Barthes says, the only character in the tex...\n",
       "99992        1.0       0.0  blurry text strains your eyes: I can't believe...\n",
       "99994        1.0       1.0  I am in the expanded edition of this book, fri...\n",
       "99996        1.0       0.0  Don't waste your money: The product is over pr...\n",
       "99997        1.0       1.0  Simply Incredible: My family and I have had ou...\n",
       "99999        1.0       0.0  Batteries Did not work: Tried these in my came...\n",
       "\n",
       "[43124 rows x 3 columns]"
      ]
     },
     "execution_count": 16,
     "metadata": {},
     "output_type": "execute_result"
    }
   ],
   "source": [
    "clean_text = pd.read_csv(\"data/clean_text.csv\")\n",
    "clean_text[clean_text[\"intensity\"] == 1]"
   ]
  },
  {
   "cell_type": "code",
   "execution_count": 17,
   "metadata": {},
   "outputs": [],
   "source": [
    "polar_text = clean_text[clean_text[\"intensity\"] == 1]"
   ]
  },
  {
   "cell_type": "code",
   "execution_count": 20,
   "metadata": {},
   "outputs": [
    {
     "name": "stdout",
     "output_type": "stream",
     "text": [
      "I think this is the first book I've ever hated. And that list is pretty short. As a child, it really distressed me - I didn't understand much of it, and it confused me why its tone was so very different from the other Narnia books. Then, when I reread it a few years ago, it just pissed me off. The message about religious pluralism is refreshing, sure, but the book just plain reads wrong, and I will probably never get over Lewis's treatment of Susan. I guess if you don't believe in God, you deserve to lose your entire family in a train crash. Awesome.I suppose there is some hope in that Susan did not die - maybe her family's gruesome deaths will help her find God, and then a train will kill her too, and she'll join Peter, Edmund, and Lucy in Aslan's country! Bleargh.\n",
      "\n",
      "\n",
      "Poorly written: This 60 pages pamphlet is a copy and paste version of the actual 372 pages book. I'm not sure if this was intended to be a supplement to the book or a summary of the book. I was looking for the book, not knowing what it looked like; therefore, I thought since this one had the same name and publication company, it was what we needed. After reading the book and noticing the references to pages and tables that weren't in the book, further investigation was taken. If you are looking for the book in order to study for a licensing exam, this is not the one. In addition, it was poorly written, hard to follow, and contained many misspelled words.\n",
      "\n",
      "\n",
      "Breathing is ALL WRONG!: I recently bought this album and as a trained singer, was pretty impressed. One thing I found VERY annoying though, was her breathing. She breathes pretty loud and at times it sounds as if she is gasping for air. In \"Leave (Get Out)\" her first single, you can hear her lick her lips ( or something of that sort!). But you do have to take into consideration that she was only 13 when she recorded the album.But JoJo has a very nice Pop voice with an R&B; twist, which is fun to listen too. My personal faorite song is \"Homeboy\" which I am sure many young girls can relate too. You know how most Pop singers don't write their own songs? Well surprisingly JoJo wrote or co-wrote a few of her songs including \" Keep on Keepin' On\" which is pretty insperational. But other songs kind of flop, because they are either boring or have lame lyrics.I do reccomend this Album if you want to entertain yourself or friends, but not if you are extremely critical when it comes to singing technique.\n",
      "\n",
      "\n",
      "Classic Rock: I forgot all about this album until recently. This was recorded back when Rod and Ronnie were rockers and balladeers. His duet with Elton John has me tapping my toes even when driving, which I know isn't a safe thing to do. Listening to this, I 'm taken back to the early 70's when rock was genuine and fun.\n",
      "\n",
      "\n",
      "Good Season: 24 is about Jack Bauer works for CTU he's has an assignment to protect Palmer. The show gets better and better with twists + turns keeps you wanting more. I cant wait to see Season 2 of 24!\n",
      "\n",
      "\n",
      "ENJOYABLY DIFFERENT: This issue of amanda hazard is completely different from all previous ones. Amanda has a more ineresting plot to follow and is a more belivable character. The ending is unlike any other I have read by this author or any other author for that matter. I trully recommend this book and this series to everyone.\n",
      "\n",
      "\n",
      "the best movie ever: this was fun. my sisters man bought it over and he said it was funny so i popped it in the vcr. this was ridiculous in a good way same as sugar and spice. i liked those hot alien chicks. this movie was funny and hip and cool. rent this instead of the make me wanna puke bring it on with kirsten dunst who is a hottie. well shibby im out dude.\n",
      "\n",
      "\n",
      "awful values: My 2 year old pulled this book off of the shelf so I bought it without reading it first. I knew it was critically aclaimed. Big mistake. This book is the worst children's book I have ever read.It is not about sharing. It is about giving everything away that is yours, and then people will like you. Seems very communistic to me. My 4 year old also wanted me to read it to him. After I did, we had a big discussion about how you should not have to give all of your things away to have friends, and those are not the type of people you want to be your friend anyway. A sharing book should be about letting others use your toys, or other things. Not giving something very precious to you away. This book is absolutely aweful!\n",
      "\n",
      "\n",
      "Great book: This was a fantastic book. I read it aloud to my three children. It is educational, exciting, and inspiring. As another reviewer has said, it gives a great portrayal of manhood. Although Bill is only eight, he learns to work hard and be dependable. We all learned a lot and had fun along the way!\n",
      "\n",
      "\n",
      "Wish I had bought a different book: Really disappointed with this cookbook, and I don't even know if I will use it. Really wish I had bought a different one, there are just so many to choose from. The thing about this one is, these recipes are not dairy free and egg free, etc., like it claims, but almost all of them have this stuff in them but with suggested substitutions to the side on some of them. And then on some the author says you can't substitute eggs in this one...well then why is it even in there?? It is deceptive and I wouldn't buy it.\n",
      "\n",
      "\n",
      "I read this way back when, when when was only just becoming when. That's few years back now.Anyway, is it not true that if a songwriter writes something like Hallelujah or I Will Always Love You-oo a whole lot of people rush to record it and sometimes do really interesting & different versions - and some versions are better than the original, Jeff Buckley takes over Hallelujah completely just as Elvis took over Hound Dog and Big Mama Thornton was left looking askance. Yet in the world of fiction, this does not happen. Somebody writes a novel and it's supposed to be theirs & theirs alone. You touch my book, I slap you with a writ. Yeah? Yeah! But why can't someone else come along & write their version of your story? This is what Kathy Acker was revolutionalistically suggesting by rewriting very badly Great Expectations. The idea is that you put in a few jazz chords, take out that tiresome riff and add a new one, get rid of the sub plot about the neighbour's wife's suspicions that her son was a rent boy - good god, that was terrible - increase the bpm by a little bit not too much.Well, there is stuff like Pride & Prejudice with Zombies but that's just silly. I was thinking more along the lines of re-doing The Lovely Bones where she doesn't die, so it's more cheerful, or rewriting Philip Roth novels so that the hero has great relationships with women and only has positive things to say about them - but of course keep the same plot and characters. That's important otherwise you might as well just write your own book. Maybe it wouldn't work with books, but it's completely normal in the world of pop songs. In fact songwriters are disappointed if no one else does their stuff. And the songwriters are artists but they don't go around saying \"the guitar break has to stay\" or \"every word of this song has to be sung in the same way by the same person every time\". How silly would it be if authors demanded the same printer is used every time their novel is printed. Absurd. So - I'm quite excited about this - I'm thinking of doing a version of We Need to Talk About Kevin in which they do actually talk about Kevin, and they never buy him any archery lessons, so he puts his talents to use elsewhere and becomes a pretty good banjo player. He joins this little newgrass band, they end up doing really well and one of their albums gets nominated for a Grammy, but it doesn't win. And nobody dies. I think that's a much better version.\n",
      "\n",
      "\n",
      "No point in buying this card online: The purpose of these cards is to allow people to pay cash for game time. Since you can't pay with cash on Amazon, that defeats the whole purpose. If you're going to buy game time online use PlayNC, it's the same price or cheaper, and you don't have to wait for delivery (or pay extra to have it sooner). If you don't want to use a credit card go find these card in retail outlets.\n",
      "\n",
      "\n",
      "I have no words for how unendurably horrible and boring this book is. Armand knows only how to cry, beg people to love him and seemingly can't get his head around Christ. He is a pathetic wanker that can do nothing on his own, with an unhealthy obsession with Lestat...whom he both loves and hates. He's 17 when turned a vampire, but when he's 500 years old and still 17 in his head, all you want is to strangle him. Apart from that - the narrator being an idiot and a madman - the book lacks plot. Absolutely nothing happens. When alluded to things of interest, Armand/Anne Rice is quick to let the reader know that the matter has already been told in this or that book, and anyway Armand Is Too Jealous Of Lestat to bother recounting it all. The ending is also absolute shit. I had hope until the very end, but...No, Armand is still a whiny wanker that needs to grow a backbone.\n",
      "\n",
      "\n",
      "Great price, easy to install, works, lacks instructions: Many of the reviewers here seem upset that this part fails. This part is designed to fail. This is a good thing. After having my garage door inspected after the original part failed, we determined the springs were not tight enough, thus making the door too heavy. So, this $15 part failed instead of the screw itself or the $200 opener. I'll take replacing a $15 part any day.This part is easy to install, and the tips in other reviews are very helpful, but this part should come with instructions.\n",
      "\n",
      "\n",
      "Fun to play with: I bought this toy for my disabled daughter for Christmas. When I received it I played with it for at least an hour before I wrapped it. It takes some getting used to, pushing the button and recording at just the right time, and with the right emphasis on your words. It is a great idea and once you get used to it it's a lot of fun. However, I don't know if my disabled daughter will be able to work it right. We'll find out on Christmas morning! I don't think this would be a good toy for a young child, under 3, but for older children I think it would be great.\n",
      "\n",
      "\n",
      "Good Sleep: My hip and knees would keep me awake many nights because of pain. Have not had any pain in my knees during the night since sleeping on the Serta memory foam.\n",
      "\n",
      "\n",
      "Another fine example of Lori Wick's exceptional writing. Not. What is wrong with her? Can't she make her characters anything but perfect? Lily is a stupid, weak, and silly girl who is so \"spiritual\" but is so unbelievably perfect that you don't really care for her at all. Her problems (ha) brought no sympathy from me whatsoever and I was sickened by her character. The girl got majorly sunburned over her own \"obedient\" idiocy and then (after spending who-knows-how-long in the hospital recovering, finally is released)goes to church and hears a convicting song after which she determines to be hard on herself for not attending church (while she was in the hospital, unable to move?). Where is the sense in that? Also, if you know you're burning to a crisp in the sun, don't you think you would have the common sense to get out of it? Her conversations with her father made me hopping mad. What kind of father would tell you that you can't EAT until you master the rules of golf? Seriously. Mrs. Wick just wanted to create dramatic situations that would allow Gabe to rescue his stupid heroine so you could oooh and ahh over the romance of it. Blech! I don't think she ever realized that in order to create a truly dramatic situation, you must first have characters people care about and second, have a believable reason for the situation to occur. I'm sorry, but this book deserves a review like this. It is truly something I don't believe she should be proud of. \n",
      "\n",
      "\n",
      "I cannot understand how this book is getting such rave reviews. I could barely finish it, I wanted to pull my hair out with boredom! The characters were so silly and stupid that you just want to smack them in the head, especially Tara. Give me a break woman, how is it that you accept living with a man who dotes on his cat while spewing verbal abuses at you in the same second? Ridiculous. And really, Marian Keyes, all the unnecessary detail...you're killing me. I was skimming through passage after passage after passage of text that meant absolutely nothing to me and added absolutely nothing to the story. I mean, this is a BIG book - 600 pages - for a story that could have been cut down to about 270-300 pages! I could not wrap my head around all the chapters that I could've literally torn right out of the book and still had a complete, full story intact. And Lorcan...WHO THE F**K is Lorcan?! I spent more than three quarters of the book reading random chapters about this man who disgusted me to no end, only for his \"purpose\" to be revealed in the last few chapters of a 600 page book. REALLY?! Are you kidding me right now? He is unbelievably sickening, I cannot even begin to imagine how stupid women need to be in order to fall for this man based on looks ONLY. I mean really, nothing...NOTHING...else is redeeming about him but his looks, and even that, I find hard to believe that he's so good looking you lose sight of everything else. Shoot me now. The only thing that kept me going at one point was the interaction and later, relationship, between Katherine and Joe. Finally, something worth reading in this book. Something sweet, and pure, with the regular ups and downs, but at least realistic and normal in this great spectacle of a book Keyes wrote. I do not recommend this book to anyone, and I am disappointed at the amount of rave reviews it's gotten that fooled me into buying it and wasting my time.\n",
      "\n",
      "\n",
      "Nice movie: It's a nice movie for an evening when one wants to relax. I've already watched it twice in the last couple of weeks. Beautiful music, and the movie is clean, not trashy at all.\n",
      "\n",
      "\n",
      "Belly dancing with Mara: This tape is very well done. Mara shows 12 different steps in an easy to understand format. Each segment is followed by a dance segment. Great for beginners.\n",
      "\n",
      "\n"
     ]
    }
   ],
   "source": [
    "for sample in polar_text[\"text\"][10:30]:\n",
    "    print(sample)\n",
    "    print(\"\\n\")"
   ]
  },
  {
   "cell_type": "code",
   "execution_count": null,
   "metadata": {},
   "outputs": [],
   "source": [
    "clean_text['text'].loc()"
   ]
  }
 ],
 "metadata": {
  "kernelspec": {
   "display_name": "Python 3",
   "language": "python",
   "name": "python3"
  },
  "language_info": {
   "codemirror_mode": {
    "name": "ipython",
    "version": 3
   },
   "file_extension": ".py",
   "mimetype": "text/x-python",
   "name": "python",
   "nbconvert_exporter": "python",
   "pygments_lexer": "ipython3",
   "version": "3.6.8"
  }
 },
 "nbformat": 4,
 "nbformat_minor": 2
}
