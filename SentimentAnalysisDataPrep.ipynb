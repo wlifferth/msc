{
 "cells": [
  {
   "cell_type": "code",
   "execution_count": 24,
   "metadata": {},
   "outputs": [],
   "source": [
    "import csv\n",
    "import matplotlib.pyplot as plt\n",
    "import pandas as pd\n",
    "import requests\n",
    "import time\n",
    "import warnings\n",
    "import wikipedia as wiki\n",
    "\n",
    "from bs4 import BeautifulSoup\n",
    "from nltk import tokenize"
   ]
  },
  {
   "cell_type": "code",
   "execution_count": 27,
   "metadata": {},
   "outputs": [],
   "source": [
    "def sentence_splitter(unsplit_df, include_original=True):\n",
    "    new_df = {'text':[], 'polarity':[], 'intensity':[]}\n",
    "    for text, polarity, intensity in zip(unsplit_df['text'], unsplit_df['polarity'], unsplit_df['intensity']):\n",
    "        for sent in tokenize.sent_tokenize(text):\n",
    "            new_df['text'].append(sent)\n",
    "            new_df['polarity'].append(polarity)\n",
    "            new_df['intensity'].append(intensity)\n",
    "        if include_original:\n",
    "            new_df['text'].append(text)\n",
    "            new_df['polarity'].append(polarity)\n",
    "            new_df['intensity'].append(intensity)\n",
    "    return pd.DataFrame(new_df)"
   ]
  },
  {
   "cell_type": "markdown",
   "metadata": {},
   "source": [
    "# Book Reviews"
   ]
  },
  {
   "cell_type": "code",
   "execution_count": 28,
   "metadata": {},
   "outputs": [
    {
     "name": "stderr",
     "output_type": "stream",
     "text": [
      "Skipping line 312075: unexpected end of data\n"
     ]
    },
    {
     "data": {
      "text/html": [
       "<div>\n",
       "<style scoped>\n",
       "    .dataframe tbody tr th:only-of-type {\n",
       "        vertical-align: middle;\n",
       "    }\n",
       "\n",
       "    .dataframe tbody tr th {\n",
       "        vertical-align: top;\n",
       "    }\n",
       "\n",
       "    .dataframe thead th {\n",
       "        text-align: right;\n",
       "    }\n",
       "</style>\n",
       "<table border=\"1\" class=\"dataframe\">\n",
       "  <thead>\n",
       "    <tr style=\"text-align: right;\">\n",
       "      <th></th>\n",
       "      <th>bookID</th>\n",
       "      <th>title</th>\n",
       "      <th>author</th>\n",
       "      <th>rating</th>\n",
       "      <th>ratingsCount</th>\n",
       "      <th>reviewsCount</th>\n",
       "      <th>reviewerName</th>\n",
       "      <th>reviewerRatings</th>\n",
       "      <th>review</th>\n",
       "    </tr>\n",
       "  </thead>\n",
       "  <tbody>\n",
       "    <tr>\n",
       "      <th>0</th>\n",
       "      <td>9</td>\n",
       "      <td>Unauthorized Harry Potter Book Seven News: \"Ha...</td>\n",
       "      <td>W. Frederick Zimmerman</td>\n",
       "      <td>3.73</td>\n",
       "      <td>22</td>\n",
       "      <td>1</td>\n",
       "      <td>Charles G</td>\n",
       "      <td>3.0</td>\n",
       "      <td>NaN</td>\n",
       "    </tr>\n",
       "    <tr>\n",
       "      <th>1</th>\n",
       "      <td>8</td>\n",
       "      <td>Harry Potter Boxed Set, Books 1-5 (Harry Potte...</td>\n",
       "      <td>J.K. Rowling</td>\n",
       "      <td>4.77</td>\n",
       "      <td>34107</td>\n",
       "      <td>156</td>\n",
       "      <td>✿Katherine Elizabeth✿</td>\n",
       "      <td>5.0</td>\n",
       "      <td>NaN</td>\n",
       "    </tr>\n",
       "    <tr>\n",
       "      <th>2</th>\n",
       "      <td>3</td>\n",
       "      <td>Harry Potter and the Sorcerer's Stone</td>\n",
       "      <td>J.K. Rowling</td>\n",
       "      <td>4.44</td>\n",
       "      <td>4911929</td>\n",
       "      <td>77741</td>\n",
       "      <td>Lora</td>\n",
       "      <td>5.0</td>\n",
       "      <td>I'm going to keep this brief since there isn't...</td>\n",
       "    </tr>\n",
       "  </tbody>\n",
       "</table>\n",
       "</div>"
      ],
      "text/plain": [
       "   bookID                                              title  \\\n",
       "0       9  Unauthorized Harry Potter Book Seven News: \"Ha...   \n",
       "1       8  Harry Potter Boxed Set, Books 1-5 (Harry Potte...   \n",
       "2       3              Harry Potter and the Sorcerer's Stone   \n",
       "\n",
       "                   author  rating  ratingsCount  reviewsCount  \\\n",
       "0  W. Frederick Zimmerman    3.73            22             1   \n",
       "1            J.K. Rowling    4.77         34107           156   \n",
       "2            J.K. Rowling    4.44       4911929         77741   \n",
       "\n",
       "            reviewerName  reviewerRatings  \\\n",
       "0              Charles G              3.0   \n",
       "1  ✿Katherine Elizabeth✿              5.0   \n",
       "2                   Lora              5.0   \n",
       "\n",
       "                                              review  \n",
       "0                                                NaN  \n",
       "1                                                NaN  \n",
       "2  I'm going to keep this brief since there isn't...  "
      ]
     },
     "execution_count": 28,
     "metadata": {},
     "output_type": "execute_result"
    }
   ],
   "source": [
    "raw_df_book_reviews = pd.read_csv('data/br.csv', engine='python', encoding='utf-8', usecols=range(9), error_bad_lines=False)\n",
    "raw_df_book_reviews.head(3)"
   ]
  },
  {
   "cell_type": "code",
   "execution_count": 29,
   "metadata": {},
   "outputs": [
    {
     "data": {
      "text/html": [
       "<div>\n",
       "<style scoped>\n",
       "    .dataframe tbody tr th:only-of-type {\n",
       "        vertical-align: middle;\n",
       "    }\n",
       "\n",
       "    .dataframe tbody tr th {\n",
       "        vertical-align: top;\n",
       "    }\n",
       "\n",
       "    .dataframe thead th {\n",
       "        text-align: right;\n",
       "    }\n",
       "</style>\n",
       "<table border=\"1\" class=\"dataframe\">\n",
       "  <thead>\n",
       "    <tr style=\"text-align: right;\">\n",
       "      <th></th>\n",
       "      <th>reviewerRatings</th>\n",
       "      <th>review</th>\n",
       "    </tr>\n",
       "  </thead>\n",
       "  <tbody>\n",
       "    <tr>\n",
       "      <th>0</th>\n",
       "      <td>3.0</td>\n",
       "      <td>NaN</td>\n",
       "    </tr>\n",
       "    <tr>\n",
       "      <th>1</th>\n",
       "      <td>5.0</td>\n",
       "      <td>NaN</td>\n",
       "    </tr>\n",
       "    <tr>\n",
       "      <th>2</th>\n",
       "      <td>5.0</td>\n",
       "      <td>I'm going to keep this brief since there isn't...</td>\n",
       "    </tr>\n",
       "  </tbody>\n",
       "</table>\n",
       "</div>"
      ],
      "text/plain": [
       "   reviewerRatings                                             review\n",
       "0              3.0                                                NaN\n",
       "1              5.0                                                NaN\n",
       "2              5.0  I'm going to keep this brief since there isn't..."
      ]
     },
     "execution_count": 29,
     "metadata": {},
     "output_type": "execute_result"
    }
   ],
   "source": [
    "subset_df_book_reviews = raw_df_book_reviews[['reviewerRatings', 'review']]\n",
    "subset_df_book_reviews.head(3)"
   ]
  },
  {
   "cell_type": "code",
   "execution_count": 30,
   "metadata": {},
   "outputs": [
    {
     "name": "stdout",
     "output_type": "stream",
     "text": [
      "312073\n",
      "109374\n"
     ]
    },
    {
     "data": {
      "text/plain": [
       "4.0    40942\n",
       "5.0    38660\n",
       "3.0    24060\n",
       "1.0     5712\n",
       "Name: reviewerRatings, dtype: int64"
      ]
     },
     "execution_count": 30,
     "metadata": {},
     "output_type": "execute_result"
    }
   ],
   "source": [
    "print(len(subset_df_book_reviews))\n",
    "xna_df_book_reviews = subset_df_book_reviews.dropna(axis=0)\n",
    "print(len(xna_df_book_reviews))\n",
    "xna_df_book_reviews.head(3)\n",
    "xna_df_book_reviews['reviewerRatings'].value_counts()"
   ]
  },
  {
   "cell_type": "code",
   "execution_count": 31,
   "metadata": {},
   "outputs": [],
   "source": [
    "def get_book_review_polarity(rating):\n",
    "    if rating > 3:\n",
    "        return 1\n",
    "    elif rating <= 3:\n",
    "        return 0\n",
    "\n",
    "def get_book_review_intensity(rating):\n",
    "    try:\n",
    "        mapping = {1: 1, 2: 0.5, 3: 0, 4: 0.5, 5: 1}\n",
    "        return mapping[rating]\n",
    "    except KeyError:\n",
    "        return 0\n",
    "\n",
    "def trim_sample(text):\n",
    "    words = text.split()\n",
    "    if len(words) > 100:\n",
    "        return ' '.join(words[:100])\n",
    "    else:\n",
    "        return ' '.join(words)"
   ]
  },
  {
   "cell_type": "code",
   "execution_count": 32,
   "metadata": {},
   "outputs": [],
   "source": [
    "with pd.option_context('mode.chained_assignment', None):\n",
    "    xna_df_book_reviews['polarity'] = xna_df_book_reviews['reviewerRatings'].apply(get_book_review_polarity)\n",
    "    xna_df_book_reviews['intensity'] = xna_df_book_reviews['reviewerRatings'].apply(get_book_review_intensity)\n",
    "    xna_df_book_reviews['text'] = xna_df_book_reviews['review'].apply(trim_sample)\n",
    "    clean_book_reviews = xna_df_book_reviews.drop(axis=1, labels=['reviewerRatings', 'review'])"
   ]
  },
  {
   "cell_type": "code",
   "execution_count": 33,
   "metadata": {},
   "outputs": [
    {
     "data": {
      "text/plain": [
       "1    79602\n",
       "0    29772\n",
       "Name: polarity, dtype: int64"
      ]
     },
     "execution_count": 33,
     "metadata": {},
     "output_type": "execute_result"
    }
   ],
   "source": [
    "clean_book_reviews['polarity'].value_counts()"
   ]
  },
  {
   "cell_type": "code",
   "execution_count": 36,
   "metadata": {},
   "outputs": [
    {
     "data": {
      "text/plain": [
       "1    475387\n",
       "0    181220\n",
       "Name: polarity, dtype: int64"
      ]
     },
     "execution_count": 36,
     "metadata": {},
     "output_type": "execute_result"
    }
   ],
   "source": [
    "clean_book_reviews = sentence_splitter(clean_book_reviews)\n",
    "clean_book_reviews['polarity'].value_counts()"
   ]
  },
  {
   "cell_type": "code",
   "execution_count": 50,
   "metadata": {},
   "outputs": [],
   "source": [
    "pos_book_reviews = clean_book_reviews[clean_book_reviews['polarity'] == 1].sample(n=50000)\n",
    "neg_book_reviews = clean_book_reviews[clean_book_reviews['polarity'] == 0].sample(n=50000)\n",
    "clean_book_reviews = pd.concat([pos_book_reviews, neg_book_reviews])"
   ]
  },
  {
   "cell_type": "code",
   "execution_count": 51,
   "metadata": {},
   "outputs": [
    {
     "name": "stdout",
     "output_type": "stream",
     "text": [
      "Number of records: 100000\n",
      "Average length of record: 188.59861\n",
      "                                                     text  polarity  intensity\n",
      "234618  I understand why it is, but I think those who ...         1        0.5\n",
      "345664  'Misery' is a gruesome story of torture with b...         1        1.0\n",
      "224720  The story concentrates on the childhood of Rob...         1        0.5\n"
     ]
    }
   ],
   "source": [
    "print(\"Number of records: {}\".format(len(clean_book_reviews)))\n",
    "print(\"Average length of record: {}\".format(clean_book_reviews['text'].str.len().mean()))\n",
    "print(clean_book_reviews.head(3))"
   ]
  },
  {
   "cell_type": "markdown",
   "metadata": {},
   "source": [
    "# Product Reviews"
   ]
  },
  {
   "cell_type": "code",
   "execution_count": 39,
   "metadata": {},
   "outputs": [
    {
     "data": {
      "text/html": [
       "<div>\n",
       "<style scoped>\n",
       "    .dataframe tbody tr th:only-of-type {\n",
       "        vertical-align: middle;\n",
       "    }\n",
       "\n",
       "    .dataframe tbody tr th {\n",
       "        vertical-align: top;\n",
       "    }\n",
       "\n",
       "    .dataframe thead th {\n",
       "        text-align: right;\n",
       "    }\n",
       "</style>\n",
       "<table border=\"1\" class=\"dataframe\">\n",
       "  <thead>\n",
       "    <tr style=\"text-align: right;\">\n",
       "      <th></th>\n",
       "      <th>0</th>\n",
       "    </tr>\n",
       "  </thead>\n",
       "  <tbody>\n",
       "    <tr>\n",
       "      <th>2890773</th>\n",
       "      <td>__label__1 Garbage: I am extremely dissapointe...</td>\n",
       "    </tr>\n",
       "    <tr>\n",
       "      <th>361494</th>\n",
       "      <td>__label__1 Ultraviolet copy is a scam!!! Not i...</td>\n",
       "    </tr>\n",
       "    <tr>\n",
       "      <th>4459</th>\n",
       "      <td>__label__1 NOT WATER PROOF: Don't waste your m...</td>\n",
       "    </tr>\n",
       "    <tr>\n",
       "      <th>1531757</th>\n",
       "      <td>__label__1 An awful misinterpretation of Herbi...</td>\n",
       "    </tr>\n",
       "    <tr>\n",
       "      <th>3336509</th>\n",
       "      <td>__label__2 The Bourne Trilogy Blu-Ray!: The Bo...</td>\n",
       "    </tr>\n",
       "  </tbody>\n",
       "</table>\n",
       "</div>"
      ],
      "text/plain": [
       "                                                         0\n",
       "2890773  __label__1 Garbage: I am extremely dissapointe...\n",
       "361494   __label__1 Ultraviolet copy is a scam!!! Not i...\n",
       "4459     __label__1 NOT WATER PROOF: Don't waste your m...\n",
       "1531757  __label__1 An awful misinterpretation of Herbi...\n",
       "3336509  __label__2 The Bourne Trilogy Blu-Ray!: The Bo..."
      ]
     },
     "execution_count": 39,
     "metadata": {},
     "output_type": "execute_result"
    }
   ],
   "source": [
    "raw_df_product_reviews = pd.read_csv('data/train.ft.txt', header=None, sep='\\n', engine='python')\n",
    "raw_df_product_reviews = raw_df_product_reviews.sample(n=200000)\n",
    "raw_df_product_reviews.head()"
   ]
  },
  {
   "cell_type": "code",
   "execution_count": 40,
   "metadata": {},
   "outputs": [],
   "source": [
    "def get_product_review_polarity(raw_text):\n",
    "    if raw_text[9] == '2':\n",
    "        return 1\n",
    "    else:\n",
    "        return 0\n",
    "\n",
    "def get_product_review_text(raw_text):\n",
    "    return raw_text[11:]\n",
    "\n",
    "raw_df_product_reviews['polarity'] = raw_df_product_reviews[0].apply(get_product_review_polarity)\n",
    "raw_df_product_reviews['intensity'] = 1\n",
    "raw_df_product_reviews['text'] = raw_df_product_reviews[0].apply(get_product_review_text).apply(trim_sample)\n",
    "clean_product_reviews = raw_df_product_reviews.drop(axis=1, labels=0)"
   ]
  },
  {
   "cell_type": "code",
   "execution_count": 42,
   "metadata": {},
   "outputs": [
    {
     "data": {
      "text/plain": [
       "0    100455\n",
       "1     99545\n",
       "Name: polarity, dtype: int64"
      ]
     },
     "execution_count": 42,
     "metadata": {},
     "output_type": "execute_result"
    }
   ],
   "source": [
    "clean_product_reviews['polarity'].value_counts()"
   ]
  },
  {
   "cell_type": "code",
   "execution_count": 43,
   "metadata": {},
   "outputs": [
    {
     "data": {
      "text/plain": [
       "0    564688\n",
       "1    533647\n",
       "Name: polarity, dtype: int64"
      ]
     },
     "execution_count": 43,
     "metadata": {},
     "output_type": "execute_result"
    }
   ],
   "source": [
    "clean_product_reviews = sentence_splitter(clean_product_reviews)\n",
    "clean_product_reviews['polarity'].value_counts()"
   ]
  },
  {
   "cell_type": "code",
   "execution_count": 52,
   "metadata": {},
   "outputs": [],
   "source": [
    "pos_pol_product_reviews = clean_product_reviews[clean_product_reviews['polarity'] == 1].sample(n=50000)\n",
    "neg_pol_product_reviews = clean_product_reviews[clean_product_reviews['polarity'] == 0].sample(n=50000)\n",
    "clean_product_reviews = pd.concat([pos_pol_product_reviews, neg_pol_product_reviews])"
   ]
  },
  {
   "cell_type": "code",
   "execution_count": 53,
   "metadata": {},
   "outputs": [
    {
     "name": "stdout",
     "output_type": "stream",
     "text": [
      "Number of records: 100000\n",
      "Average length of record: 136.34723\n",
      "                                                     text  polarity  intensity\n",
      "653926  I wanted to learn PHP so that I could start pr...         1          1\n",
      "457574  If you have or are planning on having a surrou...         1          1\n",
      "251531  NOTE: While a three novel book, the volume is ...         1          1\n"
     ]
    }
   ],
   "source": [
    "print(\"Number of records: {}\".format(len(clean_product_reviews)))\n",
    "print(\"Average length of record: {}\".format(clean_product_reviews['text'].str.len().mean()))\n",
    "print(clean_product_reviews.head(3))"
   ]
  },
  {
   "cell_type": "markdown",
   "metadata": {},
   "source": [
    "# Medium"
   ]
  },
  {
   "cell_type": "code",
   "execution_count": 54,
   "metadata": {},
   "outputs": [
    {
     "data": {
      "text/html": [
       "<div>\n",
       "<style scoped>\n",
       "    .dataframe tbody tr th:only-of-type {\n",
       "        vertical-align: middle;\n",
       "    }\n",
       "\n",
       "    .dataframe tbody tr th {\n",
       "        vertical-align: top;\n",
       "    }\n",
       "\n",
       "    .dataframe thead th {\n",
       "        text-align: right;\n",
       "    }\n",
       "</style>\n",
       "<table border=\"1\" class=\"dataframe\">\n",
       "  <thead>\n",
       "    <tr style=\"text-align: right;\">\n",
       "      <th></th>\n",
       "      <th>text</th>\n",
       "    </tr>\n",
       "  </thead>\n",
       "  <tbody>\n",
       "    <tr>\n",
       "      <th>0</th>\n",
       "      <td>The big lesson here is that it’s not enough to...</td>\n",
       "    </tr>\n",
       "    <tr>\n",
       "      <th>1</th>\n",
       "      <td>Restaurant menus come in all shapes and sizes....</td>\n",
       "    </tr>\n",
       "    <tr>\n",
       "      <th>2</th>\n",
       "      <td>Raja Ramachandran, CEO of ripe.io identified c...</td>\n",
       "    </tr>\n",
       "  </tbody>\n",
       "</table>\n",
       "</div>"
      ],
      "text/plain": [
       "                                                text\n",
       "0  The big lesson here is that it’s not enough to...\n",
       "1  Restaurant menus come in all shapes and sizes....\n",
       "2  Raja Ramachandran, CEO of ripe.io identified c..."
      ]
     },
     "execution_count": 54,
     "metadata": {},
     "output_type": "execute_result"
    }
   ],
   "source": [
    "raw_medium_articles_list = []\n",
    "with open('data/medium_samples.csv') as medium_file:\n",
    "    raw_medium_articles_list = medium_file.readlines()\n",
    "raw_medium_articles_list = [article.strip() for article in raw_medium_articles_list]\n",
    "raw_medium_articles = pd.DataFrame({'text': raw_medium_articles_list})\n",
    "raw_medium_articles.head(3)"
   ]
  },
  {
   "cell_type": "code",
   "execution_count": 59,
   "metadata": {},
   "outputs": [],
   "source": [
    "raw_medium_articles['polarity'] = 0.5\n",
    "raw_medium_articles['intensity'] = 0.0\n",
    "clean_medium_articles = raw_medium_articles"
   ]
  },
  {
   "cell_type": "code",
   "execution_count": 60,
   "metadata": {},
   "outputs": [
    {
     "data": {
      "text/plain": [
       "0.5    20518\n",
       "Name: polarity, dtype: int64"
      ]
     },
     "execution_count": 60,
     "metadata": {},
     "output_type": "execute_result"
    }
   ],
   "source": [
    "clean_medium_articles['polarity'].value_counts()"
   ]
  },
  {
   "cell_type": "code",
   "execution_count": 61,
   "metadata": {},
   "outputs": [
    {
     "data": {
      "text/plain": [
       "0.5    128478\n",
       "Name: polarity, dtype: int64"
      ]
     },
     "execution_count": 61,
     "metadata": {},
     "output_type": "execute_result"
    }
   ],
   "source": [
    "clean_medium_articles = sentence_splitter(clean_medium_articles)\n",
    "clean_medium_articles['polarity'].value_counts()"
   ]
  },
  {
   "cell_type": "code",
   "execution_count": 62,
   "metadata": {},
   "outputs": [],
   "source": [
    "clean_medium_articles = clean_medium_articles.sample(n=100000)"
   ]
  },
  {
   "cell_type": "code",
   "execution_count": 63,
   "metadata": {},
   "outputs": [
    {
     "name": "stdout",
     "output_type": "stream",
     "text": [
      "Number of records: 100000\n",
      "Average length of record: 183.69261\n",
      "                                                     text  polarity  intensity\n",
      "106152  Jane had been so young when he died and the fu...       0.5        0.0\n",
      "45696   You’ll see size-2 girls wearing microscopic sh...       0.5        0.0\n",
      "25508   Annapurna Base Camp Trekking is the mixture of...       0.5        0.0\n"
     ]
    }
   ],
   "source": [
    "print(\"Number of records: {}\".format(len(clean_medium_articles)))\n",
    "print(\"Average length of record: {}\".format(clean_medium_articles['text'].str.len().mean()))\n",
    "print(clean_medium_articles.head(3))"
   ]
  },
  {
   "cell_type": "markdown",
   "metadata": {},
   "source": [
    "# Wikipedia Articles"
   ]
  },
  {
   "cell_type": "code",
   "execution_count": 64,
   "metadata": {},
   "outputs": [
    {
     "data": {
      "text/html": [
       "<div>\n",
       "<style scoped>\n",
       "    .dataframe tbody tr th:only-of-type {\n",
       "        vertical-align: middle;\n",
       "    }\n",
       "\n",
       "    .dataframe tbody tr th {\n",
       "        vertical-align: top;\n",
       "    }\n",
       "\n",
       "    .dataframe thead th {\n",
       "        text-align: right;\n",
       "    }\n",
       "</style>\n",
       "<table border=\"1\" class=\"dataframe\">\n",
       "  <thead>\n",
       "    <tr style=\"text-align: right;\">\n",
       "      <th></th>\n",
       "      <th>text</th>\n",
       "    </tr>\n",
       "  </thead>\n",
       "  <tbody>\n",
       "    <tr>\n",
       "      <th>0</th>\n",
       "      <td>T (named tee ) is the 20th letter in the moder...</td>\n",
       "    </tr>\n",
       "    <tr>\n",
       "      <th>1</th>\n",
       "      <td>⟨t⟩ usually denotes the voiceless alveolar plo...</td>\n",
       "    </tr>\n",
       "    <tr>\n",
       "      <th>2</th>\n",
       "      <td>Thomas and thyme.) === Other languages === In ...</td>\n",
       "    </tr>\n",
       "  </tbody>\n",
       "</table>\n",
       "</div>"
      ],
      "text/plain": [
       "                                                text\n",
       "0  T (named tee ) is the 20th letter in the moder...\n",
       "1  ⟨t⟩ usually denotes the voiceless alveolar plo...\n",
       "2  Thomas and thyme.) === Other languages === In ..."
      ]
     },
     "execution_count": 64,
     "metadata": {},
     "output_type": "execute_result"
    }
   ],
   "source": [
    "raw_wiki_articles_list = []\n",
    "with open('data/wikipedia_samples.csv') as wiki_file:\n",
    "    raw_wiki_articles_list = wiki_file.readlines()\n",
    "raw_wiki_articles_list = [article.strip() for article in raw_wiki_articles_list]\n",
    "raw_wiki_articles = pd.DataFrame({'text': raw_wiki_articles_list})\n",
    "raw_wiki_articles.head(3)"
   ]
  },
  {
   "cell_type": "code",
   "execution_count": 67,
   "metadata": {},
   "outputs": [],
   "source": [
    "raw_wiki_articles['polarity'] = 0.5\n",
    "raw_wiki_articles['intensity'] = 0.0\n",
    "clean_wiki_articles = raw_wiki_articles"
   ]
  },
  {
   "cell_type": "code",
   "execution_count": 68,
   "metadata": {},
   "outputs": [
    {
     "data": {
      "text/plain": [
       "0.5    27080\n",
       "Name: polarity, dtype: int64"
      ]
     },
     "execution_count": 68,
     "metadata": {},
     "output_type": "execute_result"
    }
   ],
   "source": [
    "clean_wiki_articles['polarity'].value_counts()"
   ]
  },
  {
   "cell_type": "code",
   "execution_count": 69,
   "metadata": {},
   "outputs": [
    {
     "data": {
      "text/plain": [
       "0.5    150409\n",
       "Name: polarity, dtype: int64"
      ]
     },
     "execution_count": 69,
     "metadata": {},
     "output_type": "execute_result"
    }
   ],
   "source": [
    "clean_wiki_articles = sentence_splitter(clean_wiki_articles)\n",
    "clean_wiki_articles['polarity'].value_counts()"
   ]
  },
  {
   "cell_type": "code",
   "execution_count": 70,
   "metadata": {},
   "outputs": [
    {
     "name": "stdout",
     "output_type": "stream",
     "text": [
      "Number of records: 100000\n",
      "Average length of record: 209.50964\n",
      "                                                     text  polarity  intensity\n",
      "12690   }=\\hbar \\left({\\frac {\\omega }{c}},{\\vec {k}}\\...       0.5        0.0\n",
      "67827   letter small reversed epsilon / open e ɞ : Lat...       0.5        0.0\n",
      "143899                                          In Dutch,       0.5        0.0\n"
     ]
    }
   ],
   "source": [
    "clean_wiki_articles = clean_wiki_articles.sample(n=100000)\n",
    "print(\"Number of records: {}\".format(len(clean_wiki_articles)))\n",
    "print(\"Average length of record: {}\".format(clean_wiki_articles['text'].str.len().mean()))\n",
    "print(clean_wiki_articles.head(3))"
   ]
  },
  {
   "cell_type": "markdown",
   "metadata": {},
   "source": [
    "# Adding Data Together"
   ]
  },
  {
   "cell_type": "code",
   "execution_count": 80,
   "metadata": {},
   "outputs": [
    {
     "data": {
      "text/html": [
       "<div>\n",
       "<style scoped>\n",
       "    .dataframe tbody tr th:only-of-type {\n",
       "        vertical-align: middle;\n",
       "    }\n",
       "\n",
       "    .dataframe tbody tr th {\n",
       "        vertical-align: top;\n",
       "    }\n",
       "\n",
       "    .dataframe thead th {\n",
       "        text-align: right;\n",
       "    }\n",
       "</style>\n",
       "<table border=\"1\" class=\"dataframe\">\n",
       "  <thead>\n",
       "    <tr style=\"text-align: right;\">\n",
       "      <th></th>\n",
       "      <th>text</th>\n",
       "      <th>polarity</th>\n",
       "      <th>intensity</th>\n",
       "    </tr>\n",
       "    <tr>\n",
       "      <th>id</th>\n",
       "      <th></th>\n",
       "      <th></th>\n",
       "      <th></th>\n",
       "    </tr>\n",
       "  </thead>\n",
       "  <tbody>\n",
       "    <tr>\n",
       "      <th>234618</th>\n",
       "      <td>I understand why it is, but I think those who ...</td>\n",
       "      <td>1.0</td>\n",
       "      <td>0.5</td>\n",
       "    </tr>\n",
       "    <tr>\n",
       "      <th>345664</th>\n",
       "      <td>'Misery' is a gruesome story of torture with b...</td>\n",
       "      <td>1.0</td>\n",
       "      <td>1.0</td>\n",
       "    </tr>\n",
       "    <tr>\n",
       "      <th>224720</th>\n",
       "      <td>The story concentrates on the childhood of Rob...</td>\n",
       "      <td>1.0</td>\n",
       "      <td>0.5</td>\n",
       "    </tr>\n",
       "  </tbody>\n",
       "</table>\n",
       "</div>"
      ],
      "text/plain": [
       "                                                     text  polarity  intensity\n",
       "id                                                                            \n",
       "234618  I understand why it is, but I think those who ...       1.0        0.5\n",
       "345664  'Misery' is a gruesome story of torture with b...       1.0        1.0\n",
       "224720  The story concentrates on the childhood of Rob...       1.0        0.5"
      ]
     },
     "execution_count": 80,
     "metadata": {},
     "output_type": "execute_result"
    }
   ],
   "source": [
    "clean_text = pd.concat([clean_book_reviews, clean_product_reviews, clean_medium_articles, clean_wiki_articles])\n",
    "clean_text.head(3)"
   ]
  },
  {
   "cell_type": "code",
   "execution_count": 81,
   "metadata": {},
   "outputs": [
    {
     "name": "stdout",
     "output_type": "stream",
     "text": [
      "0.0    239626\n",
      "1.0    135071\n",
      "0.5     25303\n",
      "Name: intensity, dtype: int64\n",
      "0.5    200000\n",
      "0.0    100000\n",
      "1.0    100000\n",
      "Name: polarity, dtype: int64\n"
     ]
    }
   ],
   "source": [
    "print(clean_text['intensity'].value_counts())\n",
    "print(clean_text['polarity'].value_counts())"
   ]
  },
  {
   "cell_type": "code",
   "execution_count": 84,
   "metadata": {},
   "outputs": [
    {
     "data": {
      "text/html": [
       "<div>\n",
       "<style scoped>\n",
       "    .dataframe tbody tr th:only-of-type {\n",
       "        vertical-align: middle;\n",
       "    }\n",
       "\n",
       "    .dataframe tbody tr th {\n",
       "        vertical-align: top;\n",
       "    }\n",
       "\n",
       "    .dataframe thead th {\n",
       "        text-align: right;\n",
       "    }\n",
       "</style>\n",
       "<table border=\"1\" class=\"dataframe\">\n",
       "  <thead>\n",
       "    <tr style=\"text-align: right;\">\n",
       "      <th></th>\n",
       "      <th>text</th>\n",
       "      <th>polarity</th>\n",
       "      <th>intensity</th>\n",
       "    </tr>\n",
       "    <tr>\n",
       "      <th>id</th>\n",
       "      <th></th>\n",
       "      <th></th>\n",
       "      <th></th>\n",
       "    </tr>\n",
       "  </thead>\n",
       "  <tbody>\n",
       "    <tr>\n",
       "      <th>0</th>\n",
       "      <td>The above procedure describes not only the gro...</td>\n",
       "      <td>0.5</td>\n",
       "      <td>0.0</td>\n",
       "    </tr>\n",
       "    <tr>\n",
       "      <th>1</th>\n",
       "      <td>After he won the election, they began printing...</td>\n",
       "      <td>0.5</td>\n",
       "      <td>0.0</td>\n",
       "    </tr>\n",
       "    <tr>\n",
       "      <th>2</th>\n",
       "      <td>She handled the novel professionally, and as a...</td>\n",
       "      <td>0.0</td>\n",
       "      <td>0.0</td>\n",
       "    </tr>\n",
       "    <tr>\n",
       "      <th>3</th>\n",
       "      <td>If n is a positive integer, an nth primitive r...</td>\n",
       "      <td>0.5</td>\n",
       "      <td>0.0</td>\n",
       "    </tr>\n",
       "    <tr>\n",
       "      <th>4</th>\n",
       "      <td>The DVD is stuck inside and we can not get it ...</td>\n",
       "      <td>0.0</td>\n",
       "      <td>1.0</td>\n",
       "    </tr>\n",
       "  </tbody>\n",
       "</table>\n",
       "</div>"
      ],
      "text/plain": [
       "                                                 text  polarity  intensity\n",
       "id                                                                        \n",
       "0   The above procedure describes not only the gro...       0.5        0.0\n",
       "1   After he won the election, they began printing...       0.5        0.0\n",
       "2   She handled the novel professionally, and as a...       0.0        0.0\n",
       "3   If n is a positive integer, an nth primitive r...       0.5        0.0\n",
       "4   The DVD is stuck inside and we can not get it ...       0.0        1.0"
      ]
     },
     "execution_count": 84,
     "metadata": {},
     "output_type": "execute_result"
    }
   ],
   "source": [
    "clean_text = clean_text.sample(frac=1).reset_index(drop=True)\n",
    "clean_text.index.name = 'id'\n",
    "clean_text.head()"
   ]
  },
  {
   "cell_type": "code",
   "execution_count": 85,
   "metadata": {},
   "outputs": [],
   "source": [
    "clean_text.to_csv('data/clean_text.csv')"
   ]
  },
  {
   "cell_type": "code",
   "execution_count": null,
   "metadata": {},
   "outputs": [],
   "source": [
    "clean_text['text'].loc()"
   ]
  }
 ],
 "metadata": {
  "kernelspec": {
   "display_name": "Python 3",
   "language": "python",
   "name": "python3"
  },
  "language_info": {
   "codemirror_mode": {
    "name": "ipython",
    "version": 3
   },
   "file_extension": ".py",
   "mimetype": "text/x-python",
   "name": "python",
   "nbconvert_exporter": "python",
   "pygments_lexer": "ipython3",
   "version": "3.6.7"
  }
 },
 "nbformat": 4,
 "nbformat_minor": 2
}
