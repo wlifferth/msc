{
 "cells": [
  {
   "cell_type": "markdown",
   "metadata": {},
   "source": [
    "# Sentiment Analysis Convolutional Neural Network"
   ]
  },
  {
   "cell_type": "code",
   "execution_count": 1,
   "metadata": {},
   "outputs": [
    {
     "name": "stderr",
     "output_type": "stream",
     "text": [
      "Using TensorFlow backend.\n"
     ]
    }
   ],
   "source": [
    "import matplotlib.pyplot as plt\n",
    "import numpy as np\n",
    "import os\n",
    "import pandas as pd\n",
    "import pickle\n",
    "import spacy\n",
    "import tensorflow as tf\n",
    "\n",
    "from tensorflow import keras\n",
    "from keras.preprocessing.text import Tokenizer\n",
    "from keras.preprocessing.sequence import pad_sequences\n",
    "\n",
    "os.environ['KMP_DUPLICATE_LIB_OK']='True'"
   ]
  },
  {
   "cell_type": "code",
   "execution_count": 62,
   "metadata": {},
   "outputs": [],
   "source": [
    "embedding_dim = 200\n",
    "maxlen = 64\n",
    "clear_tokenizer = True\n",
    "clear_embedding_matrix = True\n",
    "clear_model = True\n",
    "glove_filepath = \"glove/glove.6B.200d.txt\""
   ]
  },
  {
   "cell_type": "code",
   "execution_count": 63,
   "metadata": {},
   "outputs": [],
   "source": [
    "def create_embedding_matrix(filepath, word_index, embedding_dim):\n",
    "    vocab_size = len(word_index) + 1  # Adding again 1 because of reserved 0 index\n",
    "    embedding_matrix = np.zeros((vocab_size, embedding_dim))\n",
    "\n",
    "    with open(filepath) as f:\n",
    "        for line in f:\n",
    "            word, *vector = line.split()\n",
    "            if word in word_index:\n",
    "                idx = word_index[word] \n",
    "                embedding_matrix[idx] = np.array(\n",
    "                    vector, dtype=np.float32)[:embedding_dim]\n",
    "\n",
    "    return embedding_matrix"
   ]
  },
  {
   "cell_type": "code",
   "execution_count": 64,
   "metadata": {},
   "outputs": [],
   "source": [
    "def save_model(model, model_path=\"models/sentiment_analysis_cnn_model.json\", weights_path=\"models/sentiment_analysis_cnn_model.hdf\"):\n",
    "    # serialize model to JSON\n",
    "    model_json = model.to_json()\n",
    "    with open(model_path, \"w\") as json_file:\n",
    "        json_file.write(model_json)\n",
    "    # serialize weights to HDF5\n",
    "    model.save_weights(weights_path)\n",
    "    print(\"Saved model to models/sentiment_analysis_cnn_model.json\")"
   ]
  },
  {
   "cell_type": "code",
   "execution_count": 65,
   "metadata": {},
   "outputs": [
    {
     "data": {
      "text/html": [
       "<div>\n",
       "<style scoped>\n",
       "    .dataframe tbody tr th:only-of-type {\n",
       "        vertical-align: middle;\n",
       "    }\n",
       "\n",
       "    .dataframe tbody tr th {\n",
       "        vertical-align: top;\n",
       "    }\n",
       "\n",
       "    .dataframe thead th {\n",
       "        text-align: right;\n",
       "    }\n",
       "</style>\n",
       "<table border=\"1\" class=\"dataframe\">\n",
       "  <thead>\n",
       "    <tr style=\"text-align: right;\">\n",
       "      <th></th>\n",
       "      <th>intensity</th>\n",
       "      <th>polarity</th>\n",
       "      <th>text</th>\n",
       "    </tr>\n",
       "  </thead>\n",
       "  <tbody>\n",
       "    <tr>\n",
       "      <th>46231</th>\n",
       "      <td>0.5</td>\n",
       "      <td>1.0</td>\n",
       "      <td>It is often written that the American Revoluti...</td>\n",
       "    </tr>\n",
       "    <tr>\n",
       "      <th>46135</th>\n",
       "      <td>0.0</td>\n",
       "      <td>0.5</td>\n",
       "      <td>When it comes to European history, I like to t...</td>\n",
       "    </tr>\n",
       "    <tr>\n",
       "      <th>17687</th>\n",
       "      <td>1.0</td>\n",
       "      <td>0.0</td>\n",
       "      <td>A Bit Stinky: Reminds me of the \"Fruit Bars\" f...</td>\n",
       "    </tr>\n",
       "    <tr>\n",
       "      <th>97495</th>\n",
       "      <td>0.0</td>\n",
       "      <td>0.5</td>\n",
       "      <td>is the capital city of France\" implies that th...</td>\n",
       "    </tr>\n",
       "    <tr>\n",
       "      <th>89039</th>\n",
       "      <td>0.0</td>\n",
       "      <td>0.5</td>\n",
       "      <td>This is quite excellent, but as I have 'Vogue ...</td>\n",
       "    </tr>\n",
       "  </tbody>\n",
       "</table>\n",
       "</div>"
      ],
      "text/plain": [
       "       intensity  polarity                                               text\n",
       "46231        0.5       1.0  It is often written that the American Revoluti...\n",
       "46135        0.0       0.5  When it comes to European history, I like to t...\n",
       "17687        1.0       0.0  A Bit Stinky: Reminds me of the \"Fruit Bars\" f...\n",
       "97495        0.0       0.5  is the capital city of France\" implies that th...\n",
       "89039        0.0       0.5  This is quite excellent, but as I have 'Vogue ..."
      ]
     },
     "execution_count": 65,
     "metadata": {},
     "output_type": "execute_result"
    }
   ],
   "source": [
    "training_df = pd.read_csv('data/clean_text.csv').sample(frac=1)\n",
    "training_df.head()"
   ]
  },
  {
   "cell_type": "code",
   "execution_count": 66,
   "metadata": {},
   "outputs": [
    {
     "name": "stdout",
     "output_type": "stream",
     "text": [
      "train len:  80000\n",
      "test len:  20000\n"
     ]
    }
   ],
   "source": [
    "train = training_df.sample(frac=0.8)\n",
    "test = training_df.drop(train.index)\n",
    "print(\"train len: \", len(train))\n",
    "print(\"test len: \", len(test))"
   ]
  },
  {
   "cell_type": "code",
   "execution_count": 67,
   "metadata": {},
   "outputs": [
    {
     "name": "stdout",
     "output_type": "stream",
     "text": [
      "models/tokenizer.pickle not found (or ignored); creating a new tokenizer\n"
     ]
    }
   ],
   "source": [
    "if os.path.exists('models/tokenizer.pickle') and not clear_tokenizer:\n",
    "    with open('models/tokenizer.pickle', 'rb') as handle:\n",
    "        tokenizer = pickle.load(handle)\n",
    "    print(\"loaded tokenizer from models/tokenizer.pickle\")\n",
    "else:\n",
    "    print(\"models/tokenizer.pickle not found (or ignored); creating a new tokenizer\")\n",
    "    tokenizer = Tokenizer(num_words=10000)\n",
    "    tokenizer.fit_on_texts(training_df[\"text\"])\n",
    "    # save for the future\n",
    "    with open('models/tokenizer.pickle', 'wb') as handle:\n",
    "        pickle.dump(tokenizer, handle, protocol=pickle.HIGHEST_PROTOCOL)"
   ]
  },
  {
   "cell_type": "code",
   "execution_count": 68,
   "metadata": {},
   "outputs": [
    {
     "name": "stdout",
     "output_type": "stream",
     "text": [
      "models/embedding_matrix.pickle not found; creating a new embedding_matrix\n",
      "saving embedding_matrix to models/embedding_matrix.pickle\n"
     ]
    }
   ],
   "source": [
    "if os.path.exists('models/embedding_matrix.pickle') and not clear_embedding_matrix:\n",
    "    with open('models/embedding_matrix.pickle', 'rb') as handle:\n",
    "        embedding_matrix = pickle.load(handle)\n",
    "    print(\"loaded embedding_matrix from models/embedding_matrix.pickle\")\n",
    "else:\n",
    "    print(\"models/embedding_matrix.pickle not found; creating a new embedding_matrix\")\n",
    "    vocab_size = len(tokenizer.word_index) + 1  # Adding again 1 because of reserved 0 index\n",
    "    embedding_matrix = np.zeros((vocab_size, embedding_dim))\n",
    "    with open(glove_filepath) as f:\n",
    "        for line in f:\n",
    "            word, *vector = line.split()\n",
    "            if word in tokenizer.word_index:\n",
    "                idx = tokenizer.word_index[word] \n",
    "                embedding_matrix[idx] = np.array(\n",
    "                    vector, dtype=np.float32)[:embedding_dim]\n",
    "    # save for the future\n",
    "    with open('models/embedding_matrix.pickle', 'wb') as handle:\n",
    "        pickle.dump(embedding_matrix, handle, protocol=pickle.HIGHEST_PROTOCOL)\n",
    "    print(\"saving embedding_matrix to models/embedding_matrix.pickle\")"
   ]
  },
  {
   "cell_type": "code",
   "execution_count": 69,
   "metadata": {},
   "outputs": [],
   "source": [
    "vocab_size = len(tokenizer.word_index) + 1"
   ]
  },
  {
   "cell_type": "code",
   "execution_count": 70,
   "metadata": {},
   "outputs": [],
   "source": [
    "input_train = tokenizer.texts_to_sequences(train[\"text\"].values)\n",
    "input_test = tokenizer.texts_to_sequences(test[\"text\"].values)"
   ]
  },
  {
   "cell_type": "code",
   "execution_count": 71,
   "metadata": {},
   "outputs": [],
   "source": [
    "input_train = pad_sequences(input_train, padding='post', maxlen=maxlen)\n",
    "input_test = pad_sequences(input_test, padding='post', maxlen=maxlen)"
   ]
  },
  {
   "cell_type": "code",
   "execution_count": 72,
   "metadata": {},
   "outputs": [],
   "source": [
    "output_train = train[\"intensity\"]\n",
    "output_test = test[\"intensity\"]"
   ]
  },
  {
   "cell_type": "code",
   "execution_count": 73,
   "metadata": {},
   "outputs": [
    {
     "name": "stdout",
     "output_type": "stream",
     "text": [
      "models/sentiment_analysis_cnn_model.json not found (or ignored); creating a new model\n",
      "_________________________________________________________________\n",
      "Layer (type)                 Output Shape              Param #   \n",
      "=================================================================\n",
      "embedding_12 (Embedding)     (None, 64, 200)           61876400  \n",
      "_________________________________________________________________\n",
      "global_max_pooling1d_11 (Glo (None, 200)               0         \n",
      "_________________________________________________________________\n",
      "dense_22 (Dense)             (None, 16)                3216      \n",
      "_________________________________________________________________\n",
      "dropout_16 (Dropout)         (None, 16)                0         \n",
      "_________________________________________________________________\n",
      "dense_23 (Dense)             (None, 1)                 17        \n",
      "=================================================================\n",
      "Total params: 61,879,633\n",
      "Trainable params: 61,879,633\n",
      "Non-trainable params: 0\n",
      "_________________________________________________________________\n"
     ]
    }
   ],
   "source": [
    "if os.path.exists(\"models/sentiment_analysis_cnn_model.json\") and not clear_model:\n",
    "    # load json and create model\n",
    "    json_file = open(\"models/sentiment_analysis_cnn_model.json\", 'r')\n",
    "    loaded_model_json = json_file.read()\n",
    "    json_file.close()\n",
    "    model = keras.models.model_from_json(loaded_model_json)\n",
    "    # load weights into new model\n",
    "    model.load_weights(\"models/sentiment_analysis_cnn_model.hdf\")\n",
    "    print(\"Loaded model from disk\")\n",
    "else:\n",
    "    print(\"models/sentiment_analysis_cnn_model.json not found (or ignored); creating a new model\")\n",
    "    model = keras.Sequential()\n",
    "    model.add(keras.layers.Embedding(vocab_size, embedding_dim, \n",
    "                               weights=[embedding_matrix], \n",
    "                               input_length=maxlen, \n",
    "                               trainable=True))\n",
    "    model.add(keras.layers.GlobalMaxPool1D())\n",
    "    model.add(keras.layers.Dense(16, activation='relu'))\n",
    "    model.add(keras.layers.Dropout(0.2))\n",
    "    model.add(keras.layers.Dense(1, activation='sigmoid'))\n",
    "model.compile(optimizer='adam',\n",
    "                loss='binary_crossentropy',\n",
    "                metrics=['accuracy'])\n",
    "model.summary()"
   ]
  },
  {
   "cell_type": "code",
   "execution_count": null,
   "metadata": {},
   "outputs": [
    {
     "name": "stderr",
     "output_type": "stream",
     "text": [
      "/Users/wlifferth/anaconda3/lib/python3.6/site-packages/tensorflow/python/ops/gradients_impl.py:112: UserWarning: Converting sparse IndexedSlices to a dense Tensor of unknown shape. This may consume a large amount of memory.\n",
      "  \"Converting sparse IndexedSlices to a dense Tensor of unknown shape. \"\n"
     ]
    },
    {
     "name": "stdout",
     "output_type": "stream",
     "text": [
      "Train on 80000 samples, validate on 20000 samples\n",
      "Epoch 1/16\n",
      "80000/80000 [==============================] - 100s 1ms/step - loss: 0.6066 - acc: 0.6504 - val_loss: 0.4800 - val_acc: 0.7661\n",
      "Epoch 2/16\n",
      "80000/80000 [==============================] - 95s 1ms/step - loss: 0.4442 - acc: 0.7726 - val_loss: 0.4005 - val_acc: 0.7863\n",
      "Epoch 3/16\n",
      "80000/80000 [==============================] - 91s 1ms/step - loss: 0.3793 - acc: 0.8060 - val_loss: 0.3617 - val_acc: 0.8088\n",
      "Epoch 4/16\n",
      "80000/80000 [==============================] - 90s 1ms/step - loss: 0.3386 - acc: 0.8274 - val_loss: 0.3338 - val_acc: 0.8280\n",
      "Epoch 5/16\n",
      "80000/80000 [==============================] - 90s 1ms/step - loss: 0.3056 - acc: 0.8461 - val_loss: 0.3189 - val_acc: 0.8382\n",
      "Epoch 6/16\n",
      "80000/80000 [==============================] - 92s 1ms/step - loss: 0.2784 - acc: 0.8613 - val_loss: 0.3044 - val_acc: 0.8458\n",
      "Epoch 7/16\n",
      "80000/80000 [==============================] - 91s 1ms/step - loss: 0.2563 - acc: 0.8735 - val_loss: 0.3027 - val_acc: 0.8423\n",
      "Epoch 8/16\n",
      "80000/80000 [==============================] - 92s 1ms/step - loss: 0.2354 - acc: 0.8844 - val_loss: 0.2917 - val_acc: 0.8532\n",
      "Epoch 9/16\n",
      "80000/80000 [==============================] - 93s 1ms/step - loss: 0.2171 - acc: 0.8947 - val_loss: 0.2856 - val_acc: 0.8536\n",
      "Epoch 10/16\n",
      " 4096/80000 [>.............................] - ETA: 1:29 - loss: 0.1991 - acc: 0.9099"
     ]
    }
   ],
   "source": [
    "history = model.fit(input_train, output_train,\n",
    "                    epochs=16,\n",
    "                    verbose=True,\n",
    "                    validation_data=(input_test, output_test),\n",
    "                    batch_size=1024)\n",
    "loss, accuracy = model.evaluate(input_test, output_test, verbose=False)\n",
    "print(\"Testing Accuracy:  {:.4f}\".format(accuracy))\n",
    "save_model(model)"
   ]
  },
  {
   "cell_type": "code",
   "execution_count": 61,
   "metadata": {},
   "outputs": [
    {
     "data": {
      "image/png": "[encoded data removed]",
      "text/plain": [
       "<Figure size 432x288 with 1 Axes>"
      ]
     },
     "metadata": {},
     "output_type": "display_data"
    }
   ],
   "source": [
    "acc = history.history[\"acc\"]\n",
    "val_acc = history.history[\"val_acc\"]\n",
    "plt.style.use(\"ggplot\")\n",
    "plt.plot(acc, color=(0.1, 0.2, 0.6, 0.6), label=\"train acc\", lw=3)\n",
    "plt.plot(val_acc, color=(0.1, 0.6, 0.2, 0.6), label=\"validation acc\", lw=3)\n",
    "plt.suptitle(\"GSA Training Accuracy\\n\\n\", fontsize=16, y=1.05)\n",
    "plt.title(\"CNN, No Dropout, 80k train, 20k val\", y=1.01)\n",
    "plt.legend()\n",
    "plt.savefig(\"graphs/GSA-CNN-ND.png\")\n",
    "plt.show()"
   ]
  },
  {
   "cell_type": "code",
   "execution_count": 47,
   "metadata": {},
   "outputs": [
    {
     "data": {
      "text/plain": [
       "<Figure size 432x288 with 0 Axes>"
      ]
     },
     "metadata": {},
     "output_type": "display_data"
    }
   ],
   "source": []
  },
  {
   "cell_type": "code",
   "execution_count": null,
   "metadata": {},
   "outputs": [],
   "source": []
  }
 ],
 "metadata": {
  "kernelspec": {
   "display_name": "Python 3",
   "language": "python",
   "name": "python3"
  },
  "language_info": {
   "codemirror_mode": {
    "name": "ipython",
    "version": 3
   },
   "file_extension": ".py",
   "mimetype": "text/x-python",
   "name": "python",
   "nbconvert_exporter": "python",
   "pygments_lexer": "ipython3",
   "version": "3.6.8"
  }
 },
 "nbformat": 4,
 "nbformat_minor": 2
}
