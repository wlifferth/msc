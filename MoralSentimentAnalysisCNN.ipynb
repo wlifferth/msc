{
 "cells": [
  {
   "cell_type": "code",
   "execution_count": 1,
   "metadata": {},
   "outputs": [
    {
     "name": "stderr",
     "output_type": "stream",
     "text": [
      "Using TensorFlow backend.\n"
     ]
    }
   ],
   "source": [
    "import matplotlib.pyplot as plt\n",
    "import numpy as np\n",
    "import os\n",
    "import pandas as pd\n",
    "import pickle\n",
    "import spacy\n",
    "import tensorflow as tf\n",
    "\n",
    "from tensorflow import keras\n",
    "from keras import backend as K\n",
    "from keras.preprocessing.text import Tokenizer\n",
    "from keras.preprocessing.sequence import pad_sequences\n",
    "\n",
    "os.environ['KMP_DUPLICATE_LIB_OK']='True'"
   ]
  },
  {
   "cell_type": "code",
   "execution_count": 2,
   "metadata": {},
   "outputs": [],
   "source": [
    "embedding_dim = 200\n",
    "maxlen = 64\n",
    "clear_embedding_matrix = False"
   ]
  },
  {
   "cell_type": "code",
   "execution_count": 3,
   "metadata": {},
   "outputs": [],
   "source": [
    "def recall_metric(y_true, y_pred):\t\n",
    "    \"\"\"Recall metric.\t\n",
    "     Only computes a batch-wise average of recall.\t\n",
    "     Computes the recall, a metric for multi-label classification of\t\n",
    "    how many relevant items are selected.\t\n",
    "    \"\"\"\t\n",
    "    true_positives = K.sum(K.round(K.clip(y_true * y_pred, 0, 1)))\t\n",
    "    possible_positives = K.sum(K.round(K.clip(y_true, 0, 1)))\t\n",
    "    recall = true_positives / (possible_positives + K.epsilon())\t\n",
    "    return recall"
   ]
  },
  {
   "cell_type": "code",
   "execution_count": 4,
   "metadata": {},
   "outputs": [],
   "source": [
    "def save_model(model, model_path=\"data/models/MSA_cnn_model.json\", weights_path=\"data/models/MSA_cnn_model.hdf\"):\n",
    "    # serialize model to JSON\n",
    "    model_json = model.to_json()\n",
    "    with open(model_path, \"w\") as json_file:\n",
    "        json_file.write(model_json)\n",
    "    # serialize weights to HDF5\n",
    "    model.save_weights(weights_path)\n",
    "    print(\"Saved model to data/models/MSA_cnn_model.json\")"
   ]
  },
  {
   "cell_type": "code",
   "execution_count": 5,
   "metadata": {},
   "outputs": [
    {
     "name": "stdout",
     "output_type": "stream",
     "text": [
      "loaded tokenizer from models/tokenizer.pickle\n"
     ]
    }
   ],
   "source": [
    "with open(\"models/tokenizer.pickle\", \"rb\") as handle:\n",
    "    tokenizer = pickle.load(handle)\n",
    "print(\"loaded tokenizer from models/tokenizer.pickle\")\n",
    "vocab_size = len(tokenizer.word_index) + 1"
   ]
  },
  {
   "cell_type": "code",
   "execution_count": 6,
   "metadata": {},
   "outputs": [
    {
     "name": "stdout",
     "output_type": "stream",
     "text": [
      "loaded embedding_matrix from models/embedding_matrix.pickle\n"
     ]
    }
   ],
   "source": [
    "if os.path.exists(\"models/embedding_matrix.pickle\") and not clear_embedding_matrix:\n",
    "    with open(\"models/embedding_matrix.pickle\", \"rb\") as handle:\n",
    "        embedding_matrix = pickle.load(handle)\n",
    "    print(\"loaded embedding_matrix from models/embedding_matrix.pickle\")\n",
    "else:\n",
    "    print(\"models/embedding_matrix.pickle not found; creating a new embedding_matrix\")\n",
    "    vocab_size = len(tokenizer.word_index) + 1  # Adding again 1 because of reserved 0 index\n",
    "    embedding_matrix = np.zeros((vocab_size, embedding_dim))\n",
    "    with open(glove_filepath) as f:\n",
    "        for line in f:\n",
    "            word, *vector = line.split()\n",
    "            if word in tokenizer.word_index:\n",
    "                idx = tokenizer.word_index[word] \n",
    "                embedding_matrix[idx] = np.array(\n",
    "                    vector, dtype=np.float32)[:embedding_dim]\n",
    "    # save for the future\n",
    "    with open(\"models/embedding_matrix.pickle\", \"wb\") as handle:\n",
    "        pickle.dump(embedding_matrix, handle, protocol=pickle.HIGHEST_PROTOCOL)\n",
    "    print(\"saving embedding_matrix to models/embedding_matrix.pickle\")"
   ]
  },
  {
   "cell_type": "code",
   "execution_count": 157,
   "metadata": {},
   "outputs": [
    {
     "data": {
      "text/html": [
       "<div>\n",
       "<style scoped>\n",
       "    .dataframe tbody tr th:only-of-type {\n",
       "        vertical-align: middle;\n",
       "    }\n",
       "\n",
       "    .dataframe tbody tr th {\n",
       "        vertical-align: top;\n",
       "    }\n",
       "\n",
       "    .dataframe thead th {\n",
       "        text-align: right;\n",
       "    }\n",
       "</style>\n",
       "<table border=\"1\" class=\"dataframe\">\n",
       "  <thead>\n",
       "    <tr style=\"text-align: right;\">\n",
       "      <th></th>\n",
       "      <th>text</th>\n",
       "      <th>moral_saliency</th>\n",
       "      <th>moral_intrinsicality</th>\n",
       "      <th>notes</th>\n",
       "    </tr>\n",
       "  </thead>\n",
       "  <tbody>\n",
       "    <tr>\n",
       "      <th>0</th>\n",
       "      <td>All human beings have inherent worth.</td>\n",
       "      <td>1</td>\n",
       "      <td>3</td>\n",
       "      <td>NaN</td>\n",
       "    </tr>\n",
       "    <tr>\n",
       "      <th>1</th>\n",
       "      <td>It's wrong to exploit people you have power over.</td>\n",
       "      <td>1</td>\n",
       "      <td>2</td>\n",
       "      <td>NaN</td>\n",
       "    </tr>\n",
       "    <tr>\n",
       "      <th>2</th>\n",
       "      <td>Jeff Bezos is an evil man.</td>\n",
       "      <td>1</td>\n",
       "      <td>1</td>\n",
       "      <td>NaN</td>\n",
       "    </tr>\n",
       "    <tr>\n",
       "      <th>3</th>\n",
       "      <td>Human beings have a brain that resides in thei...</td>\n",
       "      <td>0</td>\n",
       "      <td>0</td>\n",
       "      <td>NaN</td>\n",
       "    </tr>\n",
       "    <tr>\n",
       "      <th>4</th>\n",
       "      <td>It's incorrect to assume that one plus one is ...</td>\n",
       "      <td>0</td>\n",
       "      <td>0</td>\n",
       "      <td>NaN</td>\n",
       "    </tr>\n",
       "  </tbody>\n",
       "</table>\n",
       "</div>"
      ],
      "text/plain": [
       "                                                text  moral_saliency  \\\n",
       "0              All human beings have inherent worth.               1   \n",
       "1  It's wrong to exploit people you have power over.               1   \n",
       "2                         Jeff Bezos is an evil man.               1   \n",
       "3  Human beings have a brain that resides in thei...               0   \n",
       "4  It's incorrect to assume that one plus one is ...               0   \n",
       "\n",
       "   moral_intrinsicality notes  \n",
       "0                     3   NaN  \n",
       "1                     2   NaN  \n",
       "2                     1   NaN  \n",
       "3                     0   NaN  \n",
       "4                     0   NaN  "
      ]
     },
     "execution_count": 157,
     "metadata": {},
     "output_type": "execute_result"
    }
   ],
   "source": [
    "training_df = pd.read_csv('data/training_data/moral_training_set.csv')\n",
    "training_df.head()"
   ]
  },
  {
   "cell_type": "code",
   "execution_count": 8,
   "metadata": {},
   "outputs": [
    {
     "name": "stdout",
     "output_type": "stream",
     "text": [
      "train len:  100\n",
      "test len:  50\n"
     ]
    }
   ],
   "source": [
    "train = training_df.sample(frac=0.666)\n",
    "test = training_df.drop(train.index)\n",
    "print(\"train len: \", len(train))\n",
    "print(\"test len: \", len(test))"
   ]
  },
  {
   "cell_type": "code",
   "execution_count": 9,
   "metadata": {},
   "outputs": [],
   "source": [
    "input_train = tokenizer.texts_to_sequences(train[\"text\"].values)\n",
    "input_test = tokenizer.texts_to_sequences(test[\"text\"].values)"
   ]
  },
  {
   "cell_type": "code",
   "execution_count": 10,
   "metadata": {},
   "outputs": [],
   "source": [
    "input_train = pad_sequences(input_train, padding='post', maxlen=maxlen)\n",
    "input_test = pad_sequences(input_test, padding='post', maxlen=maxlen)"
   ]
  },
  {
   "cell_type": "code",
   "execution_count": 11,
   "metadata": {},
   "outputs": [],
   "source": [
    "output_train = train[\"moral_saliency\"]\n",
    "output_test = test[\"moral_saliency\"]"
   ]
  },
  {
   "cell_type": "code",
   "execution_count": 12,
   "metadata": {},
   "outputs": [],
   "source": [
    "def plot_training(history):\n",
    "    acc = history.history[\"acc\"]\n",
    "    val_acc = history.history[\"val_acc\"]\n",
    "    plt.style.use(\"ggplot\")\n",
    "    plt.plot(acc, color=(0.1, 0.2, 0.6, 0.6), label=\"train acc\", lw=3)\n",
    "    plt.plot(val_acc, color=(0.1, 0.6, 0.2, 0.6), label=\"validation acc\", lw=3)\n",
    "    plt.suptitle(\"MSA Training Accuracy\\n\\n\", fontsize=16, y=1.05)\n",
    "    plt.legend()\n",
    "    plt.show()\n",
    "    recall = history.history[\"recall_metric\"]\n",
    "    val_recall = history.history[\"val_recall_metric\"]\n",
    "    plt.style.use(\"ggplot\")\n",
    "    plt.plot(recall, color=(0.1, 0.2, 0.6, 0.6), label=\"train recall\", lw=3)\n",
    "    plt.plot(val_recall, color=(0.1, 0.6, 0.2, 0.6), label=\"validation recall\", lw=3)\n",
    "    plt.suptitle(\"MSA Training Recall\\n\\n\", fontsize=16, y=1.05)\n",
    "    plt.legend()\n",
    "    plt.show()"
   ]
  },
  {
   "cell_type": "markdown",
   "metadata": {},
   "source": [
    "## A Very Simple Model"
   ]
  },
  {
   "cell_type": "code",
   "execution_count": 13,
   "metadata": {},
   "outputs": [],
   "source": [
    "# Create a new model\n",
    "def new_max_pool():\n",
    "    max_pool = keras.Sequential()\n",
    "    max_pool.add(keras.layers.Embedding(vocab_size, embedding_dim, \n",
    "                               weights=[embedding_matrix], \n",
    "                               input_length=maxlen, \n",
    "                               trainable=False))\n",
    "    max_pool.add(keras.layers.GlobalMaxPool1D())\n",
    "    max_pool.add(keras.layers.Dropout(0.2))\n",
    "    max_pool.add(keras.layers.Dense(1, activation='sigmoid'))\n",
    "    max_pool.compile(optimizer='adam',\n",
    "                    loss='binary_crossentropy',\n",
    "                    metrics=[\"accuracy\", recall_metric])\n",
    "    return max_pool"
   ]
  },
  {
   "cell_type": "markdown",
   "metadata": {},
   "source": [
    "# A Model with 1 Convolutional Layer"
   ]
  },
  {
   "cell_type": "code",
   "execution_count": 14,
   "metadata": {},
   "outputs": [],
   "source": [
    "# Create a new model\n",
    "def new_conv_max_pool():\n",
    "    one_conv_layer_model = keras.Sequential()\n",
    "    one_conv_layer_model.add(keras.layers.Embedding(vocab_size, embedding_dim, \n",
    "                               weights=[embedding_matrix], \n",
    "                               input_length=maxlen, \n",
    "                               trainable=False))\n",
    "    one_conv_layer_model.add(keras.layers.Dropout(0.2))\n",
    "    one_conv_layer_model.add(keras.layers.Conv1D(filters=32, kernel_size=4))\n",
    "    one_conv_layer_model.add(keras.layers.Dropout(0.2))\n",
    "    one_conv_layer_model.add(keras.layers.GlobalMaxPool1D())\n",
    "    one_conv_layer_model.add(keras.layers.Dropout(0.2))\n",
    "    one_conv_layer_model.add(keras.layers.Dense(1, activation='sigmoid'))\n",
    "    one_conv_layer_model.compile(optimizer='adam',\n",
    "                    loss='binary_crossentropy',\n",
    "                    metrics=[\"accuracy\", recall_metric])\n",
    "    return one_conv_layer_model"
   ]
  },
  {
   "cell_type": "markdown",
   "metadata": {},
   "source": [
    "# 1 Conv and 1 Dense Layer"
   ]
  },
  {
   "cell_type": "code",
   "execution_count": 15,
   "metadata": {},
   "outputs": [],
   "source": [
    "# Create a new model\n",
    "def new_conv_max_pool_dense():\n",
    "    conv_dense_model = keras.Sequential()\n",
    "    conv_dense_model.add(keras.layers.Embedding(vocab_size, embedding_dim, \n",
    "                               weights=[embedding_matrix], \n",
    "                               input_length=maxlen, \n",
    "                               trainable=False))\n",
    "    conv_dense_model.add(keras.layers.Dropout(0.3))\n",
    "    conv_dense_model.add(keras.layers.Conv1D(filters=32, kernel_size=4))\n",
    "    conv_dense_model.add(keras.layers.Dropout(0.3))\n",
    "    conv_dense_model.add(keras.layers.GlobalMaxPool1D())\n",
    "    conv_dense_model.add(keras.layers.Dropout(0.3))\n",
    "    conv_dense_model.add(keras.layers.Dense(32, activation='relu'))\n",
    "    conv_dense_model.add(keras.layers.Dropout(0.3))\n",
    "    conv_dense_model.add(keras.layers.Dense(1, activation='sigmoid'))\n",
    "    conv_dense_model.compile(optimizer='adam',\n",
    "                    loss='binary_crossentropy',\n",
    "                    metrics=[\"accuracy\", recall_metric])\n",
    "    return conv_dense_model\n"
   ]
  },
  {
   "cell_type": "markdown",
   "metadata": {},
   "source": [
    "# K-Fold Cross Validation"
   ]
  },
  {
   "cell_type": "code",
   "execution_count": 67,
   "metadata": {},
   "outputs": [],
   "source": [
    "def get_new_split(frac=0.666):\n",
    "    train = training_df.sample(frac=frac)\n",
    "    test = training_df.drop(train.index)\n",
    "    \n",
    "    print(train[\"moral_saliency\"].value_counts())\n",
    "    print(test[\"moral_saliency\"].value_counts())\n",
    "    \n",
    "    train_input = tokenizer.texts_to_sequences(train[\"text\"].values)\n",
    "    test_input = tokenizer.texts_to_sequences(test[\"text\"].values)\n",
    "    \n",
    "    train_input = pad_sequences(train_input, padding='post', maxlen=maxlen)\n",
    "    test_input = pad_sequences(test_input, padding='post', maxlen=maxlen)\n",
    "    \n",
    "    train_output = train[\"moral_saliency\"]\n",
    "    test_output = test[\"moral_saliency\"]\n",
    "    \n",
    "    return train_input, train_output, test_input, test_output"
   ]
  },
  {
   "cell_type": "code",
   "execution_count": 90,
   "metadata": {},
   "outputs": [],
   "source": [
    "def get_new_equal_split(frac=0.666):\n",
    "    positive_df = training_df[training_df[\"moral_saliency\"] == 1]\n",
    "    negative_df = training_df[training_df[\"moral_saliency\"] == 0]\n",
    "    positive_train = positive_df.sample(frac=frac)\n",
    "    positive_test = positive_df.drop(positive_train.index)\n",
    "    negative_train = negative_df.sample(frac=frac)\n",
    "    negative_test = negative_df.drop(negative_train.index)\n",
    "    train = pd.concat([positive_train, negative_train]).sample(frac=1)\n",
    "    test = pd.concat([positive_test, negative_test]).sample(frac=1)\n",
    "    \n",
    "    train_input = tokenizer.texts_to_sequences(train[\"text\"].values)\n",
    "    test_input = tokenizer.texts_to_sequences(test[\"text\"].values)\n",
    "    \n",
    "    train_input = pad_sequences(train_input, padding='post', maxlen=maxlen)\n",
    "    test_input = pad_sequences(test_input, padding='post', maxlen=maxlen)\n",
    "    \n",
    "    train_output = train[\"moral_saliency\"]\n",
    "    test_output = test[\"moral_saliency\"]\n",
    "    \n",
    "    return train_input, train_output, test_input, test_output"
   ]
  },
  {
   "cell_type": "code",
   "execution_count": 88,
   "metadata": {},
   "outputs": [],
   "source": [
    "def model_train_test(model, train_input, train_output, validation_input, validation_output):\n",
    "    history = model.fit(train_input, train_output,\n",
    "                        epochs=12,\n",
    "                        verbose=0,\n",
    "                        validation_data=(validation_input, validation_output),\n",
    "                        batch_size=16,\n",
    "                        class_weight={1: 5, 0: 1})\n",
    "    return history.history"
   ]
  },
  {
   "cell_type": "code",
   "execution_count": 53,
   "metadata": {},
   "outputs": [
    {
     "name": "stdout",
     "output_type": "stream",
     "text": [
      "Round  0 ###Round  1 ###Round  2 ###Round  3 ###Round  4 ###"
     ]
    }
   ],
   "source": [
    "validation_split=0.33\n",
    "k = 10\n",
    "\n",
    "max_pool_results = {\"val_acc\": [], \"val_recall\": []}\n",
    "conv_max_pool_results = {\"val_acc\": [], \"val_recall\": []}\n",
    "conv_max_pool_dense_results = {\"val_acc\": [], \"val_recall\": []}\n",
    "\n",
    "for i in range(5):\n",
    "    print(\"Round \", i, end=\" \")\n",
    "    train_input, train_output, test_input, test_output = get_new_split()\n",
    "    max_pool_model = new_max_pool()\n",
    "    history = model_train_test(max_pool_model, train_input, train_output, test_input, test_output)\n",
    "    max_pool_results[\"val_acc\"].append(history[\"val_acc\"])\n",
    "    max_pool_results[\"val_recall\"].append(history[\"val_recall_metric\"])\n",
    "    print(\"#\", end=\"\")\n",
    "    \n",
    "    conv_max_pool_model = new_conv_max_pool()\n",
    "    history = model_train_test(conv_max_pool_model, train_input, train_output, test_input, test_output)\n",
    "    conv_max_pool_results[\"val_acc\"].append(history[\"val_acc\"])\n",
    "    conv_max_pool_results[\"val_recall\"].append(history[\"val_recall_metric\"])\n",
    "    print(\"#\", end=\"\")\n",
    "    \n",
    "    conv_max_pool_dense_model = new_conv_max_pool_dense()\n",
    "    history = model_train_test(conv_max_pool_dense_model, train_input, train_output, test_input, test_output)\n",
    "    conv_max_pool_dense_results[\"val_acc\"].append(history[\"val_acc\"])\n",
    "    conv_max_pool_dense_results[\"val_recall\"].append(history[\"val_recall_metric\"])\n",
    "    print(\"#\", end=\"\")\n",
    "    print()"
   ]
  },
  {
   "cell_type": "code",
   "execution_count": 54,
   "metadata": {},
   "outputs": [
    {
     "name": "stdout",
     "output_type": "stream",
     "text": [
      "val_acc: 0.36866666666666675\n",
      "val_recall: 0.7192931154568991\n",
      "val_acc: 0.6880000000000001\n",
      "val_recall: 0.7075047556559243\n",
      "val_acc: 0.47900000000000004\n",
      "val_recall: 0.7253417923450469\n"
     ]
    }
   ],
   "source": [
    "for results in [max_pool_results, conv_max_pool_results, conv_max_pool_dense_results]:\n",
    "    for key in results:\n",
    "        print(\"{}: {}\".format(key, np.mean(results[key])))"
   ]
  },
  {
   "cell_type": "code",
   "execution_count": 71,
   "metadata": {},
   "outputs": [],
   "source": [
    "final_recall = []\n",
    "final_acc = []"
   ]
  },
  {
   "cell_type": "code",
   "execution_count": 84,
   "metadata": {},
   "outputs": [
    {
     "name": "stdout",
     "output_type": "stream",
     "text": [
      "0    67\n",
      "1    38\n",
      "Name: moral_saliency, dtype: int64\n",
      "0    33\n",
      "1    19\n",
      "Name: moral_saliency, dtype: int64\n"
     ]
    },
    {
     "data": {
      "image/png": "[encoded data removed]",
      "text/plain": [
       "<Figure size 432x288 with 1 Axes>"
      ]
     },
     "metadata": {},
     "output_type": "display_data"
    },
    {
     "data": {
      "image/png": "[encoded data removed]",
      "text/plain": [
       "<Figure size 432x288 with 1 Axes>"
      ]
     },
     "metadata": {},
     "output_type": "display_data"
    }
   ],
   "source": [
    "model = new_conv_max_pool()\n",
    "train_input, train_output, test_input, test_output = get_new_equal_split(frac=0.666)\n",
    "history = model.fit(train_input, train_output,\n",
    "                    epochs=12,\n",
    "                    verbose=0,\n",
    "                    validation_data=(test_input, test_output),\n",
    "                    batch_size=8,\n",
    "                    class_weight={1: 6, 0: 1})\n",
    "plot_training(history)\n",
    "final_recall.append(history.history[\"val_recall_metric\"][-1])\n",
    "final_acc.append(history.history[\"val_acc\"][-1])\n",
    "for index, row in training_df.iterrows():\n",
    "    text_sequence = tokenizer.texts_to_sequences([row[\"text\"]])\n",
    "    padded_text_sequence = pad_sequences(text_sequence, padding='post', maxlen=maxlen)\n",
    "    result = model.predict(padded_text_sequence)\n",
    "    if np.round(result) != row[\"moral_saliency\"] and row[\"moral_saliency\"] == 1:\n",
    "            print(row[\"text\"])"
   ]
  },
  {
   "cell_type": "code",
   "execution_count": 85,
   "metadata": {},
   "outputs": [
    {
     "name": "stdout",
     "output_type": "stream",
     "text": [
      "7\n",
      "0.9377289237556877\n",
      "0.8003663016762925\n"
     ]
    }
   ],
   "source": [
    "print(len(final_recall))\n",
    "print(np.mean(final_recall))\n",
    "print(np.mean(final_acc))"
   ]
  },
  {
   "cell_type": "markdown",
   "metadata": {},
   "source": [
    "# Exploring Effect of Convolutional Window on Accuracy, Recall"
   ]
  },
  {
   "cell_type": "code",
   "execution_count": 127,
   "metadata": {},
   "outputs": [],
   "source": [
    "def get_model(kernel_size=4, dropout=0.2):\n",
    "    model = keras.Sequential()\n",
    "    model.add(keras.layers.Embedding(vocab_size, embedding_dim, \n",
    "                               weights=[embedding_matrix], \n",
    "                               input_length=maxlen, \n",
    "                               trainable=False))\n",
    "    model.add(keras.layers.Dropout(dropout))\n",
    "    model.add(keras.layers.Conv1D(filters=32, kernel_size=kernel_size))\n",
    "    model.add(keras.layers.Dropout(dropout))\n",
    "    model.add(keras.layers.GlobalMaxPool1D())\n",
    "    model.add(keras.layers.Dropout(dropout))\n",
    "    model.add(keras.layers.Dense(1, activation='sigmoid'))\n",
    "    model.compile(optimizer='adam',\n",
    "                    loss='binary_crossentropy',\n",
    "                    metrics=[\"accuracy\", recall_metric])\n",
    "    return model"
   ]
  },
  {
   "cell_type": "code",
   "execution_count": 133,
   "metadata": {},
   "outputs": [
    {
     "name": "stdout",
     "output_type": "stream",
     "text": [
      "Round  0 #####\n",
      "Round  1 #####\n"
     ]
    }
   ],
   "source": [
    "k = 2\n",
    "\n",
    "kernel_sizes = [2, 4, 6, 8, 10]\n",
    "\n",
    "results = {i: {\"val_acc\": [], \"val_recall\": []} for i in kernel_sizes}\n",
    "\n",
    "train_input, train_output, test_input, test_output = get_new_equal_split(frac=0.5)\n",
    "\n",
    "for i in range(k):\n",
    "    print(\"Round \", i, end=\" \")\n",
    "    for kernel_size in kernel_sizes:\n",
    "        print(\"#\", end=\"\")\n",
    "        model = get_model(kernel_size=kernel_size, dropout=0.2)\n",
    "        history = model_train_test(model, train_input, train_output, test_input, test_output)\n",
    "        results[kernel_size][\"val_acc\"].append(history[\"val_acc\"][-1])\n",
    "        results[kernel_size][\"val_recall\"].append(history[\"val_recall_metric\"][-1])\n",
    "    print()"
   ]
  },
  {
   "cell_type": "code",
   "execution_count": 234,
   "metadata": {},
   "outputs": [
    {
     "name": "stdout",
     "output_type": "stream",
     "text": [
      "[0, 0, 0, 0, 1, 1, 1, 1, 1, 1, 1, 1, 1, 1, 1, 1, 1, 1, 1, 1, 1, 1, 1, 1, 1, 1, 1, 1, 1, 0, 0, 0, 0, 0, 0, 0, 1, 1, 1, 1, 1, 1, 1, 1, 1, 1, 1, 1, 1, 1, 1, 1, 1, 1, 1, 1, 1, 1, 1, 1, 1, 1, 1, 1, 1, 1, 1, 1, 1, 1, 1, 1, 1, 1, 1, 1, 1, 1, 1, 1, 1, 1, 1, 1, 1, 1, 1, 1, 1, 1, 1, 1, 1, 1, 1, 1, 1, 1, 1, 1, 0, 1, 1, 1, 1, 1, 1, 1, 1, 1, 1, 1, 1, 1, 1, 1, 1, 1, 1, 1, 1, 1, 1, 1, 1, 1, 1, 1, 1, 1, 1, 1, 1, 1, 1, 1, 1, 1, 1, 1, 1, 1, 1, 1, 1, 1, 1, 1, 1, 1, 1, 1, 1, 1, 1, 1, 1, 1, 1, 1, 1, 1, 1, 1, 1, 1, 1, 1, 1, 1, 1, 1, 0, 1, 1, 1, 1, 1, 1, 1, 1, 1, 0, 0, 0, 0, 0, 0, 0, 0, 0, 0, 0, 0, 1, 1, 1, 1, 1, 1, 1, 1, 1, 1, 1, 0, 1, 1, 1, 1, 1, 1, 1, 1, 1, 1, 1, 1, 1, 1, 1, 1, 1, 1, 1, 1, 1, 1, 1, 1, 1, 1, 1, 1, 1, 1, 1, 1, 1, 1, 1, 1, 1, 1, 1, 1, 1, 1, 1, 1, 1, 1, 1, 1, 1, 1, 1, 1, 1, 1, 1, 1, 1, 1, 1, 1, 1, 1, 1, 1, 1, 1, 1, 1, 1, 1, 1, 1, 1, 1, 1, 1, 1, 1, 1, 1, 1, 1, 1, 1, 1, 1, 1, 1, 1, 1, 0, 0, 0, 0, 0, 0, 0, 1, 1, 1, 0, 0, 0, 0, 0, 0, 0, 0, 1, 1, 1, 1, 1, 1, 1, 1, 1, 1, 1, 1, 1, 1, 1, 1, 1, 1, 1, 1, 1, 1, 1, 1, 1, 1, 1, 1, 1, 1, 0, 0, 0, 1, 1, 0, 0, 1, 1, 1, 0, 1, 1, 0, 0, 1, 1, 1, 1, 1, 1, 1, 0, 0, 1, 1, 1, 1, 1, 0, 1, 1, 1, 1, 0, 1, 0, 1, 1, 1, 1, 1, 1, 1, 1, 1, 1, 1, 1, 1, 1, 0, 0, 0, 0, 0, 0, 0, 1, 1, 1, 0, 0, 1, 1, 1, 1, 1, 1, 1, 1, 1, 1, 1, 1, 1, 1, 0, 0, 0, 0, 1, 1, 1, 0, 0, 1, 0, 0, 0, 1, 1, 1, 0, 0, 0, 0, 1, 0, 1, 1, 1, 0, 0, 0, 1, 1, 1, 0, 0, 0, 1, 0, 1, 1, 1, 1, 1, 1, 1, 1, 1, 1, 0, 0, 0, 0, 1, 1, 1, 1, 1, 0, 1, 1, 1, 1, 1, 1, 1, 0, 0, 0, 1, 1, 1, 1, 1, 1, 1, 1, 1, 1, 1, 1, 1, 1, 1, 1, 1, 1, 1, 1, 1, 1, 1, 1, 1, 1, 1, 1, 1, 0, 0, 0, 0, 0, 1, 1, 1, 0, 0, 1, 1, 1, 1, 1, 1, 1, 1, 1, 1, 1, 1, 1, 1, 1, 1, 1, 1, 0, 0, 0, 0, 0, 1, 1, 1, 1, 1, 1, 1, 1, 1, 1, 1, 1, 1, 1, 1, 1, 1, 1, 1, 1, 1, 1, 1, 1, 1, 1, 1, 1, 1, 1, 1, 1, 1, 1, 1, 1, 1, 1, 1, 1, 1, 1, 1, 1, 1, 1, 1, 1, 1, 1, 1, 1, 1, 1, 1, 0, 0, 0, 1, 1, 1, 1, 1, 1, 1, 1, 1, 1, 1, 1, 1, 1, 1, 1, 1, 1, 1, 1, 1, 1, 0, 0, 0, 0, 0, 0, 1, 1, 1, 1, 1, 1, 1, 0, 0, 0, 0, 1, 1, 0, 0, 0, 1, 0, 0, 1, 1, 1, 1, 1, 1, 1, 0, 0, 1, 1, 1, 1, 1, 1, 1, 1, 1, 1, 0, 0, 0, 0, 0, 0, 0, 0, 0, 0, 0, 0, 0, 0, 0, 1, 1, 1, 1, 1, 1, 1, 1, 1, 1, 1, 1, 1, 1, 1, 1, 1, 1, 1, 1, 1, 1, 1, 1, 1, 1, 1, 1, 1, 1, 1, 1, 1, 1, 1, 1, 1, 1, 1, 1, 1, 1, 1, 1, 1, 1, 1, 1, 1, 1, 1, 0, 1, 1, 1, 1, 1, 1, 1, 1, 1, 1, 1, 1, 1, 1, 1]\n"
     ]
    }
   ],
   "source": []
  },
  {
   "cell_type": "code",
   "execution_count": 233,
   "metadata": {},
   "outputs": [
    {
     "ename": "TypeError",
     "evalue": "'int' object is not subscriptable",
     "output_type": "error",
     "traceback": [
      "\u001b[0;31m---------------------------------------------------------------------------\u001b[0m",
      "\u001b[0;31mTypeError\u001b[0m                                 Traceback (most recent call last)",
      "\u001b[0;32m<ipython-input-233-6ea38ca729a1>\u001b[0m in \u001b[0;36m<module>\u001b[0;34m\u001b[0m\n\u001b[0;32m----> 1\u001b[0;31m \u001b[0maverage_recall\u001b[0m \u001b[0;34m=\u001b[0m \u001b[0;34m[\u001b[0m\u001b[0mnp\u001b[0m\u001b[0;34m.\u001b[0m\u001b[0mmean\u001b[0m\u001b[0;34m(\u001b[0m\u001b[0mresults\u001b[0m\u001b[0;34m[\u001b[0m\u001b[0mi\u001b[0m\u001b[0;34m]\u001b[0m\u001b[0;34m[\u001b[0m\u001b[0;34m\"val_recall\"\u001b[0m\u001b[0;34m]\u001b[0m\u001b[0;34m)\u001b[0m \u001b[0;32mfor\u001b[0m \u001b[0mi\u001b[0m \u001b[0;32min\u001b[0m \u001b[0mkernel_sizes\u001b[0m\u001b[0;34m]\u001b[0m\u001b[0;34m\u001b[0m\u001b[0;34m\u001b[0m\u001b[0m\n\u001b[0m\u001b[1;32m      2\u001b[0m \u001b[0maverage_acc\u001b[0m \u001b[0;34m=\u001b[0m \u001b[0;34m[\u001b[0m\u001b[0mnp\u001b[0m\u001b[0;34m.\u001b[0m\u001b[0mmean\u001b[0m\u001b[0;34m(\u001b[0m\u001b[0mresults\u001b[0m\u001b[0;34m[\u001b[0m\u001b[0mi\u001b[0m\u001b[0;34m]\u001b[0m\u001b[0;34m[\u001b[0m\u001b[0;34m\"val_acc\"\u001b[0m\u001b[0;34m]\u001b[0m\u001b[0;34m)\u001b[0m \u001b[0;32mfor\u001b[0m \u001b[0mi\u001b[0m \u001b[0;32min\u001b[0m \u001b[0mkernel_sizes\u001b[0m\u001b[0;34m]\u001b[0m\u001b[0;34m\u001b[0m\u001b[0;34m\u001b[0m\u001b[0m\n\u001b[1;32m      3\u001b[0m \u001b[0mplt\u001b[0m\u001b[0;34m.\u001b[0m\u001b[0mstyle\u001b[0m\u001b[0;34m.\u001b[0m\u001b[0muse\u001b[0m\u001b[0;34m(\u001b[0m\u001b[0;34m\"ggplot\"\u001b[0m\u001b[0;34m)\u001b[0m\u001b[0;34m\u001b[0m\u001b[0;34m\u001b[0m\u001b[0m\n\u001b[1;32m      4\u001b[0m \u001b[0mf\u001b[0m\u001b[0;34m,\u001b[0m \u001b[0;34m(\u001b[0m\u001b[0max1\u001b[0m\u001b[0;34m,\u001b[0m \u001b[0max2\u001b[0m\u001b[0;34m)\u001b[0m \u001b[0;34m=\u001b[0m \u001b[0mplt\u001b[0m\u001b[0;34m.\u001b[0m\u001b[0msubplots\u001b[0m\u001b[0;34m(\u001b[0m\u001b[0;36m1\u001b[0m\u001b[0;34m,\u001b[0m \u001b[0;36m2\u001b[0m\u001b[0;34m,\u001b[0m \u001b[0msharey\u001b[0m\u001b[0;34m=\u001b[0m\u001b[0;32mTrue\u001b[0m\u001b[0;34m)\u001b[0m\u001b[0;34m\u001b[0m\u001b[0;34m\u001b[0m\u001b[0m\n\u001b[1;32m      5\u001b[0m \u001b[0mf\u001b[0m\u001b[0;34m.\u001b[0m\u001b[0mset_figheight\u001b[0m\u001b[0;34m(\u001b[0m\u001b[0;36m4\u001b[0m\u001b[0;34m)\u001b[0m\u001b[0;34m\u001b[0m\u001b[0;34m\u001b[0m\u001b[0m\n",
      "\u001b[0;32m<ipython-input-233-6ea38ca729a1>\u001b[0m in \u001b[0;36m<listcomp>\u001b[0;34m(.0)\u001b[0m\n\u001b[0;32m----> 1\u001b[0;31m \u001b[0maverage_recall\u001b[0m \u001b[0;34m=\u001b[0m \u001b[0;34m[\u001b[0m\u001b[0mnp\u001b[0m\u001b[0;34m.\u001b[0m\u001b[0mmean\u001b[0m\u001b[0;34m(\u001b[0m\u001b[0mresults\u001b[0m\u001b[0;34m[\u001b[0m\u001b[0mi\u001b[0m\u001b[0;34m]\u001b[0m\u001b[0;34m[\u001b[0m\u001b[0;34m\"val_recall\"\u001b[0m\u001b[0;34m]\u001b[0m\u001b[0;34m)\u001b[0m \u001b[0;32mfor\u001b[0m \u001b[0mi\u001b[0m \u001b[0;32min\u001b[0m \u001b[0mkernel_sizes\u001b[0m\u001b[0;34m]\u001b[0m\u001b[0;34m\u001b[0m\u001b[0;34m\u001b[0m\u001b[0m\n\u001b[0m\u001b[1;32m      2\u001b[0m \u001b[0maverage_acc\u001b[0m \u001b[0;34m=\u001b[0m \u001b[0;34m[\u001b[0m\u001b[0mnp\u001b[0m\u001b[0;34m.\u001b[0m\u001b[0mmean\u001b[0m\u001b[0;34m(\u001b[0m\u001b[0mresults\u001b[0m\u001b[0;34m[\u001b[0m\u001b[0mi\u001b[0m\u001b[0;34m]\u001b[0m\u001b[0;34m[\u001b[0m\u001b[0;34m\"val_acc\"\u001b[0m\u001b[0;34m]\u001b[0m\u001b[0;34m)\u001b[0m \u001b[0;32mfor\u001b[0m \u001b[0mi\u001b[0m \u001b[0;32min\u001b[0m \u001b[0mkernel_sizes\u001b[0m\u001b[0;34m]\u001b[0m\u001b[0;34m\u001b[0m\u001b[0;34m\u001b[0m\u001b[0m\n\u001b[1;32m      3\u001b[0m \u001b[0mplt\u001b[0m\u001b[0;34m.\u001b[0m\u001b[0mstyle\u001b[0m\u001b[0;34m.\u001b[0m\u001b[0muse\u001b[0m\u001b[0;34m(\u001b[0m\u001b[0;34m\"ggplot\"\u001b[0m\u001b[0;34m)\u001b[0m\u001b[0;34m\u001b[0m\u001b[0;34m\u001b[0m\u001b[0m\n\u001b[1;32m      4\u001b[0m \u001b[0mf\u001b[0m\u001b[0;34m,\u001b[0m \u001b[0;34m(\u001b[0m\u001b[0max1\u001b[0m\u001b[0;34m,\u001b[0m \u001b[0max2\u001b[0m\u001b[0;34m)\u001b[0m \u001b[0;34m=\u001b[0m \u001b[0mplt\u001b[0m\u001b[0;34m.\u001b[0m\u001b[0msubplots\u001b[0m\u001b[0;34m(\u001b[0m\u001b[0;36m1\u001b[0m\u001b[0;34m,\u001b[0m \u001b[0;36m2\u001b[0m\u001b[0;34m,\u001b[0m \u001b[0msharey\u001b[0m\u001b[0;34m=\u001b[0m\u001b[0;32mTrue\u001b[0m\u001b[0;34m)\u001b[0m\u001b[0;34m\u001b[0m\u001b[0;34m\u001b[0m\u001b[0m\n\u001b[1;32m      5\u001b[0m \u001b[0mf\u001b[0m\u001b[0;34m.\u001b[0m\u001b[0mset_figheight\u001b[0m\u001b[0;34m(\u001b[0m\u001b[0;36m4\u001b[0m\u001b[0;34m)\u001b[0m\u001b[0;34m\u001b[0m\u001b[0;34m\u001b[0m\u001b[0m\n",
      "\u001b[0;31mTypeError\u001b[0m: 'int' object is not subscriptable"
     ]
    }
   ],
   "source": [
    "average_recall = [np.mean(results[i][\"val_recall\"]) for i in kernel_sizes]\n",
    "average_acc = [np.mean(results[i][\"val_acc\"]) for i in kernel_sizes]\n",
    "plt.style.use(\"ggplot\")\n",
    "f, (ax1, ax2) = plt.subplots(1, 2, sharey=True)\n",
    "f.set_figheight(4)\n",
    "f.set_figwidth(12)\n",
    "\n",
    "ax1.plot(kernel_sizes, average_recall, label=\"validation recall\", lw=3)\n",
    "ax1.set_ylabel(\"Validation Recall\")\n",
    "ax1.set_xlabel(\"Convolutional Kernel Size\")\n",
    "\n",
    "ax2.plot(kernel_sizes, average_acc, label=\"validation acc\", lw=3)\n",
    "ax2.set_ylabel(\"Validation Accuracy\")\n",
    "ax2.set_xlabel(\"Convolutional Kernel Size\")\n",
    "\n",
    "plt.suptitle(\"Validation Performance vs Convolutional Kernel Size\\n\\n\", fontsize=16)\n",
    "plt.show()"
   ]
  },
  {
   "cell_type": "markdown",
   "metadata": {},
   "source": [
    "# Exploring Effect of Dropout on Accuracy, Recall"
   ]
  },
  {
   "cell_type": "code",
   "execution_count": 130,
   "metadata": {},
   "outputs": [
    {
     "name": "stdout",
     "output_type": "stream",
     "text": [
      "Round  0 #####\n",
      "Round  1 #####\n"
     ]
    }
   ],
   "source": [
    "k = 2\n",
    "\n",
    "dropout_levels = [0, 0.2, 0.4, 0.6, 0.8]\n",
    "\n",
    "dropout_results = {i: {\"val_acc\": [], \"val_recall\": []} for i in dropout_levels}\n",
    "\n",
    "train_input, train_output, test_input, test_output = get_new_equal_split(frac=0.5)\n",
    "\n",
    "for i in range(k):\n",
    "    print(\"Round \", i, end=\" \")\n",
    "    for dropout_level in dropout_levels:\n",
    "        print(\"#\", end=\"\")\n",
    "        model = get_model(dropout=dropout_level)\n",
    "        history = model_train_test(model, train_input, train_output, test_input, test_output)\n",
    "        dropout_results[dropout_level][\"val_acc\"].append(history[\"val_acc\"][-1])\n",
    "        dropout_results[dropout_level][\"val_recall\"].append(history[\"val_recall_metric\"][-1])\n",
    "    print()"
   ]
  },
  {
   "cell_type": "code",
   "execution_count": 154,
   "metadata": {},
   "outputs": [
    {
     "data": {
      "image/png": "[encoded data removed]",
      "text/plain": [
       "<Figure size 864x288 with 2 Axes>"
      ]
     },
     "metadata": {},
     "output_type": "display_data"
    }
   ],
   "source": [
    "average_recall = [np.mean(dropout_results[i][\"val_recall\"]) for i in dropout_levels]\n",
    "average_acc = [np.mean(dropout_results[i][\"val_acc\"]) for i in dropout_levels]\n",
    "plt.style.use(\"ggplot\")\n",
    "f, (ax1, ax2) = plt.subplots(1, 2, sharey=True)\n",
    "f.set_figheight(4)\n",
    "f.set_figwidth(12)\n",
    "\n",
    "ax1.plot(dropout_levels, average_recall, label=\"validation recall\", lw=3)\n",
    "ax1.set_ylabel(\"Validation Recall\")\n",
    "ax1.set_xlabel(\"Convolutional Kernel Size\")\n",
    "\n",
    "ax2.plot(dropout_levels, average_acc, label=\"validation acc\", lw=3)\n",
    "ax2.set_ylabel(\"Validation Accuracy\")\n",
    "ax2.set_xlabel(\"Convolutional Kernel Size\")\n",
    "\n",
    "plt.suptitle(\"Validation Performance vs Dropout Percentage\\n\\n\", fontsize=16)\n",
    "plt.show()"
   ]
  },
  {
   "cell_type": "markdown",
   "metadata": {},
   "source": [
    "# Exploring Accuracy, Recall on Different Lengths\n"
   ]
  },
  {
   "cell_type": "code",
   "execution_count": 185,
   "metadata": {},
   "outputs": [
    {
     "data": {
      "text/plain": [
       "(array([33., 47., 45., 13., 10.]),\n",
       " array([ 5, 10, 15, 20, 25, 30]),\n",
       " <a list of 5 Patch objects>)"
      ]
     },
     "execution_count": 185,
     "metadata": {},
     "output_type": "execute_result"
    },
    {
     "data": {
      "image/png": "[encoded data removed]",
      "text/plain": [
       "<Figure size 432x288 with 1 Axes>"
      ]
     },
     "metadata": {},
     "output_type": "display_data"
    }
   ],
   "source": [
    "training_df[\"length\"] = training_df[\"text\"].apply(lambda x: len(x.split()))\n",
    "plt.hist(training_df[\"length\"], bins=[5, 10, 15, 20, 25, 30])"
   ]
  },
  {
   "cell_type": "code",
   "execution_count": 213,
   "metadata": {},
   "outputs": [],
   "source": [
    "lengths = []\n",
    "results = []"
   ]
  },
  {
   "cell_type": "code",
   "execution_count": 226,
   "metadata": {},
   "outputs": [
    {
     "name": "stdout",
     "output_type": "stream",
     "text": [
      "Train on 129 samples, validate on 32 samples\n",
      "Epoch 1/12\n",
      "129/129 [==============================] - 19s 148ms/step - loss: 0.8469 - acc: 0.4341 - recall_metric: 0.6646 - val_loss: 1.0073 - val_acc: 0.3750 - val_recall_metric: 1.0000\n",
      "Epoch 2/12\n",
      "129/129 [==============================] - 0s 2ms/step - loss: 0.5244 - acc: 0.5116 - recall_metric: 0.8630 - val_loss: 0.7362 - val_acc: 0.4375 - val_recall_metric: 0.9500\n",
      "Epoch 3/12\n",
      "129/129 [==============================] - 0s 2ms/step - loss: 0.4313 - acc: 0.5659 - recall_metric: 0.9483 - val_loss: 0.6855 - val_acc: 0.4688 - val_recall_metric: 0.9500\n",
      "Epoch 4/12\n",
      "129/129 [==============================] - 0s 2ms/step - loss: 0.3157 - acc: 0.6977 - recall_metric: 0.9457 - val_loss: 0.5531 - val_acc: 0.6875 - val_recall_metric: 0.9500\n",
      "Epoch 5/12\n",
      "129/129 [==============================] - 0s 2ms/step - loss: 0.2887 - acc: 0.8217 - recall_metric: 0.9922 - val_loss: 0.5667 - val_acc: 0.6250 - val_recall_metric: 0.9500\n",
      "Epoch 6/12\n",
      "129/129 [==============================] - 0s 2ms/step - loss: 0.2595 - acc: 0.8915 - recall_metric: 0.8863 - val_loss: 0.5104 - val_acc: 0.6875 - val_recall_metric: 0.9500\n",
      "Epoch 7/12\n",
      "129/129 [==============================] - 0s 2ms/step - loss: 0.2185 - acc: 0.8527 - recall_metric: 0.9922 - val_loss: 0.5511 - val_acc: 0.6562 - val_recall_metric: 0.9500\n",
      "Epoch 8/12\n",
      "129/129 [==============================] - 0s 2ms/step - loss: 0.2190 - acc: 0.8915 - recall_metric: 0.9023 - val_loss: 0.4470 - val_acc: 0.8438 - val_recall_metric: 0.9500\n",
      "Epoch 9/12\n",
      "129/129 [==============================] - 0s 2ms/step - loss: 0.2053 - acc: 0.9302 - recall_metric: 0.9302 - val_loss: 0.5374 - val_acc: 0.7188 - val_recall_metric: 0.9500\n",
      "Epoch 10/12\n",
      "129/129 [==============================] - 0s 2ms/step - loss: 0.1411 - acc: 0.9535 - recall_metric: 0.9922 - val_loss: 0.4284 - val_acc: 0.8750 - val_recall_metric: 0.9500\n",
      "Epoch 11/12\n",
      "129/129 [==============================] - 0s 2ms/step - loss: 0.1595 - acc: 0.9457 - recall_metric: 0.9922 - val_loss: 0.4527 - val_acc: 0.7500 - val_recall_metric: 0.9500\n",
      "Epoch 12/12\n",
      "129/129 [==============================] - 0s 2ms/step - loss: 0.1343 - acc: 0.9380 - recall_metric: 0.9302 - val_loss: 0.4601 - val_acc: 0.7500 - val_recall_metric: 0.9500\n"
     ]
    }
   ],
   "source": [
    "model = get_model()\n",
    "train_input, train_output, test_input, test_output = get_new_equal_split(frac=0.8)\n",
    "history = model.fit(train_input, train_output,\n",
    "                    epochs=12,\n",
    "                    verbose=1,\n",
    "                    validation_data=(test_input, test_output),\n",
    "                    batch_size=8,\n",
    "                    class_weight={1: 6, 0: 1})"
   ]
  },
  {
   "cell_type": "code",
   "execution_count": 227,
   "metadata": {},
   "outputs": [],
   "source": [
    "for x, y in zip(test_input, test_output):\n",
    "    length = list(x).index(0)\n",
    "    while length > 2:\n",
    "        lengths.append(length)\n",
    "        result = model.predict(np.array([x]))\n",
    "        x[length - 1] = 0\n",
    "        length -= 1\n",
    "        if np.round(result) == y:\n",
    "            results.append(1)\n",
    "        else:\n",
    "            results.append(0)"
   ]
  },
  {
   "cell_type": "code",
   "execution_count": 230,
   "metadata": {},
   "outputs": [
    {
     "name": "stdout",
     "output_type": "stream",
     "text": [
      "5 :  0.6455696202531646 158\n",
      "10 :  0.7613365155131265 419\n",
      "15 :  0.8106508875739645 169\n",
      "20 :  0.9520958083832335 167\n"
     ]
    }
   ],
   "source": [
    "bins = {5: [], 10: [], 15: [], 20: []}\n",
    "for r, l in zip(results, lengths):\n",
    "    if l < 5:\n",
    "        bins[5].append(r)\n",
    "    if l < 10:\n",
    "        bins[10].append(r)\n",
    "    elif l < 15:\n",
    "        bins[15].append(r)\n",
    "    elif l < 20:\n",
    "        bins[20].append(r)\n",
    "    elif l >= 15:\n",
    "        bins[20].append(r)\n",
    "for k in bins:\n",
    "    print(k, \": \", np.mean(bins[k]), len(bins[k]))"
   ]
  },
  {
   "cell_type": "code",
   "execution_count": 232,
   "metadata": {},
   "outputs": [
    {
     "data": {
      "text/plain": [
       "[<matplotlib.lines.Line2D at 0x1316257d68>]"
      ]
     },
     "execution_count": 232,
     "metadata": {},
     "output_type": "execute_result"
    },
    {
     "data": {
      "image/png": "[encoded data removed]",
      "text/plain": [
       "<Figure size 432x288 with 1 Axes>"
      ]
     },
     "metadata": {},
     "output_type": "display_data"
    }
   ],
   "source": [
    "x = [5, 10 ,15, 20]\n",
    "y = [np.mean(bins[xi]) for xi in x]\n",
    "plt.plot(x, y)"
   ]
  },
  {
   "cell_type": "code",
   "execution_count": 64,
   "metadata": {},
   "outputs": [
    {
     "name": "stdout",
     "output_type": "stream",
     "text": [
      "text                    The said truth is that it is the greatest happ...\n",
      "moral_saliency                                                          1\n",
      "moral_intrinsicality                                                    3\n",
      "notes                   Consequentialism (utilitarianism); Jeremy Bent...\n",
      "Name: 4, dtype: object\n",
      "text                    I don't know what was going through Elizabeth ...\n",
      "moral_saliency                                                          1\n",
      "moral_intrinsicality                                                    1\n",
      "notes                                             Long positive test case\n",
      "Name: 13, dtype: object\n",
      "text                    But does she really wanna But can't stand to s...\n",
      "moral_saliency                                                          0\n",
      "moral_intrinsicality                                                    0\n",
      "notes                                             Long negative test case\n",
      "Name: 15, dtype: object\n",
      "text                    You should really avoid ending your sentences ...\n",
      "moral_saliency                                                          0\n",
      "moral_intrinsicality                                                    0\n",
      "notes                                             Should/Deontic negative\n",
      "Name: 26, dtype: object\n",
      "text                    Casual friday should be accepted as a company ...\n",
      "moral_saliency                                                          0\n",
      "moral_intrinsicality                                                    0\n",
      "notes                                             Should/Deontic negative\n",
      "Name: 27, dtype: object\n",
      "text                    For anyone dealing with a serious illness, or ...\n",
      "moral_saliency                                                          0\n",
      "moral_intrinsicality                                                    0\n",
      "notes                                     Negative test case for coverage\n",
      "Name: 32, dtype: object\n",
      "text                    This guy doesn't know anything.\n",
      "moral_saliency                                        0\n",
      "moral_intrinsicality                                  0\n",
      "notes                   Negative test case for coverage\n",
      "Name: 36, dtype: object\n",
      "text                    \"Comprised of\" isn't a gramatically correct se...\n",
      "moral_saliency                                                          0\n",
      "moral_intrinsicality                                                    0\n",
      "notes                                     Negative test case for coverage\n",
      "Name: 39, dtype: object\n",
      "\n",
      "\n",
      "\n",
      "Accuracy:  0.8\n",
      "Recall:  0.8571428571428571\n"
     ]
    }
   ],
   "source": [
    "test_set = pd.read_csv(\"data/training_data/moral_test_set.csv\")\n",
    "test_set.head()\n",
    "count = 0\n",
    "wrong = 0\n",
    "count_pos = 0\n",
    "wrong_pos = 0\n",
    "for index, row in test_set.iterrows():\n",
    "    count += 1\n",
    "    text_sequence = tokenizer.texts_to_sequences([row[\"text\"]])\n",
    "    padded_text_sequence = pad_sequences(text_sequence, padding='post', maxlen=maxlen)\n",
    "    result = model.predict(padded_text_sequence)\n",
    "    if row[\"moral_saliency\"] == 1:\n",
    "        count_pos += 1\n",
    "    if np.round(result) != row[\"moral_saliency\"]:\n",
    "        wrong += 1\n",
    "        if row[\"moral_saliency\"] == 1:\n",
    "            wrong_pos += 1\n",
    "        print(row)\n",
    "print(\"\\n\\n\")\n",
    "print(\"Accuracy: \", (count - wrong) / count)\n",
    "print(\"Recall: \", (count_pos - wrong_pos) / count_pos)"
   ]
  },
  {
   "cell_type": "code",
   "execution_count": 18,
   "metadata": {},
   "outputs": [
    {
     "name": "stdout",
     "output_type": "stream",
     "text": [
      "_________________________________________________________________\n",
      "Layer (type)                 Output Shape              Param #   \n",
      "=================================================================\n",
      "embedding_2 (Embedding)      (None, 64, 200)           61876400  \n",
      "_________________________________________________________________\n",
      "conv1d_2 (Conv1D)            (None, 61, 32)            25632     \n",
      "_________________________________________________________________\n",
      "global_max_pooling1d_2 (Glob (None, 32)                0         \n",
      "_________________________________________________________________\n",
      "dense_4 (Dense)              (None, 32)                1056      \n",
      "_________________________________________________________________\n",
      "dropout_2 (Dropout)          (None, 32)                0         \n",
      "_________________________________________________________________\n",
      "dense_5 (Dense)              (None, 1)                 33        \n",
      "=================================================================\n",
      "Total params: 61,903,121\n",
      "Trainable params: 26,721\n",
      "Non-trainable params: 61,876,400\n",
      "_________________________________________________________________\n"
     ]
    }
   ],
   "source": [
    "# Create a new model\n",
    "msa_cnn_model = keras.Sequential()\n",
    "msa_cnn_model.add(keras.layers.Embedding(vocab_size, embedding_dim, \n",
    "                           weights=[embedding_matrix], \n",
    "                           input_length=maxlen, \n",
    "                           trainable=False))\n",
    "msa_cnn_model.add(keras.layers.Conv1D(filters=32, kernel_size=4))\n",
    "msa_cnn_model.add(keras.layers.GlobalMaxPool1D())\n",
    "msa_cnn_model.add(keras.layers.Dense(32, activation='relu'))\n",
    "msa_cnn_model.add(keras.layers.Dropout(0.5))\n",
    "msa_cnn_model.add(keras.layers.Dense(1, activation='sigmoid'))\n",
    "msa_cnn_model.compile(optimizer='adam',\n",
    "                loss='binary_crossentropy',\n",
    "                metrics=[\"accuracy\", recall_metric])\n",
    "msa_cnn_model.summary()"
   ]
  },
  {
   "cell_type": "code",
   "execution_count": 19,
   "metadata": {},
   "outputs": [
    {
     "name": "stdout",
     "output_type": "stream",
     "text": [
      "Train on 100 samples, validate on 50 samples\n",
      "Epoch 1/16\n",
      "100/100 [==============================] - 1s 12ms/step - loss: 0.5957 - acc: 0.3600 - recall_metric: 0.9800 - val_loss: 1.1525 - val_acc: 0.3400 - val_recall_metric: 0.6400\n",
      "Epoch 2/16\n",
      "100/100 [==============================] - 0s 773us/step - loss: 0.5248 - acc: 0.3800 - recall_metric: 1.0000 - val_loss: 0.9513 - val_acc: 0.3400 - val_recall_metric: 0.6400\n",
      "Epoch 3/16\n",
      "100/100 [==============================] - 0s 749us/step - loss: 0.4713 - acc: 0.4100 - recall_metric: 0.8800 - val_loss: 0.8668 - val_acc: 0.3600 - val_recall_metric: 0.6400\n",
      "Epoch 4/16\n",
      "100/100 [==============================] - 0s 735us/step - loss: 0.4154 - acc: 0.5000 - recall_metric: 0.8400 - val_loss: 0.7327 - val_acc: 0.4400 - val_recall_metric: 0.6400\n",
      "Epoch 5/16\n",
      "100/100 [==============================] - 0s 706us/step - loss: 0.3594 - acc: 0.6300 - recall_metric: 0.9040 - val_loss: 0.6358 - val_acc: 0.5600 - val_recall_metric: 0.6000\n",
      "Epoch 6/16\n",
      "100/100 [==============================] - 0s 703us/step - loss: 0.2436 - acc: 0.6600 - recall_metric: 1.0000 - val_loss: 0.7280 - val_acc: 0.5000 - val_recall_metric: 0.6400\n",
      "Epoch 7/16\n",
      "100/100 [==============================] - 0s 702us/step - loss: 0.2478 - acc: 0.7000 - recall_metric: 1.0000 - val_loss: 0.6201 - val_acc: 0.6400 - val_recall_metric: 0.6000\n",
      "Epoch 8/16\n",
      "100/100 [==============================] - 0s 716us/step - loss: 0.1932 - acc: 0.8700 - recall_metric: 1.0000 - val_loss: 0.5611 - val_acc: 0.7000 - val_recall_metric: 0.6000\n",
      "Epoch 9/16\n",
      "100/100 [==============================] - 0s 710us/step - loss: 0.1228 - acc: 0.9300 - recall_metric: 1.0000 - val_loss: 0.4718 - val_acc: 0.8000 - val_recall_metric: 0.6000\n",
      "Epoch 10/16\n",
      "100/100 [==============================] - 0s 749us/step - loss: 0.1377 - acc: 0.9600 - recall_metric: 0.9200 - val_loss: 0.4930 - val_acc: 0.7600 - val_recall_metric: 0.6000\n",
      "Epoch 11/16\n",
      "100/100 [==============================] - 0s 764us/step - loss: 0.1434 - acc: 0.9400 - recall_metric: 0.8000 - val_loss: 0.4077 - val_acc: 0.8400 - val_recall_metric: 0.6000\n",
      "Epoch 12/16\n",
      "100/100 [==============================] - 0s 752us/step - loss: 0.1331 - acc: 0.9300 - recall_metric: 1.0000 - val_loss: 0.5103 - val_acc: 0.7800 - val_recall_metric: 0.6000\n",
      "Epoch 13/16\n",
      "100/100 [==============================] - 0s 786us/step - loss: 0.1046 - acc: 0.9500 - recall_metric: 0.9733 - val_loss: 0.4682 - val_acc: 0.7800 - val_recall_metric: 0.6000\n",
      "Epoch 14/16\n",
      "100/100 [==============================] - 0s 739us/step - loss: 0.0982 - acc: 0.9500 - recall_metric: 0.8400 - val_loss: 0.3679 - val_acc: 0.8600 - val_recall_metric: 0.6000\n",
      "Epoch 15/16\n",
      "100/100 [==============================] - 0s 754us/step - loss: 0.0598 - acc: 0.9900 - recall_metric: 0.8800 - val_loss: 0.4473 - val_acc: 0.8400 - val_recall_metric: 0.6000\n",
      "Epoch 16/16\n",
      "100/100 [==============================] - 0s 716us/step - loss: 0.0430 - acc: 0.9900 - recall_metric: 0.9600 - val_loss: 0.4149 - val_acc: 0.8400 - val_recall_metric: 0.6000\n",
      "Testing Accuracy:  0.8400\n",
      "Testing Recall:  0.6024\n"
     ]
    }
   ],
   "source": [
    "history = msa_cnn_model.fit(input_train, output_train,\n",
    "                    epochs=12,\n",
    "                    verbose=1,\n",
    "                    validation_data=(input_test, output_test),\n",
    "                    batch_size=8,\n",
    "                    class_weight={1: 10, 0: 1})\n",
    "loss, accuracy, recall = msa_cnn_model.evaluate(input_test, output_test, verbose=False)\n",
    "print(\"Testing Accuracy:  {:.4f}\".format(accuracy))\n",
    "print(\"Testing Recall:  {:.4f}\".format(recall))"
   ]
  },
  {
   "cell_type": "code",
   "execution_count": 17,
   "metadata": {},
   "outputs": [
    {
     "name": "stdout",
     "output_type": "stream",
     "text": [
      "WARNING:tensorflow:This model was compiled with a Keras optimizer (<tensorflow.python.keras.optimizers.Adam object at 0xb3697df28>) but is being saved in TensorFlow format with `save_weights`. The model's weights will be saved, but unlike with TensorFlow optimizers in the TensorFlow format the optimizer's state will not be saved.\n",
      "\n",
      "Consider using a TensorFlow optimizer from `tf.train`.\n",
      "Saved model to data/models/MSA_cnn_model.json\n"
     ]
    }
   ],
   "source": [
    "save_model(msa_cnn_model, model_path=\"data/models/msa_model.json\", weights_path=\"data/models/msa_weights.hdf\")"
   ]
  },
  {
   "cell_type": "code",
   "execution_count": 51,
   "metadata": {},
   "outputs": [
    {
     "data": {
      "text/html": [
       "<div>\n",
       "<style scoped>\n",
       "    .dataframe tbody tr th:only-of-type {\n",
       "        vertical-align: middle;\n",
       "    }\n",
       "\n",
       "    .dataframe tbody tr th {\n",
       "        vertical-align: top;\n",
       "    }\n",
       "\n",
       "    .dataframe thead th {\n",
       "        text-align: right;\n",
       "    }\n",
       "</style>\n",
       "<table border=\"1\" class=\"dataframe\">\n",
       "  <thead>\n",
       "    <tr style=\"text-align: right;\">\n",
       "      <th></th>\n",
       "      <th>text</th>\n",
       "      <th>moral_saliency</th>\n",
       "      <th>moral_intrinsicality</th>\n",
       "      <th>notes</th>\n",
       "    </tr>\n",
       "  </thead>\n",
       "  <tbody>\n",
       "    <tr>\n",
       "      <th>0</th>\n",
       "      <td>The most ethical course of action is the one t...</td>\n",
       "      <td>1</td>\n",
       "      <td>3</td>\n",
       "      <td>Consequentialism (utilitarianism); colloquial</td>\n",
       "    </tr>\n",
       "    <tr>\n",
       "      <th>1</th>\n",
       "      <td>Results of actions don't matter as much as the...</td>\n",
       "      <td>1</td>\n",
       "      <td>3</td>\n",
       "      <td>Deontology; colloquial</td>\n",
       "    </tr>\n",
       "    <tr>\n",
       "      <th>2</th>\n",
       "      <td>Morality is about becoming the right kind of p...</td>\n",
       "      <td>1</td>\n",
       "      <td>3</td>\n",
       "      <td>Virtue Ethics; colloquial</td>\n",
       "    </tr>\n",
       "    <tr>\n",
       "      <th>3</th>\n",
       "      <td>Act only according to that maxim whereby you c...</td>\n",
       "      <td>1</td>\n",
       "      <td>3</td>\n",
       "      <td>Deontology; Immanuel Kant, Groundwork of Metap...</td>\n",
       "    </tr>\n",
       "    <tr>\n",
       "      <th>4</th>\n",
       "      <td>The said truth is that it is the greatest happ...</td>\n",
       "      <td>1</td>\n",
       "      <td>3</td>\n",
       "      <td>Consequentialism (utilitarianism); Jeremy Bent...</td>\n",
       "    </tr>\n",
       "  </tbody>\n",
       "</table>\n",
       "</div>"
      ],
      "text/plain": [
       "                                                text  moral_saliency  \\\n",
       "0  The most ethical course of action is the one t...               1   \n",
       "1  Results of actions don't matter as much as the...               1   \n",
       "2  Morality is about becoming the right kind of p...               1   \n",
       "3  Act only according to that maxim whereby you c...               1   \n",
       "4  The said truth is that it is the greatest happ...               1   \n",
       "\n",
       "   moral_intrinsicality                                              notes  \n",
       "0                     3      Consequentialism (utilitarianism); colloquial  \n",
       "1                     3                             Deontology; colloquial  \n",
       "2                     3                          Virtue Ethics; colloquial  \n",
       "3                     3  Deontology; Immanuel Kant, Groundwork of Metap...  \n",
       "4                     3  Consequentialism (utilitarianism); Jeremy Bent...  "
      ]
     },
     "execution_count": 51,
     "metadata": {},
     "output_type": "execute_result"
    }
   ],
   "source": [
    "test_set = pd.read_csv(\"data/training_data/moral_test_set.csv\")\n",
    "test_set.head()"
   ]
  },
  {
   "cell_type": "code",
   "execution_count": 53,
   "metadata": {},
   "outputs": [
    {
     "name": "stdout",
     "output_type": "stream",
     "text": [
      "text                    The most ethical course of action is the one t...\n",
      "moral_saliency                                                          1\n",
      "moral_intrinsicality                                                    3\n",
      "notes                       Consequentialism (utilitarianism); colloquial\n",
      "Name: 0, dtype: object\n",
      "text                    Results of actions don't matter as much as the...\n",
      "moral_saliency                                                          1\n",
      "moral_intrinsicality                                                    3\n",
      "notes                                              Deontology; colloquial\n",
      "Name: 1, dtype: object\n",
      "text                    Morality is about becoming the right kind of p...\n",
      "moral_saliency                                                          1\n",
      "moral_intrinsicality                                                    3\n",
      "notes                                           Virtue Ethics; colloquial\n",
      "Name: 2, dtype: object\n",
      "text                    Act only according to that maxim whereby you c...\n",
      "moral_saliency                                                          1\n",
      "moral_intrinsicality                                                    3\n",
      "notes                   Deontology; Immanuel Kant, Groundwork of Metap...\n",
      "Name: 3, dtype: object\n",
      "text                    The said truth is that it is the greatest happ...\n",
      "moral_saliency                                                          1\n",
      "moral_intrinsicality                                                    3\n",
      "notes                   Consequentialism (utilitarianism); Jeremy Bent...\n",
      "Name: 4, dtype: object\n",
      "text                    We are what we repeatedly do. Excellence, then...\n",
      "moral_saliency                                                          1\n",
      "moral_intrinsicality                                                    3\n",
      "notes                       Virtue Ethics; Not Aristotle but close enough\n",
      "Name: 5, dtype: object\n",
      "text                    Although it can be very difficult to determine...\n",
      "moral_saliency                                                          1\n",
      "moral_intrinsicality                                                    2\n",
      "notes                                             Long positive test case\n",
      "Name: 12, dtype: object\n",
      "text                    I don't know what was going through Elizabeth ...\n",
      "moral_saliency                                                          1\n",
      "moral_intrinsicality                                                    1\n",
      "notes                                             Long positive test case\n",
      "Name: 13, dtype: object\n",
      "text                    pEeple who eat meet are MURDERS n they deserve...\n",
      "moral_saliency                                                          1\n",
      "moral_intrinsicality                                                    1\n",
      "notes                                            Messy positive test case\n",
      "Name: 20, dtype: object\n",
      "text                    Capitlism isa terible system that hurts pour p...\n",
      "moral_saliency                                                          1\n",
      "moral_intrinsicality                                                    2\n",
      "notes                                            Messy positive test case\n",
      "Name: 21, dtype: object\n",
      "\n",
      "\n",
      "\n",
      "Accuracy:  0.75\n",
      "Recall:  0.2857142857142857\n"
     ]
    }
   ],
   "source": [
    "count = 0\n",
    "wrong = 0\n",
    "count_pos = 0\n",
    "wrong_pos = 0\n",
    "for index, row in test_set.iterrows():\n",
    "    count += 1\n",
    "    text_sequence = tokenizer.texts_to_sequences([row[\"text\"]])\n",
    "    padded_text_sequence = pad_sequences(text_sequence, padding='post', maxlen=maxlen)\n",
    "    result = msa_cnn_model.predict(padded_text_sequence)\n",
    "    if row[\"moral_saliency\"] == 1:\n",
    "        count_pos += 1\n",
    "    if np.round(result) != row[\"moral_saliency\"]:\n",
    "        wrong += 1\n",
    "        if row[\"moral_saliency\"] == 1:\n",
    "            wrong_pos += 1\n",
    "        print(row)\n",
    "print(\"\\n\\n\")\n",
    "print(\"Accuracy: \", (count - wrong) / count)\n",
    "print(\"Recall: \", (count_pos - wrong_pos) / count_pos)"
   ]
  },
  {
   "cell_type": "code",
   "execution_count": 27,
   "metadata": {},
   "outputs": [
    {
     "name": "stdout",
     "output_type": "stream",
     "text": [
      "<class 'numpy.ndarray'>\n",
      "<class 'numpy.ndarray'>\n",
      "<class 'numpy.float32'>\n",
      "[[0.8681602]]\n",
      "MORAL\n"
     ]
    }
   ],
   "source": [
    "text = \"profit is more important than equality\"\n",
    "text_sequence = tokenizer.texts_to_sequences([text])\n",
    "padded_text_sequence = pad_sequences(text_sequence, padding='post', maxlen=maxlen)\n",
    "result = msa_cnn_model.predict(padded_text_sequence)\n",
    "print(type(result))\n",
    "print(type(result[0]))\n",
    "print(type(result[0][0]))\n",
    "print(result)\n",
    "if result[0][0] > 0.5:\n",
    "    print(\"MORAL\")\n",
    "else:\n",
    "    print(\"NOT MORAL\")"
   ]
  },
  {
   "cell_type": "code",
   "execution_count": 30,
   "metadata": {},
   "outputs": [],
   "source": [
    "model = msa_cnn_model\n",
    "def train_single(text, label):\n",
    "    maxlen = 64\n",
    "    model.compile(optimizer='adam',\n",
    "                loss='binary_crossentropy',\n",
    "                metrics=[\"accuracy\"])\n",
    "    text_sequence = tokenizer.texts_to_sequences([text])\n",
    "    padded_text_sequence = pad_sequences(text_sequence, padding='post', maxlen=maxlen)\n",
    "    model.fit(padded_text_sequence, np.array([[float(label)]]),\n",
    "                    epochs=1,\n",
    "                    verbose=0,\n",
    "                    batch_size=1,\n",
    "                    class_weight={1: 10, 0: 1})\n",
    "\n",
    "train_single(\"I think you should go to hell\", 0)"
   ]
  },
  {
   "cell_type": "code",
   "execution_count": null,
   "metadata": {},
   "outputs": [],
   "source": [
    "save_model(model)"
   ]
  }
 ],
 "metadata": {
  "kernelspec": {
   "display_name": "Python 3",
   "language": "python",
   "name": "python3"
  },
  "language_info": {
   "codemirror_mode": {
    "name": "ipython",
    "version": 3
   },
   "file_extension": ".py",
   "mimetype": "text/x-python",
   "name": "python",
   "nbconvert_exporter": "python",
   "pygments_lexer": "ipython3",
   "version": "3.6.8"
  }
 },
 "nbformat": 4,
 "nbformat_minor": 2
}
