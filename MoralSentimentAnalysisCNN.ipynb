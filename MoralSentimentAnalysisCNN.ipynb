{
 "cells": [
  {
   "cell_type": "code",
   "execution_count": 1,
   "metadata": {},
   "outputs": [
    {
     "name": "stderr",
     "output_type": "stream",
     "text": [
      "Using TensorFlow backend.\n"
     ]
    }
   ],
   "source": [
    "import matplotlib.pyplot as plt\n",
    "import numpy as np\n",
    "import os\n",
    "import pandas as pd\n",
    "import pickle\n",
    "import spacy\n",
    "import tensorflow as tf\n",
    "\n",
    "from tensorflow import keras\n",
    "from keras import backend as K\n",
    "from keras.preprocessing.text import Tokenizer\n",
    "from keras.preprocessing.sequence import pad_sequences\n",
    "\n",
    "os.environ['KMP_DUPLICATE_LIB_OK']='True'"
   ]
  },
  {
   "cell_type": "code",
   "execution_count": 2,
   "metadata": {},
   "outputs": [],
   "source": [
    "embedding_dim = 200\n",
    "maxlen = 64\n",
    "clear_embedding_matrix = False"
   ]
  },
  {
   "cell_type": "code",
   "execution_count": 3,
   "metadata": {},
   "outputs": [],
   "source": [
    "def recall(y_true, y_pred):\t\n",
    "    \"\"\"Recall metric.\t\n",
    "     Only computes a batch-wise average of recall.\t\n",
    "     Computes the recall, a metric for multi-label classification of\t\n",
    "    how many relevant items are selected.\t\n",
    "    \"\"\"\t\n",
    "    true_positives = K.sum(K.round(K.clip(y_true * y_pred, 0, 1)))\t\n",
    "    possible_positives = K.sum(K.round(K.clip(y_true, 0, 1)))\t\n",
    "    recall = true_positives / (possible_positives + K.epsilon())\t\n",
    "    return recall"
   ]
  },
  {
   "cell_type": "code",
   "execution_count": 4,
   "metadata": {},
   "outputs": [],
   "source": [
    "def save_model(model, model_path=\"data/models/MSA_cnn_model.json\", weights_path=\"data/models/MSA_cnn_model.hdf\"):\n",
    "    # serialize model to JSON\n",
    "    model_json = model.to_json()\n",
    "    with open(model_path, \"w\") as json_file:\n",
    "        json_file.write(model_json)\n",
    "    # serialize weights to HDF5\n",
    "    model.save_weights(weights_path)\n",
    "    print(\"Saved model to data/models/MSA_cnn_model.json\")"
   ]
  },
  {
   "cell_type": "code",
   "execution_count": 5,
   "metadata": {},
   "outputs": [
    {
     "name": "stdout",
     "output_type": "stream",
     "text": [
      "loaded tokenizer from models/tokenizer.pickle\n"
     ]
    }
   ],
   "source": [
    "with open('data/models/tokenizer.pickle', 'rb') as handle:\n",
    "    tokenizer = pickle.load(handle)\n",
    "print(\"loaded tokenizer from models/tokenizer.pickle\")\n",
    "vocab_size = len(tokenizer.word_index) + 1"
   ]
  },
  {
   "cell_type": "code",
   "execution_count": 6,
   "metadata": {},
   "outputs": [
    {
     "name": "stdout",
     "output_type": "stream",
     "text": [
      "loaded embedding_matrix from models/embedding_matrix.pickle\n"
     ]
    }
   ],
   "source": [
    "if os.path.exists('data/models/embedding_matrix.pickle') and not clear_embedding_matrix:\n",
    "    with open('data/models/embedding_matrix.pickle', 'rb') as handle:\n",
    "        embedding_matrix = pickle.load(handle)\n",
    "    print(\"loaded embedding_matrix from models/embedding_matrix.pickle\")\n",
    "else:\n",
    "    print(\"data/models/embedding_matrix.pickle not found; creating a new embedding_matrix\")\n",
    "    vocab_size = len(tokenizer.word_index) + 1  # Adding again 1 because of reserved 0 index\n",
    "    embedding_matrix = np.zeros((vocab_size, embedding_dim))\n",
    "    with open(glove_filepath) as f:\n",
    "        for line in f:\n",
    "            word, *vector = line.split()\n",
    "            if word in tokenizer.word_index:\n",
    "                idx = tokenizer.word_index[word] \n",
    "                embedding_matrix[idx] = np.array(\n",
    "                    vector, dtype=np.float32)[:embedding_dim]\n",
    "    # save for the future\n",
    "    with open('data/models/embedding_matrix.pickle', 'wb') as handle:\n",
    "        pickle.dump(embedding_matrix, handle, protocol=pickle.HIGHEST_PROTOCOL)\n",
    "    print(\"saving embedding_matrix to data/models/embedding_matrix.pickle\")"
   ]
  },
  {
   "cell_type": "code",
   "execution_count": 7,
   "metadata": {},
   "outputs": [
    {
     "data": {
      "text/html": [
       "<div>\n",
       "<style scoped>\n",
       "    .dataframe tbody tr th:only-of-type {\n",
       "        vertical-align: middle;\n",
       "    }\n",
       "\n",
       "    .dataframe tbody tr th {\n",
       "        vertical-align: top;\n",
       "    }\n",
       "\n",
       "    .dataframe thead th {\n",
       "        text-align: right;\n",
       "    }\n",
       "</style>\n",
       "<table border=\"1\" class=\"dataframe\">\n",
       "  <thead>\n",
       "    <tr style=\"text-align: right;\">\n",
       "      <th></th>\n",
       "      <th>text</th>\n",
       "      <th>moral_saliency</th>\n",
       "      <th>moral_intrinsicality</th>\n",
       "      <th>notes</th>\n",
       "    </tr>\n",
       "  </thead>\n",
       "  <tbody>\n",
       "    <tr>\n",
       "      <th>0</th>\n",
       "      <td>All human beings have inherent worth.</td>\n",
       "      <td>1</td>\n",
       "      <td>3</td>\n",
       "      <td>NaN</td>\n",
       "    </tr>\n",
       "    <tr>\n",
       "      <th>1</th>\n",
       "      <td>It's wrong to exploit people you have power over.</td>\n",
       "      <td>1</td>\n",
       "      <td>2</td>\n",
       "      <td>NaN</td>\n",
       "    </tr>\n",
       "    <tr>\n",
       "      <th>2</th>\n",
       "      <td>Jeff Bezos is an evil man.</td>\n",
       "      <td>1</td>\n",
       "      <td>1</td>\n",
       "      <td>NaN</td>\n",
       "    </tr>\n",
       "    <tr>\n",
       "      <th>3</th>\n",
       "      <td>Human beings have a brain that resides in thei...</td>\n",
       "      <td>0</td>\n",
       "      <td>0</td>\n",
       "      <td>NaN</td>\n",
       "    </tr>\n",
       "    <tr>\n",
       "      <th>4</th>\n",
       "      <td>It's incorrect to assume that one plus one is ...</td>\n",
       "      <td>0</td>\n",
       "      <td>0</td>\n",
       "      <td>NaN</td>\n",
       "    </tr>\n",
       "  </tbody>\n",
       "</table>\n",
       "</div>"
      ],
      "text/plain": [
       "                                                text  moral_saliency  \\\n",
       "0              All human beings have inherent worth.               1   \n",
       "1  It's wrong to exploit people you have power over.               1   \n",
       "2                         Jeff Bezos is an evil man.               1   \n",
       "3  Human beings have a brain that resides in thei...               0   \n",
       "4  It's incorrect to assume that one plus one is ...               0   \n",
       "\n",
       "   moral_intrinsicality notes  \n",
       "0                     3   NaN  \n",
       "1                     2   NaN  \n",
       "2                     1   NaN  \n",
       "3                     0   NaN  \n",
       "4                     0   NaN  "
      ]
     },
     "execution_count": 7,
     "metadata": {},
     "output_type": "execute_result"
    }
   ],
   "source": [
    "training_df = pd.read_csv('data/training_data/moral_training_set.csv')\n",
    "training_df.head()"
   ]
  },
  {
   "cell_type": "code",
   "execution_count": 8,
   "metadata": {},
   "outputs": [
    {
     "name": "stdout",
     "output_type": "stream",
     "text": [
      "train len:  120\n",
      "test len:  30\n"
     ]
    }
   ],
   "source": [
    "train = training_df.sample(frac=0.8)\n",
    "test = training_df.drop(train.index)\n",
    "print(\"train len: \", len(train))\n",
    "print(\"test len: \", len(test))"
   ]
  },
  {
   "cell_type": "code",
   "execution_count": 9,
   "metadata": {},
   "outputs": [],
   "source": [
    "input_train = tokenizer.texts_to_sequences(train[\"text\"].values)\n",
    "input_test = tokenizer.texts_to_sequences(test[\"text\"].values)"
   ]
  },
  {
   "cell_type": "code",
   "execution_count": 10,
   "metadata": {},
   "outputs": [],
   "source": [
    "input_train = pad_sequences(input_train, padding='post', maxlen=maxlen)\n",
    "input_test = pad_sequences(input_test, padding='post', maxlen=maxlen)"
   ]
  },
  {
   "cell_type": "code",
   "execution_count": 11,
   "metadata": {},
   "outputs": [],
   "source": [
    "output_train = train[\"moral_saliency\"]\n",
    "output_test = test[\"moral_saliency\"]"
   ]
  },
  {
   "cell_type": "code",
   "execution_count": 12,
   "metadata": {},
   "outputs": [
    {
     "name": "stdout",
     "output_type": "stream",
     "text": [
      "_________________________________________________________________\n",
      "Layer (type)                 Output Shape              Param #   \n",
      "=================================================================\n",
      "embedding (Embedding)        (None, 64, 200)           61876400  \n",
      "_________________________________________________________________\n",
      "conv1d (Conv1D)              (None, 61, 32)            25632     \n",
      "_________________________________________________________________\n",
      "global_max_pooling1d (Global (None, 32)                0         \n",
      "_________________________________________________________________\n",
      "dense (Dense)                (None, 32)                1056      \n",
      "_________________________________________________________________\n",
      "dropout (Dropout)            (None, 32)                0         \n",
      "_________________________________________________________________\n",
      "dense_1 (Dense)              (None, 1)                 33        \n",
      "=================================================================\n",
      "Total params: 61,903,121\n",
      "Trainable params: 26,721\n",
      "Non-trainable params: 61,876,400\n",
      "_________________________________________________________________\n"
     ]
    }
   ],
   "source": [
    "# Create a new model\n",
    "msa_cnn_model = keras.Sequential()\n",
    "msa_cnn_model.add(keras.layers.Embedding(vocab_size, embedding_dim, \n",
    "                           weights=[embedding_matrix], \n",
    "                           input_length=maxlen, \n",
    "                           trainable=False))\n",
    "msa_cnn_model.add(keras.layers.Conv1D(filters=32, kernel_size=4))\n",
    "msa_cnn_model.add(keras.layers.GlobalMaxPool1D())\n",
    "msa_cnn_model.add(keras.layers.Dense(32, activation='relu'))\n",
    "msa_cnn_model.add(keras.layers.Dropout(0.5))\n",
    "msa_cnn_model.add(keras.layers.Dense(1, activation='sigmoid'))\n",
    "msa_cnn_model.compile(optimizer='adam',\n",
    "                loss='binary_crossentropy',\n",
    "                metrics=[\"accuracy\", recall])\n",
    "msa_cnn_model.summary()"
   ]
  },
  {
   "cell_type": "code",
   "execution_count": 13,
   "metadata": {},
   "outputs": [
    {
     "name": "stdout",
     "output_type": "stream",
     "text": [
      "Train on 120 samples, validate on 30 samples\n",
      "Epoch 1/16\n",
      "120/120 [==============================] - 1s 10ms/step - loss: 0.7776 - acc: 0.4167 - recall: 0.5433 - val_loss: 0.8209 - val_acc: 0.3000 - val_recall: 0.8000\n",
      "Epoch 2/16\n",
      "120/120 [==============================] - 0s 756us/step - loss: 0.6052 - acc: 0.6083 - recall: 0.8311 - val_loss: 0.5889 - val_acc: 0.8000 - val_recall: 0.8000\n",
      "Epoch 3/16\n",
      "120/120 [==============================] - 0s 696us/step - loss: 0.4994 - acc: 0.7083 - recall: 0.7389 - val_loss: 0.5380 - val_acc: 0.8667 - val_recall: 0.8000\n",
      "Epoch 4/16\n",
      "120/120 [==============================] - 0s 635us/step - loss: 0.3876 - acc: 0.7917 - recall: 0.9111 - val_loss: 0.4686 - val_acc: 0.9000 - val_recall: 0.8000\n",
      "Epoch 5/16\n",
      "120/120 [==============================] - 0s 752us/step - loss: 0.3340 - acc: 0.8917 - recall: 0.8867 - val_loss: 0.3342 - val_acc: 0.9667 - val_recall: 0.8000\n",
      "Epoch 6/16\n",
      "120/120 [==============================] - 0s 657us/step - loss: 0.2497 - acc: 0.9833 - recall: 0.9667 - val_loss: 0.3225 - val_acc: 0.9667 - val_recall: 0.8000\n",
      "Epoch 7/16\n",
      "120/120 [==============================] - 0s 639us/step - loss: 0.2080 - acc: 0.9417 - recall: 0.9667 - val_loss: 0.2498 - val_acc: 0.9667 - val_recall: 0.8000\n",
      "Epoch 8/16\n",
      "120/120 [==============================] - 0s 647us/step - loss: 0.1458 - acc: 0.9750 - recall: 0.9500 - val_loss: 0.2103 - val_acc: 0.9333 - val_recall: 0.7556\n",
      "Epoch 9/16\n",
      "120/120 [==============================] - 0s 653us/step - loss: 0.1373 - acc: 0.9667 - recall: 0.9167 - val_loss: 0.1941 - val_acc: 0.9667 - val_recall: 0.8000\n",
      "Epoch 10/16\n",
      "120/120 [==============================] - 0s 647us/step - loss: 0.0974 - acc: 1.0000 - recall: 0.9333 - val_loss: 0.1834 - val_acc: 0.9667 - val_recall: 0.8000\n",
      "Epoch 11/16\n",
      "120/120 [==============================] - 0s 654us/step - loss: 0.0970 - acc: 0.9917 - recall: 1.0000 - val_loss: 0.1573 - val_acc: 0.9667 - val_recall: 0.7556\n",
      "Epoch 12/16\n",
      "120/120 [==============================] - 0s 668us/step - loss: 0.0694 - acc: 0.9917 - recall: 0.9778 - val_loss: 0.1381 - val_acc: 0.9667 - val_recall: 0.8000\n",
      "Epoch 13/16\n",
      "120/120 [==============================] - 0s 665us/step - loss: 0.0428 - acc: 1.0000 - recall: 1.0000 - val_loss: 0.1268 - val_acc: 0.9667 - val_recall: 0.8000\n",
      "Epoch 14/16\n",
      "120/120 [==============================] - 0s 677us/step - loss: 0.0482 - acc: 1.0000 - recall: 0.8667 - val_loss: 0.1222 - val_acc: 0.9667 - val_recall: 0.8000\n",
      "Epoch 15/16\n",
      "120/120 [==============================] - 0s 640us/step - loss: 0.0451 - acc: 1.0000 - recall: 1.0000 - val_loss: 0.1106 - val_acc: 0.9667 - val_recall: 0.8000\n",
      "Epoch 16/16\n",
      "120/120 [==============================] - 0s 688us/step - loss: 0.0395 - acc: 1.0000 - recall: 1.0000 - val_loss: 0.1033 - val_acc: 0.9667 - val_recall: 0.8000\n",
      "Testing Accuracy:  0.9667\n",
      "Testing Recall:  1.0000\n"
     ]
    }
   ],
   "source": [
    "history = msa_cnn_model.fit(input_train, output_train,\n",
    "                    epochs=16,\n",
    "                    verbose=1,\n",
    "                    validation_data=(input_test, output_test),\n",
    "                    batch_size=8,\n",
    "                    class_weight={1: 4, 0: 1})\n",
    "loss, accuracy, recall = msa_cnn_model.evaluate(input_test, output_test, verbose=False)\n",
    "print(\"Testing Accuracy:  {:.4f}\".format(accuracy))\n",
    "print(\"Testing Recall:  {:.4f}\".format(recall))"
   ]
  },
  {
   "cell_type": "code",
   "execution_count": 17,
   "metadata": {},
   "outputs": [
    {
     "name": "stdout",
     "output_type": "stream",
     "text": [
      "WARNING:tensorflow:This model was compiled with a Keras optimizer (<tensorflow.python.keras.optimizers.Adam object at 0xb3697df28>) but is being saved in TensorFlow format with `save_weights`. The model's weights will be saved, but unlike with TensorFlow optimizers in the TensorFlow format the optimizer's state will not be saved.\n",
      "\n",
      "Consider using a TensorFlow optimizer from `tf.train`.\n",
      "Saved model to data/models/MSA_cnn_model.json\n"
     ]
    }
   ],
   "source": [
    "save_model(msa_cnn_model, model_path=\"data/models/msa_model.json\", weights_path=\"data/models/msa_weights.hdf\")"
   ]
  },
  {
   "cell_type": "code",
   "execution_count": 14,
   "metadata": {},
   "outputs": [
    {
     "data": {
      "image/png": "[encoded data removed]",
      "text/plain": [
       "<Figure size 432x288 with 1 Axes>"
      ]
     },
     "metadata": {},
     "output_type": "display_data"
    }
   ],
   "source": [
    "acc = history.history[\"acc\"]\n",
    "val_acc = history.history[\"val_acc\"]\n",
    "plt.style.use(\"ggplot\")\n",
    "plt.plot(acc, color=(0.1, 0.2, 0.6, 0.6), label=\"train acc\", lw=3)\n",
    "plt.plot(val_acc, color=(0.1, 0.6, 0.2, 0.6), label=\"validation acc\", lw=3)\n",
    "plt.suptitle(\"MSA Training Accuracy\\n\\n\", fontsize=16, y=1.05)\n",
    "plt.title(\"CNN, No Dropout, 80k train, 20k val\", y=1.01)\n",
    "plt.legend()\n",
    "plt.savefig(\"graphs/GSA-CNN-ND.png\")\n",
    "plt.show()"
   ]
  },
  {
   "cell_type": "code",
   "execution_count": 15,
   "metadata": {},
   "outputs": [
    {
     "data": {
      "image/png": "[encoded data removed]",
      "text/plain": [
       "<Figure size 432x288 with 1 Axes>"
      ]
     },
     "metadata": {},
     "output_type": "display_data"
    }
   ],
   "source": [
    "acc = history.history[\"recall\"]\n",
    "val_acc = history.history[\"val_recall\"]\n",
    "plt.style.use(\"ggplot\")\n",
    "plt.plot(acc, color=(0.1, 0.2, 0.6, 0.6), label=\"train recall\", lw=3)\n",
    "plt.plot(val_acc, color=(0.1, 0.6, 0.2, 0.6), label=\"validation recall\", lw=3)\n",
    "plt.suptitle(\"MSA Training Accuracy\\n\\n\", fontsize=16, y=1.05)\n",
    "plt.title(\"CNN, No Dropout, 80k train, 20k val\", y=1.01)\n",
    "plt.legend()\n",
    "plt.savefig(\"graphs/GSA-CNN-ND.png\")\n",
    "plt.show()"
   ]
  },
  {
   "cell_type": "code",
   "execution_count": 51,
   "metadata": {},
   "outputs": [
    {
     "data": {
      "text/html": [
       "<div>\n",
       "<style scoped>\n",
       "    .dataframe tbody tr th:only-of-type {\n",
       "        vertical-align: middle;\n",
       "    }\n",
       "\n",
       "    .dataframe tbody tr th {\n",
       "        vertical-align: top;\n",
       "    }\n",
       "\n",
       "    .dataframe thead th {\n",
       "        text-align: right;\n",
       "    }\n",
       "</style>\n",
       "<table border=\"1\" class=\"dataframe\">\n",
       "  <thead>\n",
       "    <tr style=\"text-align: right;\">\n",
       "      <th></th>\n",
       "      <th>text</th>\n",
       "      <th>moral_saliency</th>\n",
       "      <th>moral_intrinsicality</th>\n",
       "      <th>notes</th>\n",
       "    </tr>\n",
       "  </thead>\n",
       "  <tbody>\n",
       "    <tr>\n",
       "      <th>0</th>\n",
       "      <td>The most ethical course of action is the one t...</td>\n",
       "      <td>1</td>\n",
       "      <td>3</td>\n",
       "      <td>Consequentialism (utilitarianism); colloquial</td>\n",
       "    </tr>\n",
       "    <tr>\n",
       "      <th>1</th>\n",
       "      <td>Results of actions don't matter as much as the...</td>\n",
       "      <td>1</td>\n",
       "      <td>3</td>\n",
       "      <td>Deontology; colloquial</td>\n",
       "    </tr>\n",
       "    <tr>\n",
       "      <th>2</th>\n",
       "      <td>Morality is about becoming the right kind of p...</td>\n",
       "      <td>1</td>\n",
       "      <td>3</td>\n",
       "      <td>Virtue Ethics; colloquial</td>\n",
       "    </tr>\n",
       "    <tr>\n",
       "      <th>3</th>\n",
       "      <td>Act only according to that maxim whereby you c...</td>\n",
       "      <td>1</td>\n",
       "      <td>3</td>\n",
       "      <td>Deontology; Immanuel Kant, Groundwork of Metap...</td>\n",
       "    </tr>\n",
       "    <tr>\n",
       "      <th>4</th>\n",
       "      <td>The said truth is that it is the greatest happ...</td>\n",
       "      <td>1</td>\n",
       "      <td>3</td>\n",
       "      <td>Consequentialism (utilitarianism); Jeremy Bent...</td>\n",
       "    </tr>\n",
       "  </tbody>\n",
       "</table>\n",
       "</div>"
      ],
      "text/plain": [
       "                                                text  moral_saliency  \\\n",
       "0  The most ethical course of action is the one t...               1   \n",
       "1  Results of actions don't matter as much as the...               1   \n",
       "2  Morality is about becoming the right kind of p...               1   \n",
       "3  Act only according to that maxim whereby you c...               1   \n",
       "4  The said truth is that it is the greatest happ...               1   \n",
       "\n",
       "   moral_intrinsicality                                              notes  \n",
       "0                     3      Consequentialism (utilitarianism); colloquial  \n",
       "1                     3                             Deontology; colloquial  \n",
       "2                     3                          Virtue Ethics; colloquial  \n",
       "3                     3  Deontology; Immanuel Kant, Groundwork of Metap...  \n",
       "4                     3  Consequentialism (utilitarianism); Jeremy Bent...  "
      ]
     },
     "execution_count": 51,
     "metadata": {},
     "output_type": "execute_result"
    }
   ],
   "source": [
    "test_set = pd.read_csv(\"data/training_data/moral_test_set.csv\")\n",
    "test_set.head()"
   ]
  },
  {
   "cell_type": "code",
   "execution_count": 53,
   "metadata": {},
   "outputs": [
    {
     "name": "stdout",
     "output_type": "stream",
     "text": [
      "text                    The most ethical course of action is the one t...\n",
      "moral_saliency                                                          1\n",
      "moral_intrinsicality                                                    3\n",
      "notes                       Consequentialism (utilitarianism); colloquial\n",
      "Name: 0, dtype: object\n",
      "text                    Results of actions don't matter as much as the...\n",
      "moral_saliency                                                          1\n",
      "moral_intrinsicality                                                    3\n",
      "notes                                              Deontology; colloquial\n",
      "Name: 1, dtype: object\n",
      "text                    Morality is about becoming the right kind of p...\n",
      "moral_saliency                                                          1\n",
      "moral_intrinsicality                                                    3\n",
      "notes                                           Virtue Ethics; colloquial\n",
      "Name: 2, dtype: object\n",
      "text                    Act only according to that maxim whereby you c...\n",
      "moral_saliency                                                          1\n",
      "moral_intrinsicality                                                    3\n",
      "notes                   Deontology; Immanuel Kant, Groundwork of Metap...\n",
      "Name: 3, dtype: object\n",
      "text                    The said truth is that it is the greatest happ...\n",
      "moral_saliency                                                          1\n",
      "moral_intrinsicality                                                    3\n",
      "notes                   Consequentialism (utilitarianism); Jeremy Bent...\n",
      "Name: 4, dtype: object\n",
      "text                    We are what we repeatedly do. Excellence, then...\n",
      "moral_saliency                                                          1\n",
      "moral_intrinsicality                                                    3\n",
      "notes                       Virtue Ethics; Not Aristotle but close enough\n",
      "Name: 5, dtype: object\n",
      "text                    Although it can be very difficult to determine...\n",
      "moral_saliency                                                          1\n",
      "moral_intrinsicality                                                    2\n",
      "notes                                             Long positive test case\n",
      "Name: 12, dtype: object\n",
      "text                    I don't know what was going through Elizabeth ...\n",
      "moral_saliency                                                          1\n",
      "moral_intrinsicality                                                    1\n",
      "notes                                             Long positive test case\n",
      "Name: 13, dtype: object\n",
      "text                    pEeple who eat meet are MURDERS n they deserve...\n",
      "moral_saliency                                                          1\n",
      "moral_intrinsicality                                                    1\n",
      "notes                                            Messy positive test case\n",
      "Name: 20, dtype: object\n",
      "text                    Capitlism isa terible system that hurts pour p...\n",
      "moral_saliency                                                          1\n",
      "moral_intrinsicality                                                    2\n",
      "notes                                            Messy positive test case\n",
      "Name: 21, dtype: object\n",
      "\n",
      "\n",
      "\n",
      "Accuracy:  0.75\n",
      "Recall:  0.2857142857142857\n"
     ]
    }
   ],
   "source": [
    "count = 0\n",
    "wrong = 0\n",
    "count_pos = 0\n",
    "wrong_pos = 0\n",
    "for index, row in test_set.iterrows():\n",
    "    count += 1\n",
    "    text_sequence = tokenizer.texts_to_sequences([row[\"text\"]])\n",
    "    padded_text_sequence = pad_sequences(text_sequence, padding='post', maxlen=maxlen)\n",
    "    result = msa_cnn_model.predict(padded_text_sequence)\n",
    "    if row[\"moral_saliency\"] == 1:\n",
    "        count_pos += 1\n",
    "    if np.round(result) != row[\"moral_saliency\"]:\n",
    "        wrong += 1\n",
    "        if row[\"moral_saliency\"] == 1:\n",
    "            wrong_pos += 1\n",
    "        print(row)\n",
    "print(\"\\n\\n\")\n",
    "print(\"Accuracy: \", (count - wrong) / count)\n",
    "print(\"Recall: \", (count_pos - wrong_pos) / count_pos)"
   ]
  },
  {
   "cell_type": "code",
   "execution_count": 77,
   "metadata": {},
   "outputs": [
    {
     "name": "stdout",
     "output_type": "stream",
     "text": [
      "[[0.57233083]]\n",
      "MORAL\n"
     ]
    }
   ],
   "source": [
    "text = \"profit is more important than equality\"\n",
    "text_sequence = tokenizer.texts_to_sequences([text])\n",
    "padded_text_sequence = pad_sequences(text_sequence, padding='post', maxlen=maxlen)\n",
    "result = model.predict(padded_text_sequence)\n",
    "print(result)\n",
    "if result[0][0] > 0.5:\n",
    "    print(\"MORAL\")\n",
    "else:\n",
    "    print(\"NOT MORAL\")"
   ]
  },
  {
   "cell_type": "code",
   "execution_count": null,
   "metadata": {},
   "outputs": [],
   "source": [
    "save_model(model)"
   ]
  }
 ],
 "metadata": {
  "kernelspec": {
   "display_name": "Python 3",
   "language": "python",
   "name": "python3"
  },
  "language_info": {
   "codemirror_mode": {
    "name": "ipython",
    "version": 3
   },
   "file_extension": ".py",
   "mimetype": "text/x-python",
   "name": "python",
   "nbconvert_exporter": "python",
   "pygments_lexer": "ipython3",
   "version": "3.6.8"
  }
 },
 "nbformat": 4,
 "nbformat_minor": 2
}
