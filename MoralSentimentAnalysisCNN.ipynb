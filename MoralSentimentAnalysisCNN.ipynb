{
 "cells": [
  {
   "cell_type": "code",
   "execution_count": 1,
   "metadata": {},
   "outputs": [
    {
     "name": "stderr",
     "output_type": "stream",
     "text": [
      "Using TensorFlow backend.\n"
     ]
    }
   ],
   "source": [
    "import matplotlib.pyplot as plt\n",
    "import numpy as np\n",
    "import os\n",
    "import pandas as pd\n",
    "import pickle\n",
    "import spacy\n",
    "import tensorflow as tf\n",
    "\n",
    "from tensorflow import keras\n",
    "from keras.preprocessing.text import Tokenizer\n",
    "from keras.preprocessing.sequence import pad_sequences\n",
    "\n",
    "os.environ['KMP_DUPLICATE_LIB_OK']='True'"
   ]
  },
  {
   "cell_type": "code",
   "execution_count": 2,
   "metadata": {},
   "outputs": [],
   "source": [
    "embedding_dim = 50\n",
    "maxlen = 64"
   ]
  },
  {
   "cell_type": "code",
   "execution_count": 37,
   "metadata": {},
   "outputs": [],
   "source": [
    "def save_model(model, model_path=\"models/MSA_cnn_model.json\", weights_path=\"models/MSA_cnn_model.hdf\"):\n",
    "    # serialize model to JSON\n",
    "    model_json = model.to_json()\n",
    "    with open(model_path, \"w\") as json_file:\n",
    "        json_file.write(model_json)\n",
    "    # serialize weights to HDF5\n",
    "    model.save_weights(weights_path)\n",
    "    print(\"Saved model to models/MSA_cnn_model.json\")"
   ]
  },
  {
   "cell_type": "code",
   "execution_count": 38,
   "metadata": {},
   "outputs": [
    {
     "name": "stdout",
     "output_type": "stream",
     "text": [
      "loaded tokenizer from models/tokenizer.pickle\n"
     ]
    }
   ],
   "source": [
    "with open('models/tokenizer.pickle', 'rb') as handle:\n",
    "    tokenizer = pickle.load(handle)\n",
    "print(\"loaded tokenizer from models/tokenizer.pickle\")\n",
    "vocab_size = len(tokenizer.word_index) + 1"
   ]
  },
  {
   "cell_type": "code",
   "execution_count": 39,
   "metadata": {},
   "outputs": [
    {
     "data": {
      "text/html": [
       "<div>\n",
       "<style scoped>\n",
       "    .dataframe tbody tr th:only-of-type {\n",
       "        vertical-align: middle;\n",
       "    }\n",
       "\n",
       "    .dataframe tbody tr th {\n",
       "        vertical-align: top;\n",
       "    }\n",
       "\n",
       "    .dataframe thead th {\n",
       "        text-align: right;\n",
       "    }\n",
       "</style>\n",
       "<table border=\"1\" class=\"dataframe\">\n",
       "  <thead>\n",
       "    <tr style=\"text-align: right;\">\n",
       "      <th></th>\n",
       "      <th>text</th>\n",
       "      <th>moral_saliency</th>\n",
       "      <th>moral_intrinsicality</th>\n",
       "      <th>notes</th>\n",
       "    </tr>\n",
       "  </thead>\n",
       "  <tbody>\n",
       "    <tr>\n",
       "      <th>0</th>\n",
       "      <td>All human beings have inherent worth.</td>\n",
       "      <td>1</td>\n",
       "      <td>3</td>\n",
       "      <td>NaN</td>\n",
       "    </tr>\n",
       "    <tr>\n",
       "      <th>1</th>\n",
       "      <td>It's wrong to exploit people you have power over.</td>\n",
       "      <td>1</td>\n",
       "      <td>2</td>\n",
       "      <td>NaN</td>\n",
       "    </tr>\n",
       "    <tr>\n",
       "      <th>2</th>\n",
       "      <td>Jeff Bezos is an evil man.</td>\n",
       "      <td>1</td>\n",
       "      <td>1</td>\n",
       "      <td>NaN</td>\n",
       "    </tr>\n",
       "    <tr>\n",
       "      <th>3</th>\n",
       "      <td>Human beings have a brain that resides in thei...</td>\n",
       "      <td>0</td>\n",
       "      <td>0</td>\n",
       "      <td>NaN</td>\n",
       "    </tr>\n",
       "    <tr>\n",
       "      <th>4</th>\n",
       "      <td>It's incorrect to assume that one plus one is ...</td>\n",
       "      <td>0</td>\n",
       "      <td>0</td>\n",
       "      <td>NaN</td>\n",
       "    </tr>\n",
       "  </tbody>\n",
       "</table>\n",
       "</div>"
      ],
      "text/plain": [
       "                                                text  moral_saliency  \\\n",
       "0              All human beings have inherent worth.               1   \n",
       "1  It's wrong to exploit people you have power over.               1   \n",
       "2                         Jeff Bezos is an evil man.               1   \n",
       "3  Human beings have a brain that resides in thei...               0   \n",
       "4  It's incorrect to assume that one plus one is ...               0   \n",
       "\n",
       "   moral_intrinsicality notes  \n",
       "0                     3   NaN  \n",
       "1                     2   NaN  \n",
       "2                     1   NaN  \n",
       "3                     0   NaN  \n",
       "4                     0   NaN  "
      ]
     },
     "execution_count": 39,
     "metadata": {},
     "output_type": "execute_result"
    }
   ],
   "source": [
    "training_df = pd.read_csv('data/moral_samples.csv')\n",
    "training_df.head()"
   ]
  },
  {
   "cell_type": "code",
   "execution_count": 89,
   "metadata": {},
   "outputs": [
    {
     "name": "stdout",
     "output_type": "stream",
     "text": [
      "train len:  80\n",
      "test len:  20\n"
     ]
    }
   ],
   "source": [
    "train = training_df.sample(frac=0.8)\n",
    "test = training_df.drop(train.index)\n",
    "print(\"train len: \", len(train))\n",
    "print(\"test len: \", len(test))"
   ]
  },
  {
   "cell_type": "code",
   "execution_count": 90,
   "metadata": {},
   "outputs": [],
   "source": [
    "input_train = tokenizer.texts_to_sequences(train[\"text\"].values)\n",
    "input_test = tokenizer.texts_to_sequences(test[\"text\"].values)"
   ]
  },
  {
   "cell_type": "code",
   "execution_count": 91,
   "metadata": {},
   "outputs": [],
   "source": [
    "input_train = pad_sequences(input_train, padding='post', maxlen=maxlen)\n",
    "input_test = pad_sequences(input_test, padding='post', maxlen=maxlen)"
   ]
  },
  {
   "cell_type": "code",
   "execution_count": 92,
   "metadata": {},
   "outputs": [],
   "source": [
    "output_train = train[\"moral_saliency\"]\n",
    "output_test = test[\"moral_saliency\"]"
   ]
  },
  {
   "cell_type": "code",
   "execution_count": 93,
   "metadata": {},
   "outputs": [
    {
     "name": "stdout",
     "output_type": "stream",
     "text": [
      "Loaded model from disk\n"
     ]
    }
   ],
   "source": [
    "# load json and create model\n",
    "json_file = open(\"models/sentiment_analysis_cnn_model.json\", 'r')\n",
    "loaded_model_json = json_file.read()\n",
    "json_file.close()\n",
    "gsa_model = keras.models.model_from_json(loaded_model_json)\n",
    "# load weights into new model\n",
    "gsa_model.load_weights(\"models/sentiment_analysis_cnn_model.hdf\")\n",
    "print(\"Loaded model from disk\")"
   ]
  },
  {
   "cell_type": "code",
   "execution_count": 45,
   "metadata": {},
   "outputs": [
    {
     "name": "stdout",
     "output_type": "stream",
     "text": [
      "_________________________________________________________________\n",
      "Layer (type)                 Output Shape              Param #   \n",
      "=================================================================\n",
      "embedding_5 (Embedding)      (None, 64, 50)            15469100  \n",
      "_________________________________________________________________\n",
      "conv1d_5 (Conv1D)            (None, 61, 32)            6432      \n",
      "_________________________________________________________________\n",
      "global_max_pooling1d_4 (Glob (None, 32)                0         \n",
      "_________________________________________________________________\n",
      "dropout_3 (Dropout)          (None, 32)                0         \n",
      "_________________________________________________________________\n",
      "dense_8 (Dense)              (None, 16)                528       \n",
      "_________________________________________________________________\n",
      "dropout_4 (Dropout)          (None, 16)                0         \n",
      "_________________________________________________________________\n",
      "dense_9 (Dense)              (None, 1)                 17        \n",
      "=================================================================\n",
      "Total params: 15,476,077\n",
      "Trainable params: 15,476,077\n",
      "Non-trainable params: 0\n",
      "_________________________________________________________________\n"
     ]
    }
   ],
   "source": [
    "gsa_model.summary()"
   ]
  },
  {
   "cell_type": "code",
   "execution_count": 46,
   "metadata": {},
   "outputs": [
    {
     "name": "stdout",
     "output_type": "stream",
     "text": [
      "_________________________________________________________________\n",
      "Layer (type)                 Output Shape              Param #   \n",
      "=================================================================\n",
      "embedding_5_input (InputLaye (None, 64)                0         \n",
      "_________________________________________________________________\n",
      "embedding_5 (Embedding)      (None, 64, 50)            15469100  \n",
      "_________________________________________________________________\n",
      "conv1d_5 (Conv1D)            (None, 61, 32)            6432      \n",
      "_________________________________________________________________\n",
      "global_max_pooling1d_4 (Glob (None, 32)                0         \n",
      "_________________________________________________________________\n",
      "dropout_3 (Dropout)          (None, 32)                0         \n",
      "_________________________________________________________________\n",
      "dense_8 (Dense)              (None, 16)                528       \n",
      "_________________________________________________________________\n",
      "dropout_4 (Dropout)          (None, 16)                0         \n",
      "=================================================================\n",
      "Total params: 15,476,060\n",
      "Trainable params: 0\n",
      "Non-trainable params: 15,476,060\n",
      "_________________________________________________________________\n"
     ]
    }
   ],
   "source": [
    "clipped_gsa_model = keras.Model(gsa_model.input, gsa_model.layers[-2].output)\n",
    "for layer in clipped_gsa_model.layers:\n",
    "    layer.trainable = False\n",
    "clipped_gsa_model.summary()"
   ]
  },
  {
   "cell_type": "code",
   "execution_count": 47,
   "metadata": {},
   "outputs": [
    {
     "name": "stdout",
     "output_type": "stream",
     "text": [
      "_________________________________________________________________\n",
      "Layer (type)                 Output Shape              Param #   \n",
      "=================================================================\n",
      "model_6 (Model)              (None, 16)                15476060  \n",
      "_________________________________________________________________\n",
      "dense_3 (Dense)              (None, 1)                 17        \n",
      "=================================================================\n",
      "Total params: 15,476,077\n",
      "Trainable params: 17\n",
      "Non-trainable params: 15,476,060\n",
      "_________________________________________________________________\n"
     ]
    }
   ],
   "source": [
    "model = keras.Sequential()\n",
    "model.add(clipped_gsa_model)\n",
    "model.add(keras.layers.Dense(1, activation='sigmoid'))\n",
    "model.summary()"
   ]
  },
  {
   "cell_type": "code",
   "execution_count": 48,
   "metadata": {},
   "outputs": [],
   "source": [
    "model.compile(optimizer='adam',\n",
    "                loss='binary_crossentropy',\n",
    "                metrics=['accuracy'])"
   ]
  },
  {
   "cell_type": "code",
   "execution_count": 94,
   "metadata": {},
   "outputs": [
    {
     "name": "stdout",
     "output_type": "stream",
     "text": [
      "Train on 80 samples, validate on 20 samples\n",
      "Epoch 1/16\n",
      "80/80 [==============================] - 0s 254us/step - loss: 0.7772 - acc: 0.5000 - val_loss: 0.8152 - val_acc: 0.4500\n",
      "Epoch 2/16\n",
      "80/80 [==============================] - 0s 215us/step - loss: 0.7448 - acc: 0.5125 - val_loss: 0.8080 - val_acc: 0.4500\n",
      "Epoch 3/16\n",
      "80/80 [==============================] - 0s 193us/step - loss: 0.7470 - acc: 0.5125 - val_loss: 0.7987 - val_acc: 0.4500\n",
      "Epoch 4/16\n",
      "80/80 [==============================] - 0s 289us/step - loss: 0.7584 - acc: 0.5125 - val_loss: 0.7870 - val_acc: 0.4500\n",
      "Epoch 5/16\n",
      "80/80 [==============================] - 0s 255us/step - loss: 0.7431 - acc: 0.5250 - val_loss: 0.7754 - val_acc: 0.4500\n",
      "Epoch 6/16\n",
      "80/80 [==============================] - 0s 326us/step - loss: 0.7514 - acc: 0.5250 - val_loss: 0.7625 - val_acc: 0.4500\n",
      "Epoch 7/16\n",
      "80/80 [==============================] - 0s 422us/step - loss: 0.7487 - acc: 0.5500 - val_loss: 0.7499 - val_acc: 0.4500\n",
      "Epoch 8/16\n",
      "80/80 [==============================] - 0s 362us/step - loss: 0.7397 - acc: 0.4750 - val_loss: 0.7393 - val_acc: 0.4500\n",
      "Epoch 9/16\n",
      "80/80 [==============================] - 0s 254us/step - loss: 0.7474 - acc: 0.5125 - val_loss: 0.7297 - val_acc: 0.4500\n",
      "Epoch 10/16\n",
      "80/80 [==============================] - 0s 247us/step - loss: 0.7087 - acc: 0.5250 - val_loss: 0.7195 - val_acc: 0.5000\n",
      "Epoch 11/16\n",
      "80/80 [==============================] - 0s 220us/step - loss: 0.7130 - acc: 0.5250 - val_loss: 0.7114 - val_acc: 0.5500\n",
      "Epoch 12/16\n",
      "80/80 [==============================] - 0s 239us/step - loss: 0.6827 - acc: 0.5500 - val_loss: 0.7044 - val_acc: 0.5500\n",
      "Epoch 13/16\n",
      "80/80 [==============================] - 0s 254us/step - loss: 0.7030 - acc: 0.5750 - val_loss: 0.6988 - val_acc: 0.5500\n",
      "Epoch 14/16\n",
      "80/80 [==============================] - 0s 239us/step - loss: 0.7085 - acc: 0.5375 - val_loss: 0.6929 - val_acc: 0.5500\n",
      "Epoch 15/16\n",
      "80/80 [==============================] - 0s 253us/step - loss: 0.7058 - acc: 0.5750 - val_loss: 0.6881 - val_acc: 0.5500\n",
      "Epoch 16/16\n",
      "80/80 [==============================] - 0s 237us/step - loss: 0.6897 - acc: 0.5375 - val_loss: 0.6833 - val_acc: 0.5500\n",
      "Testing Accuracy:  0.5500\n",
      "WARNING:tensorflow:This model was compiled with a Keras optimizer (<tensorflow.python.keras.optimizers.Adam object at 0xb3b9eabe0>) but is being saved in TensorFlow format with `save_weights`. The model's weights will be saved, but unlike with TensorFlow optimizers in the TensorFlow format the optimizer's state will not be saved.\n",
      "\n",
      "Consider using a TensorFlow optimizer from `tf.train`.\n",
      "Saved model to models/MSA_cnn_model.json\n"
     ]
    }
   ],
   "source": [
    "history = model.fit(input_train, output_train,\n",
    "                    epochs=16,\n",
    "                    verbose=True,\n",
    "                    validation_data=(input_test, output_test),\n",
    "                    batch_size=32)\n",
    "loss, accuracy = model.evaluate(input_test, output_test, verbose=False)\n",
    "print(\"Testing Accuracy:  {:.4f}\".format(accuracy))\n",
    "save_model(model)"
   ]
  },
  {
   "cell_type": "code",
   "execution_count": 50,
   "metadata": {},
   "outputs": [
    {
     "data": {
      "image/png": "[encoded data removed]",
      "text/plain": [
       "<Figure size 432x288 with 1 Axes>"
      ]
     },
     "metadata": {},
     "output_type": "display_data"
    }
   ],
   "source": [
    "acc = history.history[\"acc\"]\n",
    "val_acc = history.history[\"val_acc\"]\n",
    "plt.style.use(\"ggplot\")\n",
    "plt.plot(acc, color=(0.1, 0.2, 0.6, 0.6), label=\"train acc\", lw=3)\n",
    "plt.plot(val_acc, color=(0.1, 0.6, 0.2, 0.6), label=\"validation acc\", lw=3)\n",
    "plt.suptitle(\"GSA Training Accuracy\\n\\n\", fontsize=16, y=1.05)\n",
    "plt.title(\"CNN, No Dropout, 80k train, 20k val\", y=1.01)\n",
    "plt.legend()\n",
    "plt.savefig(\"graphs/GSA-CNN-ND.png\")\n",
    "plt.show()"
   ]
  },
  {
   "cell_type": "code",
   "execution_count": 61,
   "metadata": {},
   "outputs": [],
   "source": [
    "from nlutil.nlutil import quick_corpus\n",
    "from random import randint"
   ]
  },
  {
   "cell_type": "code",
   "execution_count": 76,
   "metadata": {},
   "outputs": [
    {
     "name": "stdout",
     "output_type": "stream",
     "text": [
      "Downloading Forensic science:                        DONE\n",
      "Downloading Science and technology:                  DONE\n",
      "Downloading Natural science:                         DONE\n",
      "Downloading Science:                                 DONE\n",
      "Downloading Biomedical sciences:                     DONE\n",
      "Downloading Data science:                            DONE\n",
      "Note: because Science (disambiguation) was a disambiguation page, we're not adding it to the corpus, and trying Mathematical sciences instead.\n",
      "Downloading International Science Olympiad:          DONE\n",
      "Downloading Science (journal):                       DONE\n",
      "Downloading Web of Science:                          DONE\n",
      "Downloading Science fantasy:                         DONE\n",
      "Downloading Science fiction:                         DONE\n",
      "Downloading Pseudoscience:                           DONE\n",
      "Downloading Mathematical sciences:                   DONE\n",
      "Downloading Master of Science:                       DONE\n",
      "Downloading Bachelor of Science:                     DONE\n",
      "Downloading List of atheists in science and technology: DONE\n",
      "Note: because Rocket science was a disambiguation page, we're not adding it to the corpus, and trying Science fair instead.\n",
      "Downloading Political science:                       DONE\n",
      "Downloading Food science:                            DONE\n",
      "Downloading Social science:                          DONE\n",
      "Downloading Science fair:                            DONE\n"
     ]
    }
   ],
   "source": [
    "science = quick_corpus(\"science\", results=20)"
   ]
  },
  {
   "cell_type": "code",
   "execution_count": 78,
   "metadata": {},
   "outputs": [
    {
     "name": "stdout",
     "output_type": "stream",
     "text": [
      "Downloading Religion:                                DONE\n",
      "Downloading Germanic paganism:                       DONE\n",
      "Downloading Hinduism:                                DONE\n",
      "Downloading Growth of religion:                      DONE\n",
      "Downloading Religion in India:                       DONE\n",
      "Downloading List of religions and spiritual traditions: DONE\n",
      "Downloading Scientology:                             DONE\n",
      "Downloading Religion in Japan:                       DONE\n",
      "Downloading Religion in China:                       DONE\n",
      "Downloading Irreligion:                              DONE\n",
      "Downloading State religion:                          DONE\n",
      "Downloading Ethnic religion:                         DONE\n",
      "Downloading Hellenism (religion):                    DONE\n",
      "Note: because No religion was a disambiguation page, we're not adding it to the corpus, and trying Timeline of religion instead.\n",
      "Note: because No religion was a disambiguation page, we're not adding it to the corpus, and trying Religion in Africa instead.\n",
      "Downloading Bad Religion:                            DONE\n",
      "Downloading Religion in the United States:           DONE\n",
      "Downloading Abrahamic religions:                     DONE\n",
      "Downloading Islam:                                   DONE\n",
      "Downloading Timeline of religion:                    DONE\n",
      "Downloading Freedom of religion:                     DONE\n",
      "Downloading Religion in the United Kingdom:          DONE\n",
      "Downloading Religion in Africa:                      DONE\n"
     ]
    }
   ],
   "source": [
    "religion = quick_corpus(\"religion\", results=20)"
   ]
  },
  {
   "cell_type": "code",
   "execution_count": 79,
   "metadata": {},
   "outputs": [],
   "source": [
    "data = {\"text\": [], \"topic\": []} # 0 for science, 1 for religion"
   ]
  },
  {
   "cell_type": "code",
   "execution_count": 80,
   "metadata": {},
   "outputs": [],
   "source": [
    "# add science data to dict\n",
    "counter = 0\n",
    "while counter < len(science):\n",
    "    sample_len = randint(6,20)\n",
    "    sample = \" \".join(science[counter:counter+sample_len])\n",
    "    counter += sample_len\n",
    "    data[\"text\"].append(sample)\n",
    "    data[\"topic\"].append(0)"
   ]
  },
  {
   "cell_type": "code",
   "execution_count": 81,
   "metadata": {},
   "outputs": [],
   "source": [
    "# add religion data to dict\n",
    "counter = 0\n",
    "while counter < len(religion):\n",
    "    sample_len = randint(6,20)\n",
    "    sample = \" \".join(religion[counter:counter+sample_len])\n",
    "    counter += sample_len\n",
    "    data[\"text\"].append(sample)\n",
    "    data[\"topic\"].append(1)"
   ]
  },
  {
   "cell_type": "code",
   "execution_count": 82,
   "metadata": {},
   "outputs": [],
   "source": [
    "sci_rel_df = pd.DataFrame(data).sample(frac=1)"
   ]
  },
  {
   "cell_type": "code",
   "execution_count": 83,
   "metadata": {},
   "outputs": [
    {
     "name": "stdout",
     "output_type": "stream",
     "text": [
      "15808\n"
     ]
    },
    {
     "data": {
      "text/html": [
       "<div>\n",
       "<style scoped>\n",
       "    .dataframe tbody tr th:only-of-type {\n",
       "        vertical-align: middle;\n",
       "    }\n",
       "\n",
       "    .dataframe tbody tr th {\n",
       "        vertical-align: top;\n",
       "    }\n",
       "\n",
       "    .dataframe thead th {\n",
       "        text-align: right;\n",
       "    }\n",
       "</style>\n",
       "<table border=\"1\" class=\"dataframe\">\n",
       "  <thead>\n",
       "    <tr style=\"text-align: right;\">\n",
       "      <th></th>\n",
       "      <th>text</th>\n",
       "      <th>topic</th>\n",
       "    </tr>\n",
       "  </thead>\n",
       "  <tbody>\n",
       "    <tr>\n",
       "      <th>15445</th>\n",
       "      <td>exiled in at the age of after the wars during ...</td>\n",
       "      <td>1</td>\n",
       "    </tr>\n",
       "    <tr>\n",
       "      <th>10549</th>\n",
       "      <td>faiths including jainism bahá í faith zoroastr...</td>\n",
       "      <td>1</td>\n",
       "    </tr>\n",
       "    <tr>\n",
       "      <th>13814</th>\n",
       "      <td>with a major observatory by the twentieth cent...</td>\n",
       "      <td>1</td>\n",
       "    </tr>\n",
       "    <tr>\n",
       "      <th>11068</th>\n",
       "      <td>folk religion have overlapping uses the latter...</td>\n",
       "      <td>1</td>\n",
       "    </tr>\n",
       "    <tr>\n",
       "      <th>2585</th>\n",
       "      <td>very little in the past two millennia see also...</td>\n",
       "      <td>0</td>\n",
       "    </tr>\n",
       "  </tbody>\n",
       "</table>\n",
       "</div>"
      ],
      "text/plain": [
       "                                                    text  topic\n",
       "15445  exiled in at the age of after the wars during ...      1\n",
       "10549  faiths including jainism bahá í faith zoroastr...      1\n",
       "13814  with a major observatory by the twentieth cent...      1\n",
       "11068  folk religion have overlapping uses the latter...      1\n",
       "2585   very little in the past two millennia see also...      0"
      ]
     },
     "execution_count": 83,
     "metadata": {},
     "output_type": "execute_result"
    }
   ],
   "source": [
    "print(len(sci_rel_df))\n",
    "sci_rel_df.head()"
   ]
  },
  {
   "cell_type": "code",
   "execution_count": 84,
   "metadata": {},
   "outputs": [
    {
     "name": "stdout",
     "output_type": "stream",
     "text": [
      "train len:  12646\n",
      "test len:  3162\n"
     ]
    }
   ],
   "source": [
    "train = sci_rel_df.sample(frac=0.8)\n",
    "test = sci_rel_df.drop(train.index)\n",
    "print(\"train len: \", len(train))\n",
    "print(\"test len: \", len(test))"
   ]
  },
  {
   "cell_type": "code",
   "execution_count": 85,
   "metadata": {},
   "outputs": [],
   "source": [
    "input_train = tokenizer.texts_to_sequences(train[\"text\"].values)\n",
    "input_test = tokenizer.texts_to_sequences(test[\"text\"].values)"
   ]
  },
  {
   "cell_type": "code",
   "execution_count": 86,
   "metadata": {},
   "outputs": [],
   "source": [
    "input_train = pad_sequences(input_train, padding='post', maxlen=maxlen)\n",
    "input_test = pad_sequences(input_test, padding='post', maxlen=maxlen)"
   ]
  },
  {
   "cell_type": "code",
   "execution_count": 87,
   "metadata": {},
   "outputs": [],
   "source": [
    "output_train = train[\"topic\"]\n",
    "output_test = test[\"topic\"]"
   ]
  },
  {
   "cell_type": "code",
   "execution_count": 88,
   "metadata": {},
   "outputs": [
    {
     "name": "stdout",
     "output_type": "stream",
     "text": [
      "Train on 12646 samples, validate on 3162 samples\n",
      "Epoch 1/16\n",
      "12646/12646 [==============================] - 2s 156us/step - loss: 0.5930 - acc: 0.7149 - val_loss: 0.5916 - val_acc: 0.7059\n",
      "Epoch 2/16\n",
      "12646/12646 [==============================] - 2s 153us/step - loss: 0.5898 - acc: 0.7140 - val_loss: 0.5909 - val_acc: 0.7059\n",
      "Epoch 3/16\n",
      "12646/12646 [==============================] - 2s 149us/step - loss: 0.5894 - acc: 0.7140 - val_loss: 0.5908 - val_acc: 0.7059\n",
      "Epoch 4/16\n",
      "12646/12646 [==============================] - 2s 149us/step - loss: 0.5914 - acc: 0.7133 - val_loss: 0.5914 - val_acc: 0.7059\n",
      "Epoch 5/16\n",
      "12646/12646 [==============================] - 2s 152us/step - loss: 0.5909 - acc: 0.7144 - val_loss: 0.5906 - val_acc: 0.7059\n",
      "Epoch 6/16\n",
      "12646/12646 [==============================] - 2s 154us/step - loss: 0.5928 - acc: 0.7141 - val_loss: 0.5923 - val_acc: 0.7059\n",
      "Epoch 7/16\n",
      "12646/12646 [==============================] - 2s 149us/step - loss: 0.5897 - acc: 0.7135 - val_loss: 0.5908 - val_acc: 0.7059\n",
      "Epoch 8/16\n",
      "12646/12646 [==============================] - 2s 150us/step - loss: 0.5908 - acc: 0.7145 - val_loss: 0.5911 - val_acc: 0.7059\n",
      "Epoch 9/16\n",
      "12646/12646 [==============================] - 2s 149us/step - loss: 0.5906 - acc: 0.7141 - val_loss: 0.5906 - val_acc: 0.7059\n",
      "Epoch 10/16\n",
      "12646/12646 [==============================] - 2s 152us/step - loss: 0.5920 - acc: 0.7138 - val_loss: 0.5908 - val_acc: 0.7059\n",
      "Epoch 11/16\n",
      "12646/12646 [==============================] - 2s 155us/step - loss: 0.5910 - acc: 0.7144 - val_loss: 0.5906 - val_acc: 0.7059\n",
      "Epoch 12/16\n",
      "12646/12646 [==============================] - 2s 150us/step - loss: 0.5898 - acc: 0.7141 - val_loss: 0.5908 - val_acc: 0.7059\n",
      "Epoch 13/16\n",
      "12646/12646 [==============================] - 2s 160us/step - loss: 0.5912 - acc: 0.7140 - val_loss: 0.5906 - val_acc: 0.7059\n",
      "Epoch 14/16\n",
      "12646/12646 [==============================] - 2s 156us/step - loss: 0.5908 - acc: 0.7138 - val_loss: 0.5905 - val_acc: 0.7059\n",
      "Epoch 15/16\n",
      "12646/12646 [==============================] - 2s 156us/step - loss: 0.5891 - acc: 0.7137 - val_loss: 0.5910 - val_acc: 0.7059\n",
      "Epoch 16/16\n",
      "12646/12646 [==============================] - 2s 165us/step - loss: 0.5909 - acc: 0.7136 - val_loss: 0.5908 - val_acc: 0.7059\n",
      "Testing Accuracy:  0.7059\n",
      "WARNING:tensorflow:This model was compiled with a Keras optimizer (<tensorflow.python.keras.optimizers.Adam object at 0xb3b9eabe0>) but is being saved in TensorFlow format with `save_weights`. The model's weights will be saved, but unlike with TensorFlow optimizers in the TensorFlow format the optimizer's state will not be saved.\n",
      "\n",
      "Consider using a TensorFlow optimizer from `tf.train`.\n",
      "Saved model to models/MSA_cnn_model.json\n"
     ]
    }
   ],
   "source": [
    "history = model.fit(input_train, output_train,\n",
    "                    epochs=16,\n",
    "                    verbose=True,\n",
    "                    validation_data=(input_test, output_test),\n",
    "                    batch_size=32)\n",
    "loss, accuracy = model.evaluate(input_test, output_test, verbose=False)\n",
    "print(\"Testing Accuracy:  {:.4f}\".format(accuracy))\n",
    "save_model(model)"
   ]
  },
  {
   "cell_type": "code",
   "execution_count": null,
   "metadata": {},
   "outputs": [],
   "source": []
  }
 ],
 "metadata": {
  "kernelspec": {
   "display_name": "Python 3",
   "language": "python",
   "name": "python3"
  },
  "language_info": {
   "codemirror_mode": {
    "name": "ipython",
    "version": 3
   },
   "file_extension": ".py",
   "mimetype": "text/x-python",
   "name": "python",
   "nbconvert_exporter": "python",
   "pygments_lexer": "ipython3",
   "version": "3.6.8"
  }
 },
 "nbformat": 4,
 "nbformat_minor": 2
}
