{
 "cells": [
  {
   "cell_type": "code",
   "execution_count": 1,
   "metadata": {},
   "outputs": [
    {
     "name": "stderr",
     "output_type": "stream",
     "text": [
      "/Users/wlifferth/anaconda3/lib/python3.6/site-packages/h5py/__init__.py:36: FutureWarning: Conversion of the second argument of issubdtype from `float` to `np.floating` is deprecated. In future, it will be treated as `np.float64 == np.dtype(float).type`.\n",
      "  from ._conv import register_converters as _register_converters\n"
     ]
    }
   ],
   "source": [
    "import pandas as pd\n",
    "import spacy\n",
    "import tensorflow as tf\n",
    "from tensorflow import keras\n",
    "import numpy as np\n"
   ]
  },
  {
   "cell_type": "code",
   "execution_count": 2,
   "metadata": {},
   "outputs": [],
   "source": [
    "nlp = spacy.load('en_core_web_lg')"
   ]
  },
  {
   "cell_type": "code",
   "execution_count": 46,
   "metadata": {},
   "outputs": [
    {
     "data": {
      "text/html": [
       "<div>\n",
       "<style scoped>\n",
       "    .dataframe tbody tr th:only-of-type {\n",
       "        vertical-align: middle;\n",
       "    }\n",
       "\n",
       "    .dataframe tbody tr th {\n",
       "        vertical-align: top;\n",
       "    }\n",
       "\n",
       "    .dataframe thead th {\n",
       "        text-align: right;\n",
       "    }\n",
       "</style>\n",
       "<table border=\"1\" class=\"dataframe\">\n",
       "  <thead>\n",
       "    <tr style=\"text-align: right;\">\n",
       "      <th></th>\n",
       "      <th>intensity</th>\n",
       "      <th>polarity</th>\n",
       "      <th>text</th>\n",
       "    </tr>\n",
       "  </thead>\n",
       "  <tbody>\n",
       "    <tr>\n",
       "      <th>0</th>\n",
       "      <td>1.0</td>\n",
       "      <td>0.0</td>\n",
       "      <td>Don't buy: This company will set you back a bi...</td>\n",
       "    </tr>\n",
       "    <tr>\n",
       "      <th>1</th>\n",
       "      <td>0.0</td>\n",
       "      <td>0.5</td>\n",
       "      <td>experimentation or other means), also called e...</td>\n",
       "    </tr>\n",
       "    <tr>\n",
       "      <th>2</th>\n",
       "      <td>1.0</td>\n",
       "      <td>1.0</td>\n",
       "      <td>Beaugh: Excellent basic material. Well organiz...</td>\n",
       "    </tr>\n",
       "    <tr>\n",
       "      <th>3</th>\n",
       "      <td>0.0</td>\n",
       "      <td>0.5</td>\n",
       "      <td>\"An eye for an eye\", \"a tooth for a tooth\" or ...</td>\n",
       "    </tr>\n",
       "    <tr>\n",
       "      <th>4</th>\n",
       "      <td>1.0</td>\n",
       "      <td>1.0</td>\n",
       "      <td>Can it get any better?: I have not read all th...</td>\n",
       "    </tr>\n",
       "  </tbody>\n",
       "</table>\n",
       "</div>"
      ],
      "text/plain": [
       "   intensity  polarity                                               text\n",
       "0        1.0       0.0  Don't buy: This company will set you back a bi...\n",
       "1        0.0       0.5  experimentation or other means), also called e...\n",
       "2        1.0       1.0  Beaugh: Excellent basic material. Well organiz...\n",
       "3        0.0       0.5  \"An eye for an eye\", \"a tooth for a tooth\" or ...\n",
       "4        1.0       1.0  Can it get any better?: I have not read all th..."
      ]
     },
     "execution_count": 46,
     "metadata": {},
     "output_type": "execute_result"
    }
   ],
   "source": [
    "clean_text_df = pd.read_csv('clean_text.csv')\n",
    "clean_text_df.head()"
   ]
  },
  {
   "cell_type": "code",
   "execution_count": 47,
   "metadata": {},
   "outputs": [
    {
     "data": {
      "text/plain": [
       "0.5    0.5406\n",
       "1.0    0.2297\n",
       "0.0    0.2297\n",
       "Name: polarity, dtype: float64"
      ]
     },
     "execution_count": 47,
     "metadata": {},
     "output_type": "execute_result"
    }
   ],
   "source": [
    "clean_text_df['polarity'].value_counts(normalize=True)"
   ]
  },
  {
   "cell_type": "code",
   "execution_count": 49,
   "metadata": {},
   "outputs": [
    {
     "name": "stdout",
     "output_type": "stream",
     "text": [
      "1000\n",
      "0.5    0.516\n",
      "0.0    0.248\n",
      "1.0    0.236\n",
      "Name: polarity, dtype: float64\n"
     ]
    },
    {
     "data": {
      "text/html": [
       "<div>\n",
       "<style scoped>\n",
       "    .dataframe tbody tr th:only-of-type {\n",
       "        vertical-align: middle;\n",
       "    }\n",
       "\n",
       "    .dataframe tbody tr th {\n",
       "        vertical-align: top;\n",
       "    }\n",
       "\n",
       "    .dataframe thead th {\n",
       "        text-align: right;\n",
       "    }\n",
       "</style>\n",
       "<table border=\"1\" class=\"dataframe\">\n",
       "  <thead>\n",
       "    <tr style=\"text-align: right;\">\n",
       "      <th></th>\n",
       "      <th>intensity</th>\n",
       "      <th>polarity</th>\n",
       "      <th>text</th>\n",
       "    </tr>\n",
       "  </thead>\n",
       "  <tbody>\n",
       "    <tr>\n",
       "      <th>4531</th>\n",
       "      <td>1.0</td>\n",
       "      <td>0.0</td>\n",
       "      <td>I HATE THIS BOOK!: I tore this book to shreds ...</td>\n",
       "    </tr>\n",
       "    <tr>\n",
       "      <th>57908</th>\n",
       "      <td>0.0</td>\n",
       "      <td>0.5</td>\n",
       "      <td>mm pupil to about 3 arcminutes per line pair. ...</td>\n",
       "    </tr>\n",
       "    <tr>\n",
       "      <th>65921</th>\n",
       "      <td>1.0</td>\n",
       "      <td>1.0</td>\n",
       "      <td>Classic Ian Matthews: I only own the LP from w...</td>\n",
       "    </tr>\n",
       "  </tbody>\n",
       "</table>\n",
       "</div>"
      ],
      "text/plain": [
       "       intensity  polarity                                               text\n",
       "4531         1.0       0.0  I HATE THIS BOOK!: I tore this book to shreds ...\n",
       "57908        0.0       0.5  mm pupil to about 3 arcminutes per line pair. ...\n",
       "65921        1.0       1.0  Classic Ian Matthews: I only own the LP from w..."
      ]
     },
     "execution_count": 49,
     "metadata": {},
     "output_type": "execute_result"
    }
   ],
   "source": [
    "sample = clean_text_df.sample(frac=0.01)\n",
    "print(len(sample))\n",
    "print(sample['polarity'].value_counts(normalize=True))\n",
    "sample.head(3)"
   ]
  },
  {
   "cell_type": "code",
   "execution_count": 50,
   "metadata": {},
   "outputs": [],
   "source": [
    "sample['int_high'] = sample['intensity'].apply(lambda x: 1 if x > 0.6 else 0)\n",
    "sample['int_med'] = sample['intensity'].apply(lambda x: 1 if (x < 0.6 and x > 0.4) else 0)\n",
    "sample['int_low'] = sample['intensity'].apply(lambda x: 1 if x < 0.4 else 0)\n",
    "sample['pol_pos'] = sample['polarity'].apply(lambda x: 1 if x > 0.6 else 0)\n",
    "sample['pol_neu'] = sample['polarity'].apply(lambda x: 1 if (x < 0.6 and x > 0.4) else 0)\n",
    "sample['pol_neg'] = sample['polarity'].apply(lambda x: 1 if x < 0.4 else 0)"
   ]
  },
  {
   "cell_type": "code",
   "execution_count": 51,
   "metadata": {},
   "outputs": [
    {
     "name": "stdout",
     "output_type": "stream",
     "text": [
      "0    0.544\n",
      "1    0.456\n",
      "Name: int_high, dtype: float64\n",
      "0    0.972\n",
      "1    0.028\n",
      "Name: int_med, dtype: float64\n",
      "1    0.516\n",
      "0    0.484\n",
      "Name: int_low, dtype: float64\n",
      "0    0.764\n",
      "1    0.236\n",
      "Name: pol_pos, dtype: float64\n",
      "1    0.516\n",
      "0    0.484\n",
      "Name: pol_neu, dtype: float64\n",
      "0    0.752\n",
      "1    0.248\n",
      "Name: pol_neg, dtype: float64\n"
     ]
    }
   ],
   "source": [
    "print(sample['int_high'].value_counts(normalize=True))\n",
    "print(sample['int_med'].value_counts(normalize=True))\n",
    "print(sample['int_low'].value_counts(normalize=True))\n",
    "print(sample['pol_pos'].value_counts(normalize=True))\n",
    "print(sample['pol_neu'].value_counts(normalize=True))\n",
    "print(sample['pol_neg'].value_counts(normalize=True))"
   ]
  },
  {
   "cell_type": "code",
   "execution_count": 52,
   "metadata": {},
   "outputs": [],
   "source": [
    "sample['vector'] = sample['text'].apply(lambda x: nlp(x).vector)"
   ]
  },
  {
   "cell_type": "code",
   "execution_count": 53,
   "metadata": {},
   "outputs": [
    {
     "data": {
      "text/plain": [
       "(300,)"
      ]
     },
     "execution_count": 53,
     "metadata": {},
     "output_type": "execute_result"
    }
   ],
   "source": [
    "sample['vector'].values[0].shape"
   ]
  },
  {
   "cell_type": "markdown",
   "metadata": {},
   "source": [
    "## Creating a basic model"
   ]
  },
  {
   "cell_type": "code",
   "execution_count": 54,
   "metadata": {},
   "outputs": [],
   "source": [
    "model = keras.Sequential()\n",
    "model.add(keras.layers.Dense(300, activation=tf.nn.relu))\n",
    "model.add(keras.layers.Dense(6, activation=tf.nn.sigmoid))"
   ]
  },
  {
   "cell_type": "code",
   "execution_count": 55,
   "metadata": {},
   "outputs": [],
   "source": [
    "model.compile(optimizer='adam',\n",
    "              loss='binary_crossentropy',\n",
    "              metrics=['accuracy'])"
   ]
  },
  {
   "cell_type": "code",
   "execution_count": 56,
   "metadata": {},
   "outputs": [
    {
     "data": {
      "text/plain": [
       "(1000, 300)"
      ]
     },
     "execution_count": 56,
     "metadata": {},
     "output_type": "execute_result"
    }
   ],
   "source": [
    "input_data = np.stack(sample['vector'].values, axis=0)\n",
    "input_data.shape"
   ]
  },
  {
   "cell_type": "code",
   "execution_count": 57,
   "metadata": {},
   "outputs": [
    {
     "data": {
      "text/plain": [
       "(1000, 6)"
      ]
     },
     "execution_count": 57,
     "metadata": {},
     "output_type": "execute_result"
    }
   ],
   "source": [
    "label_data = sample[['int_high', 'int_med', 'int_low', 'pol_pos', 'pol_neu', 'pol_neg']].values\n",
    "label_data.shape"
   ]
  },
  {
   "cell_type": "code",
   "execution_count": 58,
   "metadata": {},
   "outputs": [],
   "source": [
    "split_frac = 0.2\n",
    "cutoff = int(len(input_data) * split_frac)\n",
    "x_val = input_data[:cutoff]\n",
    "x_train = input_data[cutoff:]\n",
    "\n",
    "y_val = label_data[:cutoff]\n",
    "y_train = label_data[cutoff:]"
   ]
  },
  {
   "cell_type": "code",
   "execution_count": 59,
   "metadata": {},
   "outputs": [
    {
     "name": "stdout",
     "output_type": "stream",
     "text": [
      "Train on 800 samples, validate on 200 samples\n",
      "Epoch 1/40\n",
      "800/800 [==============================] - 0s 530us/step - loss: 0.6598 - acc: 0.6433 - val_loss: 0.6285 - val_acc: 0.6983\n",
      "Epoch 2/40\n",
      "800/800 [==============================] - 0s 10us/step - loss: 0.6216 - acc: 0.7185 - val_loss: 0.5958 - val_acc: 0.7658\n",
      "Epoch 3/40\n",
      "800/800 [==============================] - 0s 10us/step - loss: 0.5894 - acc: 0.7765 - val_loss: 0.5684 - val_acc: 0.7883\n",
      "Epoch 4/40\n",
      "800/800 [==============================] - 0s 13us/step - loss: 0.5628 - acc: 0.7998 - val_loss: 0.5447 - val_acc: 0.7942\n",
      "Epoch 5/40\n",
      "800/800 [==============================] - 0s 12us/step - loss: 0.5398 - acc: 0.8087 - val_loss: 0.5247 - val_acc: 0.7958\n",
      "Epoch 6/40\n",
      "800/800 [==============================] - 0s 13us/step - loss: 0.5207 - acc: 0.8129 - val_loss: 0.5079 - val_acc: 0.7975\n",
      "Epoch 7/40\n",
      "800/800 [==============================] - 0s 15us/step - loss: 0.5048 - acc: 0.8165 - val_loss: 0.4939 - val_acc: 0.8008\n",
      "Epoch 8/40\n",
      "800/800 [==============================] - 0s 10us/step - loss: 0.4908 - acc: 0.8160 - val_loss: 0.4818 - val_acc: 0.8000\n",
      "Epoch 9/40\n",
      "800/800 [==============================] - 0s 12us/step - loss: 0.4784 - acc: 0.8158 - val_loss: 0.4708 - val_acc: 0.8008\n",
      "Epoch 10/40\n",
      "800/800 [==============================] - 0s 11us/step - loss: 0.4668 - acc: 0.8158 - val_loss: 0.4603 - val_acc: 0.8000\n",
      "Epoch 11/40\n",
      "800/800 [==============================] - 0s 13us/step - loss: 0.4549 - acc: 0.8146 - val_loss: 0.4501 - val_acc: 0.8000\n",
      "Epoch 12/40\n",
      "800/800 [==============================] - 0s 12us/step - loss: 0.4439 - acc: 0.8133 - val_loss: 0.4405 - val_acc: 0.7983\n",
      "Epoch 13/40\n",
      "800/800 [==============================] - 0s 11us/step - loss: 0.4330 - acc: 0.8154 - val_loss: 0.4316 - val_acc: 0.7992\n",
      "Epoch 14/40\n",
      "800/800 [==============================] - 0s 11us/step - loss: 0.4232 - acc: 0.8158 - val_loss: 0.4236 - val_acc: 0.8000\n",
      "Epoch 15/40\n",
      "800/800 [==============================] - 0s 12us/step - loss: 0.4141 - acc: 0.8160 - val_loss: 0.4165 - val_acc: 0.7992\n",
      "Epoch 16/40\n",
      "800/800 [==============================] - 0s 10us/step - loss: 0.4053 - acc: 0.8175 - val_loss: 0.4103 - val_acc: 0.8000\n",
      "Epoch 17/40\n",
      "800/800 [==============================] - 0s 13us/step - loss: 0.3977 - acc: 0.8175 - val_loss: 0.4048 - val_acc: 0.8017\n",
      "Epoch 18/40\n",
      "800/800 [==============================] - 0s 11us/step - loss: 0.3906 - acc: 0.8200 - val_loss: 0.3998 - val_acc: 0.8008\n",
      "Epoch 19/40\n",
      "800/800 [==============================] - 0s 10us/step - loss: 0.3842 - acc: 0.8231 - val_loss: 0.3950 - val_acc: 0.8008\n",
      "Epoch 20/40\n",
      "800/800 [==============================] - 0s 11us/step - loss: 0.3781 - acc: 0.8256 - val_loss: 0.3908 - val_acc: 0.8000\n",
      "Epoch 21/40\n",
      "800/800 [==============================] - 0s 10us/step - loss: 0.3729 - acc: 0.8265 - val_loss: 0.3872 - val_acc: 0.8067\n",
      "Epoch 22/40\n",
      "800/800 [==============================] - 0s 10us/step - loss: 0.3684 - acc: 0.8296 - val_loss: 0.3840 - val_acc: 0.8100\n",
      "Epoch 23/40\n",
      "800/800 [==============================] - 0s 11us/step - loss: 0.3643 - acc: 0.8323 - val_loss: 0.3812 - val_acc: 0.8100\n",
      "Epoch 24/40\n",
      "800/800 [==============================] - 0s 12us/step - loss: 0.3606 - acc: 0.8346 - val_loss: 0.3789 - val_acc: 0.8158\n",
      "Epoch 25/40\n",
      "800/800 [==============================] - 0s 11us/step - loss: 0.3572 - acc: 0.8363 - val_loss: 0.3768 - val_acc: 0.8200\n",
      "Epoch 26/40\n",
      "800/800 [==============================] - 0s 9us/step - loss: 0.3543 - acc: 0.8377 - val_loss: 0.3750 - val_acc: 0.8242\n",
      "Epoch 27/40\n",
      "800/800 [==============================] - 0s 9us/step - loss: 0.3516 - acc: 0.8392 - val_loss: 0.3732 - val_acc: 0.8267\n",
      "Epoch 28/40\n",
      "800/800 [==============================] - 0s 11us/step - loss: 0.3491 - acc: 0.8408 - val_loss: 0.3715 - val_acc: 0.8267\n",
      "Epoch 29/40\n",
      "800/800 [==============================] - 0s 9us/step - loss: 0.3466 - acc: 0.8408 - val_loss: 0.3705 - val_acc: 0.8233\n",
      "Epoch 30/40\n",
      "800/800 [==============================] - 0s 9us/step - loss: 0.3444 - acc: 0.8419 - val_loss: 0.3690 - val_acc: 0.8233\n",
      "Epoch 31/40\n",
      "800/800 [==============================] - 0s 11us/step - loss: 0.3422 - acc: 0.8450 - val_loss: 0.3672 - val_acc: 0.8292\n",
      "Epoch 32/40\n",
      "800/800 [==============================] - 0s 11us/step - loss: 0.3397 - acc: 0.8462 - val_loss: 0.3654 - val_acc: 0.8325\n",
      "Epoch 33/40\n",
      "800/800 [==============================] - 0s 12us/step - loss: 0.3376 - acc: 0.8477 - val_loss: 0.3638 - val_acc: 0.8342\n",
      "Epoch 34/40\n",
      "800/800 [==============================] - 0s 11us/step - loss: 0.3354 - acc: 0.8483 - val_loss: 0.3623 - val_acc: 0.8367\n",
      "Epoch 35/40\n",
      "800/800 [==============================] - 0s 10us/step - loss: 0.3334 - acc: 0.8500 - val_loss: 0.3613 - val_acc: 0.8358\n",
      "Epoch 36/40\n",
      "800/800 [==============================] - 0s 12us/step - loss: 0.3313 - acc: 0.8504 - val_loss: 0.3599 - val_acc: 0.8392\n",
      "Epoch 37/40\n",
      "800/800 [==============================] - 0s 11us/step - loss: 0.3291 - acc: 0.8523 - val_loss: 0.3587 - val_acc: 0.8392\n",
      "Epoch 38/40\n",
      "800/800 [==============================] - 0s 11us/step - loss: 0.3270 - acc: 0.8529 - val_loss: 0.3573 - val_acc: 0.8433\n",
      "Epoch 39/40\n",
      "800/800 [==============================] - 0s 10us/step - loss: 0.3252 - acc: 0.8554 - val_loss: 0.3561 - val_acc: 0.8425\n",
      "Epoch 40/40\n",
      "800/800 [==============================] - 0s 10us/step - loss: 0.3229 - acc: 0.8567 - val_loss: 0.3553 - val_acc: 0.8467\n"
     ]
    }
   ],
   "source": [
    "history = model.fit(x_train,\n",
    "                    y_train,\n",
    "                    epochs=40,\n",
    "                    batch_size=512,\n",
    "                    validation_data=(x_val, y_val))"
   ]
  },
  {
   "cell_type": "code",
   "execution_count": 66,
   "metadata": {},
   "outputs": [],
   "source": [
    "def readable_output(output):\n",
    "    intensity = output[0][:3]\n",
    "    polarity = output[0][3:]\n",
    "    pol_str = \"\"\n",
    "    int_str = \"\"\n",
    "    if max(intensity) == intensity[0]:\n",
    "        int_str = \"high\"\n",
    "    elif max(intensity) == intensity[1]:\n",
    "        int_str = \"med\"\n",
    "    else:\n",
    "        int_str = \"low\"\n",
    "    if max(polarity) == polarity[0]:\n",
    "        pol_str = \"pos\"\n",
    "    elif max(polarity) == polarity[1]:\n",
    "        pol_str = \"neutral\"\n",
    "    else:\n",
    "        pol_str = \"neg\"\n",
    "    return \"{} {}\".format(int_str, pol_str)"
   ]
  },
  {
   "cell_type": "code",
   "execution_count": 75,
   "metadata": {
    "scrolled": true
   },
   "outputs": [
    {
     "name": "stdout",
     "output_type": "stream",
     "text": [
      "[[0.998516   0.00423395 0.0018444  0.38055375 0.00141962 0.95365673]]\n",
      "I really hate this \n",
      " high neg \n",
      "\n",
      "[[0.9985176  0.00747729 0.00159849 0.57308686 0.00138725 0.925542  ]]\n",
      "stuff \n",
      " high neg \n",
      "\n"
     ]
    }
   ],
   "source": [
    "docs = [\n",
    "    \"I really hate this\",\n",
    "    \"stuff\"\n",
    "]\n",
    "for doc in docs:\n",
    "    result = model.predict(np.asmatrix(nlp(doc).vector))\n",
    "    print(result)\n",
    "    print(doc, \"\\n\", readable_output(result), \"\\n\")"
   ]
  },
  {
   "cell_type": "code",
   "execution_count": 56,
   "metadata": {},
   "outputs": [
    {
     "name": "stdout",
     "output_type": "stream",
     "text": [
      "(300,)\n"
     ]
    },
    {
     "data": {
      "text/plain": [
       "(1, 300)"
      ]
     },
     "execution_count": 56,
     "metadata": {},
     "output_type": "execute_result"
    }
   ],
   "source": [
    "print(nlp(\"I really hate this\").vector.shape)\n",
    "np.asmatrix(nlp(\"I really hate this\").vector).shape"
   ]
  },
  {
   "cell_type": "code",
   "execution_count": null,
   "metadata": {},
   "outputs": [],
   "source": []
  }
 ],
 "metadata": {
  "kernelspec": {
   "display_name": "Python 3",
   "language": "python",
   "name": "python3"
  },
  "language_info": {
   "codemirror_mode": {
    "name": "ipython",
    "version": 3
   },
   "file_extension": ".py",
   "mimetype": "text/x-python",
   "name": "python",
   "nbconvert_exporter": "python",
   "pygments_lexer": "ipython3",
   "version": "3.6.5"
  }
 },
 "nbformat": 4,
 "nbformat_minor": 2
}
