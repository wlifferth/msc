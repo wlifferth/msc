{
 "cells": [
  {
   "cell_type": "code",
   "execution_count": 1,
   "metadata": {},
   "outputs": [],
   "source": [
    "import pandas as pd\n",
    "import csv\n",
    "import matplotlib.pyplot as plt\n",
    "import wikipedia as wiki\n",
    "import warnings\n",
    "import time\n",
    "import requests\n",
    "from bs4 import BeautifulSoup"
   ]
  },
  {
   "cell_type": "markdown",
   "metadata": {},
   "source": [
    "# Book Reviews"
   ]
  },
  {
   "cell_type": "code",
   "execution_count": 2,
   "metadata": {},
   "outputs": [
    {
     "name": "stderr",
     "output_type": "stream",
     "text": [
      "Skipping line 312075: unexpected end of data\n"
     ]
    },
    {
     "data": {
      "text/html": [
       "<div>\n",
       "<style scoped>\n",
       "    .dataframe tbody tr th:only-of-type {\n",
       "        vertical-align: middle;\n",
       "    }\n",
       "\n",
       "    .dataframe tbody tr th {\n",
       "        vertical-align: top;\n",
       "    }\n",
       "\n",
       "    .dataframe thead th {\n",
       "        text-align: right;\n",
       "    }\n",
       "</style>\n",
       "<table border=\"1\" class=\"dataframe\">\n",
       "  <thead>\n",
       "    <tr style=\"text-align: right;\">\n",
       "      <th></th>\n",
       "      <th>bookID</th>\n",
       "      <th>title</th>\n",
       "      <th>author</th>\n",
       "      <th>rating</th>\n",
       "      <th>ratingsCount</th>\n",
       "      <th>reviewsCount</th>\n",
       "      <th>reviewerName</th>\n",
       "      <th>reviewerRatings</th>\n",
       "      <th>review</th>\n",
       "    </tr>\n",
       "  </thead>\n",
       "  <tbody>\n",
       "    <tr>\n",
       "      <th>0</th>\n",
       "      <td>9</td>\n",
       "      <td>Unauthorized Harry Potter Book Seven News: \"Ha...</td>\n",
       "      <td>W. Frederick Zimmerman</td>\n",
       "      <td>3.73</td>\n",
       "      <td>22</td>\n",
       "      <td>1</td>\n",
       "      <td>Charles G</td>\n",
       "      <td>3.0</td>\n",
       "      <td>NaN</td>\n",
       "    </tr>\n",
       "    <tr>\n",
       "      <th>1</th>\n",
       "      <td>8</td>\n",
       "      <td>Harry Potter Boxed Set, Books 1-5 (Harry Potte...</td>\n",
       "      <td>J.K. Rowling</td>\n",
       "      <td>4.77</td>\n",
       "      <td>34107</td>\n",
       "      <td>156</td>\n",
       "      <td>✿Katherine Elizabeth✿</td>\n",
       "      <td>5.0</td>\n",
       "      <td>NaN</td>\n",
       "    </tr>\n",
       "    <tr>\n",
       "      <th>2</th>\n",
       "      <td>3</td>\n",
       "      <td>Harry Potter and the Sorcerer's Stone</td>\n",
       "      <td>J.K. Rowling</td>\n",
       "      <td>4.44</td>\n",
       "      <td>4911929</td>\n",
       "      <td>77741</td>\n",
       "      <td>Lora</td>\n",
       "      <td>5.0</td>\n",
       "      <td>I'm going to keep this brief since there isn't...</td>\n",
       "    </tr>\n",
       "  </tbody>\n",
       "</table>\n",
       "</div>"
      ],
      "text/plain": [
       "   bookID                                              title  \\\n",
       "0       9  Unauthorized Harry Potter Book Seven News: \"Ha...   \n",
       "1       8  Harry Potter Boxed Set, Books 1-5 (Harry Potte...   \n",
       "2       3              Harry Potter and the Sorcerer's Stone   \n",
       "\n",
       "                   author  rating  ratingsCount  reviewsCount  \\\n",
       "0  W. Frederick Zimmerman    3.73            22             1   \n",
       "1            J.K. Rowling    4.77         34107           156   \n",
       "2            J.K. Rowling    4.44       4911929         77741   \n",
       "\n",
       "            reviewerName  reviewerRatings  \\\n",
       "0              Charles G              3.0   \n",
       "1  ✿Katherine Elizabeth✿              5.0   \n",
       "2                   Lora              5.0   \n",
       "\n",
       "                                              review  \n",
       "0                                                NaN  \n",
       "1                                                NaN  \n",
       "2  I'm going to keep this brief since there isn't...  "
      ]
     },
     "execution_count": 2,
     "metadata": {},
     "output_type": "execute_result"
    }
   ],
   "source": [
    "raw_df_book_reviews = pd.read_csv('data/br.csv', engine='python', encoding='utf-8', usecols=range(9), error_bad_lines=False)\n",
    "raw_df_book_reviews.head(3)"
   ]
  },
  {
   "cell_type": "code",
   "execution_count": 3,
   "metadata": {},
   "outputs": [
    {
     "data": {
      "text/html": [
       "<div>\n",
       "<style scoped>\n",
       "    .dataframe tbody tr th:only-of-type {\n",
       "        vertical-align: middle;\n",
       "    }\n",
       "\n",
       "    .dataframe tbody tr th {\n",
       "        vertical-align: top;\n",
       "    }\n",
       "\n",
       "    .dataframe thead th {\n",
       "        text-align: right;\n",
       "    }\n",
       "</style>\n",
       "<table border=\"1\" class=\"dataframe\">\n",
       "  <thead>\n",
       "    <tr style=\"text-align: right;\">\n",
       "      <th></th>\n",
       "      <th>reviewerRatings</th>\n",
       "      <th>review</th>\n",
       "    </tr>\n",
       "  </thead>\n",
       "  <tbody>\n",
       "    <tr>\n",
       "      <th>0</th>\n",
       "      <td>3.0</td>\n",
       "      <td>NaN</td>\n",
       "    </tr>\n",
       "    <tr>\n",
       "      <th>1</th>\n",
       "      <td>5.0</td>\n",
       "      <td>NaN</td>\n",
       "    </tr>\n",
       "    <tr>\n",
       "      <th>2</th>\n",
       "      <td>5.0</td>\n",
       "      <td>I'm going to keep this brief since there isn't...</td>\n",
       "    </tr>\n",
       "  </tbody>\n",
       "</table>\n",
       "</div>"
      ],
      "text/plain": [
       "   reviewerRatings                                             review\n",
       "0              3.0                                                NaN\n",
       "1              5.0                                                NaN\n",
       "2              5.0  I'm going to keep this brief since there isn't..."
      ]
     },
     "execution_count": 3,
     "metadata": {},
     "output_type": "execute_result"
    }
   ],
   "source": [
    "subset_df_book_reviews = raw_df_book_reviews[['reviewerRatings', 'review']]\n",
    "subset_df_book_reviews.head(3)"
   ]
  },
  {
   "cell_type": "code",
   "execution_count": 4,
   "metadata": {},
   "outputs": [
    {
     "name": "stdout",
     "output_type": "stream",
     "text": [
      "312073\n",
      "109374\n"
     ]
    },
    {
     "data": {
      "text/html": [
       "<div>\n",
       "<style scoped>\n",
       "    .dataframe tbody tr th:only-of-type {\n",
       "        vertical-align: middle;\n",
       "    }\n",
       "\n",
       "    .dataframe tbody tr th {\n",
       "        vertical-align: top;\n",
       "    }\n",
       "\n",
       "    .dataframe thead th {\n",
       "        text-align: right;\n",
       "    }\n",
       "</style>\n",
       "<table border=\"1\" class=\"dataframe\">\n",
       "  <thead>\n",
       "    <tr style=\"text-align: right;\">\n",
       "      <th></th>\n",
       "      <th>reviewerRatings</th>\n",
       "      <th>review</th>\n",
       "    </tr>\n",
       "  </thead>\n",
       "  <tbody>\n",
       "    <tr>\n",
       "      <th>2</th>\n",
       "      <td>5.0</td>\n",
       "      <td>I'm going to keep this brief since there isn't...</td>\n",
       "    </tr>\n",
       "    <tr>\n",
       "      <th>3</th>\n",
       "      <td>5.0</td>\n",
       "      <td>\"Read Harry Potter!\" they said. \"It'll be fun!...</td>\n",
       "    </tr>\n",
       "    <tr>\n",
       "      <th>6</th>\n",
       "      <td>5.0</td>\n",
       "      <td>I do not own this spiffy box set of Harry Pott...</td>\n",
       "    </tr>\n",
       "  </tbody>\n",
       "</table>\n",
       "</div>"
      ],
      "text/plain": [
       "   reviewerRatings                                             review\n",
       "2              5.0  I'm going to keep this brief since there isn't...\n",
       "3              5.0  \"Read Harry Potter!\" they said. \"It'll be fun!...\n",
       "6              5.0  I do not own this spiffy box set of Harry Pott..."
      ]
     },
     "execution_count": 4,
     "metadata": {},
     "output_type": "execute_result"
    }
   ],
   "source": [
    "print(len(subset_df_book_reviews))\n",
    "xna_df_book_reviews = subset_df_book_reviews.dropna(axis=0)\n",
    "print(len(xna_df_book_reviews))\n",
    "xna_df_book_reviews.head(3)"
   ]
  },
  {
   "cell_type": "code",
   "execution_count": 5,
   "metadata": {},
   "outputs": [],
   "source": [
    "def get_book_review_polarity(rating):\n",
    "    if rating > 3:\n",
    "        return 1\n",
    "    elif rating < 3:\n",
    "        return 0\n",
    "    else:\n",
    "        return 0.5\n",
    "\n",
    "def get_book_review_intensity(rating):\n",
    "    try:\n",
    "        mapping = {1: 1, 2: 0.5, 3: 0, 4: 0.5, 5: 1}\n",
    "        return mapping[rating]\n",
    "    except KeyError:\n",
    "        return 0\n",
    "\n",
    "def trim_sample(text):\n",
    "    words = text.split()\n",
    "    if len(words) > 100:\n",
    "        return ' '.join(words[:100])\n",
    "    else:\n",
    "        return ' '.join(words)"
   ]
  },
  {
   "cell_type": "code",
   "execution_count": 6,
   "metadata": {},
   "outputs": [],
   "source": [
    "with pd.option_context('mode.chained_assignment', None):\n",
    "    xna_df_book_reviews['polarity'] = xna_df_book_reviews['reviewerRatings'].apply(get_book_review_polarity)\n",
    "    xna_df_book_reviews['intensity'] = xna_df_book_reviews['reviewerRatings'].apply(get_book_review_intensity)\n",
    "    xna_df_book_reviews['text'] = xna_df_book_reviews['review'].apply(trim_sample)\n",
    "    clean_book_reviews = xna_df_book_reviews.drop(axis=1, labels=['reviewerRatings', 'review'])"
   ]
  },
  {
   "cell_type": "code",
   "execution_count": 7,
   "metadata": {},
   "outputs": [
    {
     "data": {
      "text/plain": [
       "109374"
      ]
     },
     "execution_count": 7,
     "metadata": {},
     "output_type": "execute_result"
    }
   ],
   "source": [
    "len(clean_book_reviews)"
   ]
  },
  {
   "cell_type": "code",
   "execution_count": 9,
   "metadata": {},
   "outputs": [],
   "source": [
    "neu_book_reviews = clean_book_reviews[clean_book_reviews['polarity'] == 0.5]\n",
    "remaining = 100000 - len(neu_book_reviews)\n",
    "pol_book_reviews = clean_book_reviews[clean_book_reviews['polarity'] != 0.5].sample(n=remaining)\n",
    "clean_book_reviews = pd.concat([neu_book_reviews, pol_book_reviews])"
   ]
  },
  {
   "cell_type": "code",
   "execution_count": 10,
   "metadata": {},
   "outputs": [
    {
     "name": "stdout",
     "output_type": "stream",
     "text": [
      "Number of records: 100000\n",
      "Average length of record: 572.5304\n",
      "    polarity  intensity                                               text\n",
      "13       0.5        0.0  Herman Melville’s poetry is an enigma. The man...\n",
      "69       0.5        0.0  When I started reading Rusdie's Midnight's Chi...\n",
      "74       0.5        0.0  Fourth installment in this amazing series. You...\n"
     ]
    }
   ],
   "source": [
    "print(\"Number of records: {}\".format(len(clean_book_reviews)))\n",
    "print(\"Average length of record: {}\".format(clean_book_reviews['text'].str.len().mean()))\n",
    "print(clean_book_reviews.head(3))"
   ]
  },
  {
   "cell_type": "markdown",
   "metadata": {},
   "source": [
    "# Product Reviews"
   ]
  },
  {
   "cell_type": "code",
   "execution_count": 11,
   "metadata": {},
   "outputs": [
    {
     "data": {
      "text/html": [
       "<div>\n",
       "<style scoped>\n",
       "    .dataframe tbody tr th:only-of-type {\n",
       "        vertical-align: middle;\n",
       "    }\n",
       "\n",
       "    .dataframe tbody tr th {\n",
       "        vertical-align: top;\n",
       "    }\n",
       "\n",
       "    .dataframe thead th {\n",
       "        text-align: right;\n",
       "    }\n",
       "</style>\n",
       "<table border=\"1\" class=\"dataframe\">\n",
       "  <thead>\n",
       "    <tr style=\"text-align: right;\">\n",
       "      <th></th>\n",
       "      <th>0</th>\n",
       "    </tr>\n",
       "  </thead>\n",
       "  <tbody>\n",
       "    <tr>\n",
       "      <th>2381691</th>\n",
       "      <td>__label__1 Oh dear...: The one battle where th...</td>\n",
       "    </tr>\n",
       "    <tr>\n",
       "      <th>2656174</th>\n",
       "      <td>__label__2 Men's Red Dress Shirt: Love this sh...</td>\n",
       "    </tr>\n",
       "    <tr>\n",
       "      <th>1944737</th>\n",
       "      <td>__label__1 A one-trick piggy: Don't get me wro...</td>\n",
       "    </tr>\n",
       "    <tr>\n",
       "      <th>2757586</th>\n",
       "      <td>__label__1 Sad Day: Although I asked 3 or 4 ga...</td>\n",
       "    </tr>\n",
       "    <tr>\n",
       "      <th>1538068</th>\n",
       "      <td>__label__2 book: This book looks brand new. Ju...</td>\n",
       "    </tr>\n",
       "  </tbody>\n",
       "</table>\n",
       "</div>"
      ],
      "text/plain": [
       "                                                         0\n",
       "2381691  __label__1 Oh dear...: The one battle where th...\n",
       "2656174  __label__2 Men's Red Dress Shirt: Love this sh...\n",
       "1944737  __label__1 A one-trick piggy: Don't get me wro...\n",
       "2757586  __label__1 Sad Day: Although I asked 3 or 4 ga...\n",
       "1538068  __label__2 book: This book looks brand new. Ju..."
      ]
     },
     "execution_count": 11,
     "metadata": {},
     "output_type": "execute_result"
    }
   ],
   "source": [
    "raw_df_product_reviews = pd.read_csv('data/train.ft.txt', header=None, sep='\\n', engine='python')\n",
    "raw_df_product_reviews = raw_df_product_reviews.sample(n=200000)\n",
    "raw_df_product_reviews.head()"
   ]
  },
  {
   "cell_type": "code",
   "execution_count": 12,
   "metadata": {},
   "outputs": [],
   "source": [
    "def get_product_review_polarity(raw_text):\n",
    "    if raw_text[9] == '2':\n",
    "        return 1\n",
    "    else:\n",
    "        return 0\n",
    "\n",
    "def get_product_review_text(raw_text):\n",
    "    return raw_text[11:]\n",
    "\n",
    "raw_df_product_reviews['polarity'] = raw_df_product_reviews[0].apply(get_product_review_polarity)\n",
    "raw_df_product_reviews['intensity'] = 1\n",
    "raw_df_product_reviews['text'] = raw_df_product_reviews[0].apply(get_product_review_text).apply(trim_sample)\n",
    "clean_product_reviews = raw_df_product_reviews.drop(axis=1, labels=0)"
   ]
  },
  {
   "cell_type": "code",
   "execution_count": 13,
   "metadata": {},
   "outputs": [],
   "source": [
    "pos_pol_product_reviews = clean_product_reviews[clean_product_reviews['polarity'] == 1].sample(n=50000)\n",
    "neg_pol_product_reviews = clean_product_reviews[clean_product_reviews['polarity'] == 0].sample(n=50000)\n",
    "clean_product_reviews = pd.concat([pos_pol_product_reviews, neg_pol_product_reviews])"
   ]
  },
  {
   "cell_type": "code",
   "execution_count": 14,
   "metadata": {},
   "outputs": [
    {
     "name": "stdout",
     "output_type": "stream",
     "text": [
      "Number of records: 100000\n",
      "Average length of record: 374.76333\n",
      "         polarity  intensity  \\\n",
      "24352           1          1   \n",
      "2563649         1          1   \n",
      "3348421         1          1   \n",
      "\n",
      "                                                      text  \n",
      "24352    Good scrub: I purchased the scrub brush to cle...  \n",
      "2563649  Great Map of Venice: And sturdy to carry aroun...  \n",
      "3348421  COMPREHENSIVE AND WELL WRITTEN BOOK ON DAM HYD...  \n"
     ]
    }
   ],
   "source": [
    "print(\"Number of records: {}\".format(len(clean_product_reviews)))\n",
    "print(\"Average length of record: {}\".format(clean_product_reviews['text'].str.len().mean()))\n",
    "print(clean_product_reviews.head(3))"
   ]
  },
  {
   "cell_type": "markdown",
   "metadata": {},
   "source": [
    "# Wikipedia Articles"
   ]
  },
  {
   "cell_type": "code",
   "execution_count": 11,
   "metadata": {},
   "outputs": [
    {
     "data": {
      "text/plain": [
       "['time', 'person', 'year']"
      ]
     },
     "execution_count": 11,
     "metadata": {},
     "output_type": "execute_result"
    }
   ],
   "source": [
    "most_common_nouns = \"\"\"time\n",
    "person\n",
    "year\n",
    "way\n",
    "day\n",
    "thing\n",
    "man\n",
    "world\n",
    "life\n",
    "hand\n",
    "part\n",
    "child\n",
    "eye\n",
    "woman\n",
    "place\n",
    "work\n",
    "week\n",
    "case\n",
    "point\n",
    "government\n",
    "company\n",
    "number\n",
    "group\n",
    "problem\n",
    "fact\"\"\".split()\n",
    "most_common_nouns[:3]"
   ]
  },
  {
   "cell_type": "code",
   "execution_count": 23,
   "metadata": {},
   "outputs": [],
   "source": [
    "def prepare_samples(text):\n",
    "    samples = []\n",
    "    target_length = int(500 / 4.5)\n",
    "    words = text.split()\n",
    "    for i in range((len(words) // target_length) - 1):\n",
    "        samples.append(' '.join(words[(i*target_length):((i+1)*target_length)]))\n",
    "    return samples"
   ]
  },
  {
   "cell_type": "code",
   "execution_count": 29,
   "metadata": {},
   "outputs": [
    {
     "name": "stdout",
     "output_type": "stream",
     "text": [
      "errors: 16\tsuccesses: 159\t\t[finished Queensland Railways 3900 class]                                                             \r"
     ]
    }
   ],
   "source": [
    "samples = []\n",
    "errors = 0\n",
    "successes = 0\n",
    "def print_status(errors, successes, msg=\"prev\"):\n",
    "    print(\"errors: {}\\tsuccesses: {}\\t\\t[finished {}]\".format(errors, successes, msg), \" \"*30, end='')\n",
    "    print('\\r', end='')\n",
    "    time.sleep(3)\n",
    "\n",
    "with warnings.catch_warnings():\n",
    "    warnings.simplefilter(\"ignore\")\n",
    "    for term in most_common_nouns:\n",
    "        results = wiki.search(term, results=3)\n",
    "        for result in results:\n",
    "            try:\n",
    "                text = wiki.page(result).content\n",
    "                samples += prepare_samples(text)\n",
    "                successes += 1\n",
    "                print_status(errors, successes, result)\n",
    "            except wiki.exceptions.DisambiguationError:\n",
    "                errors += 1\n",
    "                print_status(errors, successes, result)\n",
    "    for term in wiki.random(pages=100):\n",
    "        try:\n",
    "            text = wiki.page(result).content\n",
    "            samples += prepare_samples(text)\n",
    "            successes += 1\n",
    "            print_status(errors, successes, term)\n",
    "        except wiki.exceptions.DisambiguationError:\n",
    "            errors += 1\n",
    "            print_status(errors, successes, term)"
   ]
  },
  {
   "cell_type": "code",
   "execution_count": 33,
   "metadata": {},
   "outputs": [],
   "source": [
    "new_samples = []\n",
    "for sample in samples:\n",
    "    words = sample.split()\n",
    "    fourth = (len(words) // 4) - 1\n",
    "    third = (len(words) // 3) - 1\n",
    "    half = (len(words) // 2) - 1\n",
    "    new_samples.append(' '.join(words[:fourth]))\n",
    "    new_samples.append(' '.join(words[fourth:(fourth*2)]))\n",
    "    new_samples.append(' '.join(words[(fourth*2):(fourth*3)]))\n",
    "    new_samples.append(' '.join(words[(fourth*3):]))\n",
    "    new_samples.append(' '.join(words[:third]))\n",
    "    new_samples.append(' '.join(words[third:(third*2)]))\n",
    "    new_samples.append(' '.join(words[(third*2):]))\n",
    "    new_samples.append(' '.join(words[:half]))\n",
    "    new_samples.append(' '.join(words[half:]))\n",
    "samples += new_samples"
   ]
  },
  {
   "cell_type": "code",
   "execution_count": 78,
   "metadata": {},
   "outputs": [],
   "source": [
    "clean_wiki_articles = pd.DataFrame({'text': samples})\n",
    "clean_wiki_articles = clean_wiki_articles.sample(n=30000)"
   ]
  },
  {
   "cell_type": "code",
   "execution_count": 79,
   "metadata": {},
   "outputs": [],
   "source": [
    "clean_wiki_articles['intensity'] = 0.0\n",
    "clean_wiki_articles['polarity'] = 0.5"
   ]
  },
  {
   "cell_type": "code",
   "execution_count": 81,
   "metadata": {},
   "outputs": [
    {
     "name": "stdout",
     "output_type": "stream",
     "text": [
      "Number of records: 30000\n",
      "Average length of record: 272.0262666666667\n",
      "                                                    text  intensity  polarity\n",
      "7628   Thing, from featuring Russell in a starring ro...        0.0       0.5\n",
      "14279  the full development of complex numbers. The r...        0.0       0.5\n",
      "715    row (scaphoid, lunate, triquetral and pisiform...        0.0       0.5\n",
      "17849  as to emphasize a point or prove a disputed is...        0.0       0.5\n",
      "9662   thumb, the first and second lumbrical. The uln...        0.0       0.5\n"
     ]
    }
   ],
   "source": [
    "print(\"Number of records: {}\".format(len(clean_wiki_articles)))\n",
    "print(\"Average length of record: {}\".format(clean_wiki_articles['text'].str.len().mean()))\n",
    "print(clean_wiki_articles.head())"
   ]
  },
  {
   "cell_type": "markdown",
   "metadata": {},
   "source": [
    "# Adding Data Together"
   ]
  },
  {
   "cell_type": "code",
   "execution_count": 95,
   "metadata": {},
   "outputs": [
    {
     "name": "stdout",
     "output_type": "stream",
     "text": [
      "        intensity  polarity                                               text\n",
      "54157         1.0       0.0  My biggest problem with the book is that it is...\n",
      "279088        1.0       0.0   1 HAVING MY CAKE AND EATING IT STARSWell if y...\n",
      "38636         1.0       0.0  [image error]It may be unfair, even mean-spiri...\n"
     ]
    }
   ],
   "source": [
    "clean_text = pd.concat([clean_book_reviews, clean_product_reviews, clean_wiki_articles])\n",
    "print(clean_text.head(3))"
   ]
  },
  {
   "cell_type": "code",
   "execution_count": 96,
   "metadata": {},
   "outputs": [
    {
     "name": "stdout",
     "output_type": "stream",
     "text": [
      "0.0    54060\n",
      "1.0    43124\n",
      "0.5     2816\n",
      "Name: intensity, dtype: int64\n",
      "0.5    54060\n",
      "1.0    22970\n",
      "0.0    22970\n",
      "Name: polarity, dtype: int64\n"
     ]
    }
   ],
   "source": [
    "print(clean_text['intensity'].value_counts())\n",
    "print(clean_text['polarity'].value_counts())"
   ]
  },
  {
   "cell_type": "code",
   "execution_count": 97,
   "metadata": {},
   "outputs": [
    {
     "data": {
      "text/html": [
       "<div>\n",
       "<style scoped>\n",
       "    .dataframe tbody tr th:only-of-type {\n",
       "        vertical-align: middle;\n",
       "    }\n",
       "\n",
       "    .dataframe tbody tr th {\n",
       "        vertical-align: top;\n",
       "    }\n",
       "\n",
       "    .dataframe thead th {\n",
       "        text-align: right;\n",
       "    }\n",
       "</style>\n",
       "<table border=\"1\" class=\"dataframe\">\n",
       "  <thead>\n",
       "    <tr style=\"text-align: right;\">\n",
       "      <th></th>\n",
       "      <th>intensity</th>\n",
       "      <th>polarity</th>\n",
       "      <th>text</th>\n",
       "    </tr>\n",
       "  </thead>\n",
       "  <tbody>\n",
       "    <tr>\n",
       "      <th>18570</th>\n",
       "      <td>0.0</td>\n",
       "      <td>0.5</td>\n",
       "      <td>true fact, (e.g., \"the author's facts are not ...</td>\n",
       "    </tr>\n",
       "    <tr>\n",
       "      <th>27955</th>\n",
       "      <td>0.0</td>\n",
       "      <td>0.5</td>\n",
       "      <td>the French government has chosen Paris to be t...</td>\n",
       "    </tr>\n",
       "    <tr>\n",
       "      <th>1664746</th>\n",
       "      <td>1.0</td>\n",
       "      <td>0.0</td>\n",
       "      <td>KNOCK OFF VERSION! BUY THE GREY ONE!: My boyfr...</td>\n",
       "    </tr>\n",
       "    <tr>\n",
       "      <th>2133092</th>\n",
       "      <td>1.0</td>\n",
       "      <td>0.0</td>\n",
       "      <td>Surely this can't be the best one out there?: ...</td>\n",
       "    </tr>\n",
       "    <tr>\n",
       "      <th>207087</th>\n",
       "      <td>0.0</td>\n",
       "      <td>0.5</td>\n",
       "      <td>Charles Willeford was one of the last of the h...</td>\n",
       "    </tr>\n",
       "  </tbody>\n",
       "</table>\n",
       "</div>"
      ],
      "text/plain": [
       "         intensity  polarity  \\\n",
       "18570          0.0       0.5   \n",
       "27955          0.0       0.5   \n",
       "1664746        1.0       0.0   \n",
       "2133092        1.0       0.0   \n",
       "207087         0.0       0.5   \n",
       "\n",
       "                                                      text  \n",
       "18570    true fact, (e.g., \"the author's facts are not ...  \n",
       "27955    the French government has chosen Paris to be t...  \n",
       "1664746  KNOCK OFF VERSION! BUY THE GREY ONE!: My boyfr...  \n",
       "2133092  Surely this can't be the best one out there?: ...  \n",
       "207087   Charles Willeford was one of the last of the h...  "
      ]
     },
     "execution_count": 97,
     "metadata": {},
     "output_type": "execute_result"
    }
   ],
   "source": [
    "clean_text = clean_text.sample(frac=1)\n",
    "clean_text.head()"
   ]
  },
  {
   "cell_type": "code",
   "execution_count": 98,
   "metadata": {},
   "outputs": [],
   "source": [
    "clean_text = clean_text.sample(frac=1)\n",
    "clean_text.to_csv('clean_text.csv', index=False)"
   ]
  },
  {
   "cell_type": "code",
   "execution_count": null,
   "metadata": {},
   "outputs": [],
   "source": []
  }
 ],
 "metadata": {
  "kernelspec": {
   "display_name": "Python 3",
   "language": "python",
   "name": "python3"
  },
  "language_info": {
   "codemirror_mode": {
    "name": "ipython",
    "version": 3
   },
   "file_extension": ".py",
   "mimetype": "text/x-python",
   "name": "python",
   "nbconvert_exporter": "python",
   "pygments_lexer": "ipython3",
   "version": "3.6.5"
  }
 },
 "nbformat": 4,
 "nbformat_minor": 2
}
